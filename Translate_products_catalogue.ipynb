{
  "nbformat": 4,
  "nbformat_minor": 0,
  "metadata": {
    "kernelspec": {
      "display_name": "Python 3",
      "language": "python",
      "name": "python3"
    },
    "language_info": {
      "codemirror_mode": {
        "name": "ipython",
        "version": 3
      },
      "file_extension": ".py",
      "mimetype": "text/x-python",
      "name": "python",
      "nbconvert_exporter": "python",
      "pygments_lexer": "ipython3",
      "version": "3.8.0"
    },
    "colab": {
      "provenance": [],
      "include_colab_link": true
    }
  },
  "cells": [
    {
      "cell_type": "markdown",
      "metadata": {
        "id": "view-in-github",
        "colab_type": "text"
      },
      "source": [
        "<a href=\"https://colab.research.google.com/github/sheng-999/simplepython/blob/main/Translate_products_catalogue.ipynb\" target=\"_parent\"><img src=\"https://colab.research.google.com/assets/colab-badge.svg\" alt=\"Open In Colab\"/></a>"
      ]
    },
    {
      "cell_type": "markdown",
      "metadata": {
        "id": "fhlLb9BKgfgp"
      },
      "source": [
        " ![Emil](data:image/png;base64,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)"
      ]
    },
    {
      "cell_type": "markdown",
      "source": [
        "1) Download and import [`gwz_product_catalogue.json`](https://drive.google.com/file/d/1ibcWpw_eh0oI8lvccIHwnSrFgqTViN8G/view?usp=sharing) to colab.\n",
        "\n",
        "Execute code below to load data to `gwz_products` variable"
      ],
      "metadata": {
        "id": "QSZY0zRua7vW"
      }
    },
    {
      "cell_type": "code",
      "source": [
        "import json\n",
        "with open('gwz_products_catalogue.json') as json_file:\n",
        "    gwz_products = json.load(json_file)"
      ],
      "metadata": {
        "id": "M_z9WrOabNwE"
      },
      "execution_count": 4,
      "outputs": []
    },
    {
      "cell_type": "markdown",
      "source": [
        "2) How is data structured in this file ?"
      ],
      "metadata": {
        "id": "G2U1k0cZbr8l"
      }
    },
    {
      "cell_type": "code",
      "source": [
        "type(gwz_products)"
      ],
      "metadata": {
        "id": "8woCwm-NcBRw",
        "colab": {
          "base_uri": "https://localhost:8080/"
        },
        "outputId": "c7380715-6278-4681-8354-0a084ebb91f1"
      },
      "execution_count": 6,
      "outputs": [
        {
          "output_type": "execute_result",
          "data": {
            "text/plain": [
              "dict"
            ]
          },
          "metadata": {},
          "execution_count": 6
        }
      ]
    },
    {
      "cell_type": "code",
      "source": [
        "gwz_products.keys()"
      ],
      "metadata": {
        "colab": {
          "base_uri": "https://localhost:8080/"
        },
        "id": "8XuX9qXTJkuN",
        "outputId": "ca9997ac-c211-4c4b-f4f6-d6c6b994dc44"
      },
      "execution_count": 7,
      "outputs": [
        {
          "output_type": "execute_result",
          "data": {
            "text/plain": [
              "dict_keys(['Beauté & Hygiène', 'Boisson', 'Bébé & Enfant', 'Epicerie salée', 'Epicerie sucrée', 'Extérieur', 'Frais', 'Maison', 'Mode, Sports, Loisirs, Livres', 'Santé & Bien-être'])"
            ]
          },
          "metadata": {},
          "execution_count": 7
        }
      ]
    },
    {
      "cell_type": "code",
      "source": [
        "gwz_products['Beauté & Hygiène']"
      ],
      "metadata": {
        "colab": {
          "base_uri": "https://localhost:8080/"
        },
        "id": "RTFGWop_Jyv0",
        "outputId": "89fd8c6c-e43a-4280-b1f0-313ae5248702"
      },
      "execution_count": 10,
      "outputs": [
        {
          "output_type": "execute_result",
          "data": {
            "text/plain": [
              "{'Cosmétique maison DIY': ['Recettes cosmétiques maison',\n",
              "  'Ustensile, contenant DIY'],\n",
              " 'Douche et Bain': ['Brosse et accessoire de bain',\n",
              "  'Galets et sels de bain',\n",
              "  'Gel douche',\n",
              "  'Savon',\n",
              "  'Savon liquide'],\n",
              " 'Epilation': ['Cires épilatoires', 'Crèmes dépilatoires', 'Soins épilation'],\n",
              " 'Hygiène': ['Cotons-tiges',\n",
              "  'Couches adultes, incontinence',\n",
              "  'Coupes menstruelles',\n",
              "  'Culottes menstruelles',\n",
              "  'Déodorants',\n",
              "  'Eponges Konjac',\n",
              "  'Gel intime',\n",
              "  'Mouchoirs',\n",
              "  'Papier toilette',\n",
              "  'Serviettes et protèges slip',\n",
              "  'Soins dentaires',\n",
              "  'Tampons écologiques'],\n",
              " 'Maquillage': ['Le Teint',\n",
              "  'Les Lèvres',\n",
              "  'Les Ongles',\n",
              "  'Les Yeux',\n",
              "  'Pinceaux et accessoires'],\n",
              " 'Soins Homme': ['Déodorants et eau de toilette',\n",
              "  'Rasoir de sécurité, accessoires',\n",
              "  'Soins du visage homme',\n",
              "  'Soins pour la Barbe',\n",
              "  'Soins pour le rasage'],\n",
              " 'Soins Solaires': ['Autobronzants',\n",
              "  'Crèmes solaires bébé et enfants',\n",
              "  'Crèmes solaires corps',\n",
              "  'Crèmes solaires teintées',\n",
              "  'Crèmes solaires visage',\n",
              "  'Monoï'],\n",
              " 'Soins des cheveux': ['Colorations naturelles',\n",
              "  'Gel et crème coiffante',\n",
              "  'Shampoing douche 2 en 1',\n",
              "  'Shampoing par type de cheveux',\n",
              "  'Shampoing traitant',\n",
              "  'Shampoing volume et brillance',\n",
              "  'Soins capillaires'],\n",
              " 'Soins du corps': ['Coffrets corps',\n",
              "  'Eau de toilette et Parfum',\n",
              "  'Gommage',\n",
              "  'Huiles végétales et sèches',\n",
              "  'Laits pour le corps',\n",
              "  'Minceur et fermeté',\n",
              "  'Soins mains et ongles',\n",
              "  'Soins pieds et jambes'],\n",
              " 'Soins du visage': ['Coffret visage',\n",
              "  'Démaquillants et nettoyants',\n",
              "  'Gommages et exfoliants',\n",
              "  'Peaux matures, anti-âge',\n",
              "  'Peaux mixtes à grasses',\n",
              "  'Peaux normales, soins hydratants',\n",
              "  'Peaux sèches et sensibles',\n",
              "  'Saunas Faciaux',\n",
              "  'Soins contour des yeux',\n",
              "  'Soins des lèvres'],\n",
              " \"Soins à l'Argile\": [\"Argile prête à l'emploi\"]}"
            ]
          },
          "metadata": {},
          "execution_count": 10
        }
      ]
    },
    {
      "cell_type": "markdown",
      "source": [
        "Main categories are keys, sub categories as sub keys and products are stored in lists."
      ],
      "metadata": {
        "id": "YgjLLcKrfilh"
      }
    },
    {
      "cell_type": "markdown",
      "source": [
        "3) Execute following command to download `googletrans` which is a translating Python library developped by Google."
      ],
      "metadata": {
        "id": "y0LCJm88cEpR"
      }
    },
    {
      "cell_type": "code",
      "source": [
        "!pip3 install googletrans==3.1.0a0"
      ],
      "metadata": {
        "id": "J7SKoaNQU1lH",
        "colab": {
          "base_uri": "https://localhost:8080/"
        },
        "outputId": "e5e4ec86-2d4d-4f89-ec69-f6d462a73a83"
      },
      "execution_count": 11,
      "outputs": [
        {
          "output_type": "stream",
          "name": "stdout",
          "text": [
            "Collecting googletrans==3.1.0a0\n",
            "  Downloading googletrans-3.1.0a0.tar.gz (19 kB)\n",
            "  Preparing metadata (setup.py) ... \u001b[?25l\u001b[?25hdone\n",
            "Collecting httpx==0.13.3 (from googletrans==3.1.0a0)\n",
            "  Downloading httpx-0.13.3-py3-none-any.whl (55 kB)\n",
            "\u001b[2K     \u001b[90m━━━━━━━━━━━━━━━━━━━━━━━━━━━━━━━━━━━━━━━━\u001b[0m \u001b[32m55.1/55.1 kB\u001b[0m \u001b[31m2.6 MB/s\u001b[0m eta \u001b[36m0:00:00\u001b[0m\n",
            "\u001b[?25hRequirement already satisfied: certifi in /usr/local/lib/python3.10/dist-packages (from httpx==0.13.3->googletrans==3.1.0a0) (2023.7.22)\n",
            "Collecting hstspreload (from httpx==0.13.3->googletrans==3.1.0a0)\n",
            "  Downloading hstspreload-2023.1.1-py3-none-any.whl (1.5 MB)\n",
            "\u001b[2K     \u001b[90m━━━━━━━━━━━━━━━━━━━━━━━━━━━━━━━━━━━━━━━━\u001b[0m \u001b[32m1.5/1.5 MB\u001b[0m \u001b[31m11.4 MB/s\u001b[0m eta \u001b[36m0:00:00\u001b[0m\n",
            "\u001b[?25hRequirement already satisfied: sniffio in /usr/local/lib/python3.10/dist-packages (from httpx==0.13.3->googletrans==3.1.0a0) (1.3.0)\n",
            "Collecting chardet==3.* (from httpx==0.13.3->googletrans==3.1.0a0)\n",
            "  Downloading chardet-3.0.4-py2.py3-none-any.whl (133 kB)\n",
            "\u001b[2K     \u001b[90m━━━━━━━━━━━━━━━━━━━━━━━━━━━━━━━━━━━━━━\u001b[0m \u001b[32m133.4/133.4 kB\u001b[0m \u001b[31m13.5 MB/s\u001b[0m eta \u001b[36m0:00:00\u001b[0m\n",
            "\u001b[?25hCollecting idna==2.* (from httpx==0.13.3->googletrans==3.1.0a0)\n",
            "  Downloading idna-2.10-py2.py3-none-any.whl (58 kB)\n",
            "\u001b[2K     \u001b[90m━━━━━━━━━━━━━━━━━━━━━━━━━━━━━━━━━━━━━━━━\u001b[0m \u001b[32m58.8/58.8 kB\u001b[0m \u001b[31m6.9 MB/s\u001b[0m eta \u001b[36m0:00:00\u001b[0m\n",
            "\u001b[?25hCollecting rfc3986<2,>=1.3 (from httpx==0.13.3->googletrans==3.1.0a0)\n",
            "  Downloading rfc3986-1.5.0-py2.py3-none-any.whl (31 kB)\n",
            "Collecting httpcore==0.9.* (from httpx==0.13.3->googletrans==3.1.0a0)\n",
            "  Downloading httpcore-0.9.1-py3-none-any.whl (42 kB)\n",
            "\u001b[2K     \u001b[90m━━━━━━━━━━━━━━━━━━━━━━━━━━━━━━━━━━━━━━━━\u001b[0m \u001b[32m42.6/42.6 kB\u001b[0m \u001b[31m5.0 MB/s\u001b[0m eta \u001b[36m0:00:00\u001b[0m\n",
            "\u001b[?25hCollecting h11<0.10,>=0.8 (from httpcore==0.9.*->httpx==0.13.3->googletrans==3.1.0a0)\n",
            "  Downloading h11-0.9.0-py2.py3-none-any.whl (53 kB)\n",
            "\u001b[2K     \u001b[90m━━━━━━━━━━━━━━━━━━━━━━━━━━━━━━━━━━━━━━━━\u001b[0m \u001b[32m53.6/53.6 kB\u001b[0m \u001b[31m5.3 MB/s\u001b[0m eta \u001b[36m0:00:00\u001b[0m\n",
            "\u001b[?25hCollecting h2==3.* (from httpcore==0.9.*->httpx==0.13.3->googletrans==3.1.0a0)\n",
            "  Downloading h2-3.2.0-py2.py3-none-any.whl (65 kB)\n",
            "\u001b[2K     \u001b[90m━━━━━━━━━━━━━━━━━━━━━━━━━━━━━━━━━━━━━━━━\u001b[0m \u001b[32m65.0/65.0 kB\u001b[0m \u001b[31m7.7 MB/s\u001b[0m eta \u001b[36m0:00:00\u001b[0m\n",
            "\u001b[?25hCollecting hyperframe<6,>=5.2.0 (from h2==3.*->httpcore==0.9.*->httpx==0.13.3->googletrans==3.1.0a0)\n",
            "  Downloading hyperframe-5.2.0-py2.py3-none-any.whl (12 kB)\n",
            "Collecting hpack<4,>=3.0 (from h2==3.*->httpcore==0.9.*->httpx==0.13.3->googletrans==3.1.0a0)\n",
            "  Downloading hpack-3.0.0-py2.py3-none-any.whl (38 kB)\n",
            "Building wheels for collected packages: googletrans\n",
            "  Building wheel for googletrans (setup.py) ... \u001b[?25l\u001b[?25hdone\n",
            "  Created wheel for googletrans: filename=googletrans-3.1.0a0-py3-none-any.whl size=16353 sha256=63802ec8c157a5ddd82b7d481aac9e56d17d0ab5dc4ebf6e79e025342bb33ab7\n",
            "  Stored in directory: /root/.cache/pip/wheels/50/5d/3c/8477d0af4ca2b8b1308812c09f1930863caeebc762fe265a95\n",
            "Successfully built googletrans\n",
            "Installing collected packages: rfc3986, hyperframe, hpack, h11, chardet, idna, hstspreload, h2, httpcore, httpx, googletrans\n",
            "  Attempting uninstall: chardet\n",
            "    Found existing installation: chardet 4.0.0\n",
            "    Uninstalling chardet-4.0.0:\n",
            "      Successfully uninstalled chardet-4.0.0\n",
            "  Attempting uninstall: idna\n",
            "    Found existing installation: idna 3.4\n",
            "    Uninstalling idna-3.4:\n",
            "      Successfully uninstalled idna-3.4\n",
            "Successfully installed chardet-3.0.4 googletrans-3.1.0a0 h11-0.9.0 h2-3.2.0 hpack-3.0.0 hstspreload-2023.1.1 httpcore-0.9.1 httpx-0.13.3 hyperframe-5.2.0 idna-2.10 rfc3986-1.5.0\n"
          ]
        }
      ]
    },
    {
      "cell_type": "markdown",
      "source": [
        "4) Execute the following code to use Translator from googletrans.\n",
        "\n",
        "What is the type of translator variable? What part of the course does this make you think of?"
      ],
      "metadata": {
        "id": "MnIE_XU_gNXe"
      }
    },
    {
      "cell_type": "code",
      "source": [
        "from googletrans import Translator\n",
        "\n",
        "translator = Translator()"
      ],
      "metadata": {
        "id": "Z0JTamwgUy00"
      },
      "execution_count": 12,
      "outputs": []
    },
    {
      "cell_type": "markdown",
      "source": [
        "`translator` is an object with attributes and methods !"
      ],
      "metadata": {
        "id": "Mmkdvo5CtJNQ"
      }
    },
    {
      "cell_type": "markdown",
      "source": [
        "5) Read the [following documentation](https://pypi.org/project/googletrans/) and find out how to translate \"Je découvre python et j'adore déjà ça !\" in english with code."
      ],
      "metadata": {
        "id": "QpVuGlhpslw3"
      }
    },
    {
      "cell_type": "code",
      "source": [
        "translator.translate(\"Je découvre python et j'adore déjà ça !\", dest= \"en\").text"
      ],
      "metadata": {
        "id": "IliCTslnLzZm",
        "colab": {
          "base_uri": "https://localhost:8080/",
          "height": 35
        },
        "outputId": "825866a2-7488-4823-b925-95862a241561"
      },
      "execution_count": 37,
      "outputs": [
        {
          "output_type": "execute_result",
          "data": {
            "text/plain": [
              "\"I'm new to python and I already love it!\""
            ],
            "application/vnd.google.colaboratory.intrinsic+json": {
              "type": "string"
            }
          },
          "metadata": {},
          "execution_count": 37
        }
      ]
    },
    {
      "cell_type": "code",
      "source": [
        "translator.translate(\"Je découvre python et j'adore déjà ça !\", dest= \"ja\").text"
      ],
      "metadata": {
        "colab": {
          "base_uri": "https://localhost:8080/",
          "height": 35
        },
        "id": "YwiMhSJQNVj2",
        "outputId": "04a2aba8-fc28-4d6b-ab20-c9b99f036e0e"
      },
      "execution_count": 39,
      "outputs": [
        {
          "output_type": "execute_result",
          "data": {
            "text/plain": [
              "'私は Python を初めて使用しましたが、すでに大好きになっています。'"
            ],
            "application/vnd.google.colaboratory.intrinsic+json": {
              "type": "string"
            }
          },
          "metadata": {},
          "execution_count": 39
        }
      ]
    },
    {
      "cell_type": "code",
      "source": [
        "translator.translate(\"Je découvre python et j'adore déjà ça !\", dest= \"es\").text"
      ],
      "metadata": {
        "colab": {
          "base_uri": "https://localhost:8080/",
          "height": 35
        },
        "id": "ehyOAHX0OOX5",
        "outputId": "6d0abab8-43f5-43ef-e733-1c267efc1000"
      },
      "execution_count": 42,
      "outputs": [
        {
          "output_type": "execute_result",
          "data": {
            "text/plain": [
              "'¡Soy nuevo en Python y ya me encanta!'"
            ],
            "application/vnd.google.colaboratory.intrinsic+json": {
              "type": "string"
            }
          },
          "metadata": {},
          "execution_count": 42
        }
      ]
    },
    {
      "cell_type": "markdown",
      "source": [],
      "metadata": {
        "id": "FzslHVrgtSPJ"
      }
    },
    {
      "cell_type": "markdown",
      "source": [
        "6) Create a Python function that takes a string as input and translator variable and returns the translation.\n",
        "\n",
        "Test your function"
      ],
      "metadata": {
        "id": "aoqX0EgViTVs"
      }
    },
    {
      "cell_type": "code",
      "source": [
        "def translation(input_text, dest='en'):\n",
        "  translation = Translator()\n",
        "  output = translator.translate(input_text)\n",
        "  return output.text\n",
        "\n",
        "\n",
        "translation('j\\'aime pas python')\n",
        ""
      ],
      "metadata": {
        "id": "wNqk5_5bL1Hf",
        "colab": {
          "base_uri": "https://localhost:8080/",
          "height": 35
        },
        "outputId": "2178e6b8-765c-4065-d1bc-5bba364c2c46"
      },
      "execution_count": 53,
      "outputs": [
        {
          "output_type": "execute_result",
          "data": {
            "text/plain": [
              "\"i don't like python\""
            ],
            "application/vnd.google.colaboratory.intrinsic+json": {
              "type": "string"
            }
          },
          "metadata": {},
          "execution_count": 53
        }
      ]
    },
    {
      "cell_type": "markdown",
      "source": [
        "7) We will create a translated version of the json file you uploaded.\n",
        "\n",
        "Create a new empty dictionnary and iterate over all keys, sub keys and products and translate them. Keep same data structure."
      ],
      "metadata": {
        "id": "vD1a1a81W9EF"
      }
    },
    {
      "cell_type": "code",
      "source": [
        "\n",
        "gwz_products_translated = {}\n",
        "\n",
        "# iterate over keys\n",
        "for key in gwz_products:\n",
        "\n",
        "  # translate key using your function you created\n",
        "  translated_key = translation(key)\n",
        "\n",
        "  # iterate over sub keys & translation :\n",
        "  translated_sub_keys = {}\n",
        "  for sub_key, sub_value in gwz_products.items():\n",
        "    translated_sub_key = translation(sub_key)\n",
        "    # add translated sub key to gwz_products_translated (be careful, products will be stored in a list)\n",
        "    # iterate over sub products\n",
        "    translated_products = []\n",
        "    for sub_products in sub_value:\n",
        "\n",
        "    # translate product\n",
        "      translated_product = translation(sub_products)\n",
        "      translated_products.append(translated_product)\n",
        "\n",
        "    # add translated product to gwz_products_translated\n",
        "  translated_sub_keys[translated_sub_key] = translated_products\n",
        "  gwz_products_translated[translated_key] = translated_sub_keys\n"
      ],
      "metadata": {
        "id": "QXPMAjwSQ_cc"
      },
      "execution_count": 80,
      "outputs": []
    },
    {
      "cell_type": "markdown",
      "source": [
        "8) Check the results"
      ],
      "metadata": {
        "id": "a-odQbFQlqNN"
      }
    },
    {
      "cell_type": "code",
      "source": [
        "gwz_products_translated\n"
      ],
      "metadata": {
        "id": "hokr7j4elyUk",
        "colab": {
          "base_uri": "https://localhost:8080/"
        },
        "outputId": "c0cb0a09-df6b-4c72-9c50-f87e39f6fdc0"
      },
      "execution_count": 81,
      "outputs": [
        {
          "output_type": "execute_result",
          "data": {
            "text/plain": [
              "{'Beauty & Hygiene': {'Health & Wellness': ['aromatherapy',\n",
              "   'CBD',\n",
              "   'Food supplements',\n",
              "   'Massages, Physiotherapy, Medical',\n",
              "   'Parapharmacy',\n",
              "   'Phytotherapy, gemmotherapy',\n",
              "   'Bee products',\n",
              "   'Relaxation, Relaxation, Sleep']},\n",
              " 'Beverage': {'Health & Wellness': ['aromatherapy',\n",
              "   'CBD',\n",
              "   'Food supplements',\n",
              "   'Massages, Physiotherapy, Medical',\n",
              "   'Parapharmacy',\n",
              "   'Phytotherapy, gemmotherapy',\n",
              "   'Bee products',\n",
              "   'Relaxation, Relaxation, Sleep']},\n",
              " 'Baby & Child': {'Health & Wellness': ['aromatherapy',\n",
              "   'CBD',\n",
              "   'Food supplements',\n",
              "   'Massages, Physiotherapy, Medical',\n",
              "   'Parapharmacy',\n",
              "   'Phytotherapy, gemmotherapy',\n",
              "   'Bee products',\n",
              "   'Relaxation, Relaxation, Sleep']},\n",
              " 'Savory groceries': {'Health & Wellness': ['aromatherapy',\n",
              "   'CBD',\n",
              "   'Food supplements',\n",
              "   'Massages, Physiotherapy, Medical',\n",
              "   'Parapharmacy',\n",
              "   'Phytotherapy, gemmotherapy',\n",
              "   'Bee products',\n",
              "   'Relaxation, Relaxation, Sleep']},\n",
              " 'Sweet groceries': {'Health & Wellness': ['aromatherapy',\n",
              "   'CBD',\n",
              "   'Food supplements',\n",
              "   'Massages, Physiotherapy, Medical',\n",
              "   'Parapharmacy',\n",
              "   'Phytotherapy, gemmotherapy',\n",
              "   'Bee products',\n",
              "   'Relaxation, Relaxation, Sleep']},\n",
              " 'Outside': {'Health & Wellness': ['aromatherapy',\n",
              "   'CBD',\n",
              "   'Food supplements',\n",
              "   'Massages, Physiotherapy, Medical',\n",
              "   'Parapharmacy',\n",
              "   'Phytotherapy, gemmotherapy',\n",
              "   'Bee products',\n",
              "   'Relaxation, Relaxation, Sleep']},\n",
              " 'Costs': {'Health & Wellness': ['aromatherapy',\n",
              "   'CBD',\n",
              "   'Food supplements',\n",
              "   'Massages, Physiotherapy, Medical',\n",
              "   'Parapharmacy',\n",
              "   'Phytotherapy, gemmotherapy',\n",
              "   'Bee products',\n",
              "   'Relaxation, Relaxation, Sleep']},\n",
              " 'Maison': {'Health & Wellness': ['aromatherapy',\n",
              "   'CBD',\n",
              "   'Food supplements',\n",
              "   'Massages, Physiotherapy, Medical',\n",
              "   'Parapharmacy',\n",
              "   'Phytotherapy, gemmotherapy',\n",
              "   'Bee products',\n",
              "   'Relaxation, Relaxation, Sleep']},\n",
              " 'Fashion, Sports, Leisure, Books': {'Health & Wellness': ['aromatherapy',\n",
              "   'CBD',\n",
              "   'Food supplements',\n",
              "   'Massages, Physiotherapy, Medical',\n",
              "   'Parapharmacy',\n",
              "   'Phytotherapy, gemmotherapy',\n",
              "   'Bee products',\n",
              "   'Relaxation, Relaxation, Sleep']},\n",
              " 'Health & Wellness': {'Health & Wellness': ['aromatherapy',\n",
              "   'CBD',\n",
              "   'Food supplements',\n",
              "   'Massages, Physiotherapy, Medical',\n",
              "   'Parapharmacy',\n",
              "   'Phytotherapy, gemmotherapy',\n",
              "   'Bee products',\n",
              "   'Relaxation, Relaxation, Sleep']}}"
            ]
          },
          "metadata": {},
          "execution_count": 81
        }
      ]
    },
    {
      "cell_type": "markdown",
      "source": [
        "9) Congratulations you made it !\n",
        "\n",
        "The translated products need to be reviewed by the product team. Unfortunatly, product team doesn't know how to read json files.\n",
        "\n",
        "Indeed some words are mistranslated like \"bouillottes\" which mean \"hot water bottles\".\n",
        "\n",
        "They want a csv file with three columns : category, sub_category and product.\n",
        "\n",
        "Create this DataFrame.\n",
        "\n",
        "*hint : start by creating a list of dictionnaries, each dictionnary with three keys (category, sub_category, product). Transform this list to a DataFrame and finally save it to csv format.*"
      ],
      "metadata": {
        "id": "yrCbmXARmV2b"
      }
    },
    {
      "cell_type": "code",
      "source": [
        "import pandas as pd\n"
      ],
      "metadata": {
        "id": "Bz-5d969LjaK"
      },
      "execution_count": 83,
      "outputs": []
    },
    {
      "cell_type": "code",
      "source": [
        "all_products = []\n",
        "for category, sub_categories in gwz_products_translated.items():\n",
        "  for sub_category, products in sub_categories.items():\n",
        "    for product in products:\n",
        "      all_products.append(\n",
        "          {\n",
        "              'category': category,\n",
        "              'sub_category': sub_category,\n",
        "              'products': product\n",
        "          }\n",
        "      )\n",
        "\n",
        "\n",
        "# transform it to DataFrame\n",
        "df = pd.DataFrame(all_products)\n",
        "df.to_csv('translated_info.csv', index=False)"
      ],
      "metadata": {
        "id": "5Wki6LxepX7e"
      },
      "execution_count": 84,
      "outputs": []
    }
  ]
}