{
  "cells": [
    {
      "cell_type": "markdown",
      "metadata": {
        "id": "view-in-github",
        "colab_type": "text"
      },
      "source": [
        "<a href=\"https://colab.research.google.com/github/sheng-999/simplepython/blob/sheng-999-upload-files/Greenweez_Home_Page.ipynb\" target=\"_parent\"><img src=\"https://colab.research.google.com/assets/colab-badge.svg\" alt=\"Open In Colab\"/></a>"
      ]
    },
    {
      "cell_type": "markdown",
      "id": "c5e5c2ac",
      "metadata": {
        "id": "c5e5c2ac"
      },
      "source": [
        "# Greenweez Home Page"
      ]
    },
    {
      "cell_type": "markdown",
      "id": "bb1ba2f6",
      "metadata": {
        "id": "bb1ba2f6"
      },
      "source": [
        "The home page is very important for a website. It generates a lot of traffic and is the showcase of the site. The traffic optimisation team wants to optimise the homepage. They hesitate between two versions.\n",
        "\n"
      ]
    },
    {
      "cell_type": "markdown",
      "id": "2ea22e6a",
      "metadata": {
        "id": "2ea22e6a"
      },
      "source": [
        "### Here are the two versions:\n",
        "\n",
        "[Variant A](https://drive.google.com/file/d/1LqPXgeOJ8QQ1ZfcO4_Mz26lehmyOkles/view) - Slider with a white design\n",
        "\n",
        "[Variant B](https://drive.google.com/file/d/1rBydNNlrg5d1AmGXo8-9DsfrbE-tuAox/view) - Static page with a green design"
      ]
    },
    {
      "cell_type": "markdown",
      "id": "684736b9",
      "metadata": {
        "id": "684736b9"
      },
      "source": [
        "### We need to split the users\n",
        "\n",
        "Before we can actually run the AB Test, we need to segment our users into two groups. Let's start by importing the user data from the customers tab in [this spreadsheet](https://docs.google.com/spreadsheets/d/1lpyAhs6Yh2WZ-zqKrpfxKN08fZ3PTISvS2ajl3L6Avk/edit#gid=386045473)."
      ]
    },
    {
      "cell_type": "code",
      "execution_count": 1,
      "id": "f281d52d",
      "metadata": {
        "id": "f281d52d"
      },
      "outputs": [],
      "source": [
        "# Import the data (also import the necessary packages)\n",
        "import pandas as pd\n",
        "from sklearn.utils import shuffle"
      ]
    },
    {
      "cell_type": "code",
      "source": [
        "sheet_id = '1HwstwFa5Iy4xPPGNvmPjJqtqaqO04LP-OfvtkwO5CBw'\n",
        "sheet_name = 'customers'\n",
        "# url = f'https://docs.google.com/spreadsheets/d/{id}/edit#gid=386045473'\n"
      ],
      "metadata": {
        "id": "fmciPAh4QFyb"
      },
      "id": "fmciPAh4QFyb",
      "execution_count": null,
      "outputs": []
    },
    {
      "cell_type": "code",
      "source": [
        "file_path = '/content/Greenweez Home Page Results.xlsx'\n",
        "df_customer= pd.read_excel(file_path,sheet_name='customers',engine='openpyxl')"
      ],
      "metadata": {
        "id": "siu2w4lFBfDv"
      },
      "id": "siu2w4lFBfDv",
      "execution_count": 3,
      "outputs": []
    },
    {
      "cell_type": "code",
      "execution_count": 5,
      "id": "5fdef8ec",
      "metadata": {
        "scrolled": true,
        "id": "5fdef8ec",
        "outputId": "a946512b-f026-4bd7-cb65-76765e56cd8b",
        "colab": {
          "base_uri": "https://localhost:8080/",
          "height": 424
        }
      },
      "outputs": [
        {
          "output_type": "execute_result",
          "data": {
            "text/plain": [
              "       customers_id  avg_basket\n",
              "0              9731      202.59\n",
              "1             61582       22.92\n",
              "2            305054       32.05\n",
              "3            305036       30.46\n",
              "4             10969       87.93\n",
              "...             ...         ...\n",
              "39995        273264       35.46\n",
              "39996        273371       87.03\n",
              "39997         70803       50.49\n",
              "39998          6743       86.19\n",
              "39999         66636      195.53\n",
              "\n",
              "[40000 rows x 2 columns]"
            ],
            "text/html": [
              "\n",
              "  <div id=\"df-ea20d359-6784-4173-9fdc-f098622b661d\" class=\"colab-df-container\">\n",
              "    <div>\n",
              "<style scoped>\n",
              "    .dataframe tbody tr th:only-of-type {\n",
              "        vertical-align: middle;\n",
              "    }\n",
              "\n",
              "    .dataframe tbody tr th {\n",
              "        vertical-align: top;\n",
              "    }\n",
              "\n",
              "    .dataframe thead th {\n",
              "        text-align: right;\n",
              "    }\n",
              "</style>\n",
              "<table border=\"1\" class=\"dataframe\">\n",
              "  <thead>\n",
              "    <tr style=\"text-align: right;\">\n",
              "      <th></th>\n",
              "      <th>customers_id</th>\n",
              "      <th>avg_basket</th>\n",
              "    </tr>\n",
              "  </thead>\n",
              "  <tbody>\n",
              "    <tr>\n",
              "      <th>0</th>\n",
              "      <td>9731</td>\n",
              "      <td>202.59</td>\n",
              "    </tr>\n",
              "    <tr>\n",
              "      <th>1</th>\n",
              "      <td>61582</td>\n",
              "      <td>22.92</td>\n",
              "    </tr>\n",
              "    <tr>\n",
              "      <th>2</th>\n",
              "      <td>305054</td>\n",
              "      <td>32.05</td>\n",
              "    </tr>\n",
              "    <tr>\n",
              "      <th>3</th>\n",
              "      <td>305036</td>\n",
              "      <td>30.46</td>\n",
              "    </tr>\n",
              "    <tr>\n",
              "      <th>4</th>\n",
              "      <td>10969</td>\n",
              "      <td>87.93</td>\n",
              "    </tr>\n",
              "    <tr>\n",
              "      <th>...</th>\n",
              "      <td>...</td>\n",
              "      <td>...</td>\n",
              "    </tr>\n",
              "    <tr>\n",
              "      <th>39995</th>\n",
              "      <td>273264</td>\n",
              "      <td>35.46</td>\n",
              "    </tr>\n",
              "    <tr>\n",
              "      <th>39996</th>\n",
              "      <td>273371</td>\n",
              "      <td>87.03</td>\n",
              "    </tr>\n",
              "    <tr>\n",
              "      <th>39997</th>\n",
              "      <td>70803</td>\n",
              "      <td>50.49</td>\n",
              "    </tr>\n",
              "    <tr>\n",
              "      <th>39998</th>\n",
              "      <td>6743</td>\n",
              "      <td>86.19</td>\n",
              "    </tr>\n",
              "    <tr>\n",
              "      <th>39999</th>\n",
              "      <td>66636</td>\n",
              "      <td>195.53</td>\n",
              "    </tr>\n",
              "  </tbody>\n",
              "</table>\n",
              "<p>40000 rows × 2 columns</p>\n",
              "</div>\n",
              "    <div class=\"colab-df-buttons\">\n",
              "\n",
              "  <div class=\"colab-df-container\">\n",
              "    <button class=\"colab-df-convert\" onclick=\"convertToInteractive('df-ea20d359-6784-4173-9fdc-f098622b661d')\"\n",
              "            title=\"Convert this dataframe to an interactive table.\"\n",
              "            style=\"display:none;\">\n",
              "\n",
              "  <svg xmlns=\"http://www.w3.org/2000/svg\" height=\"24px\" viewBox=\"0 -960 960 960\">\n",
              "    <path d=\"M120-120v-720h720v720H120Zm60-500h600v-160H180v160Zm220 220h160v-160H400v160Zm0 220h160v-160H400v160ZM180-400h160v-160H180v160Zm440 0h160v-160H620v160ZM180-180h160v-160H180v160Zm440 0h160v-160H620v160Z\"/>\n",
              "  </svg>\n",
              "    </button>\n",
              "\n",
              "  <style>\n",
              "    .colab-df-container {\n",
              "      display:flex;\n",
              "      gap: 12px;\n",
              "    }\n",
              "\n",
              "    .colab-df-convert {\n",
              "      background-color: #E8F0FE;\n",
              "      border: none;\n",
              "      border-radius: 50%;\n",
              "      cursor: pointer;\n",
              "      display: none;\n",
              "      fill: #1967D2;\n",
              "      height: 32px;\n",
              "      padding: 0 0 0 0;\n",
              "      width: 32px;\n",
              "    }\n",
              "\n",
              "    .colab-df-convert:hover {\n",
              "      background-color: #E2EBFA;\n",
              "      box-shadow: 0px 1px 2px rgba(60, 64, 67, 0.3), 0px 1px 3px 1px rgba(60, 64, 67, 0.15);\n",
              "      fill: #174EA6;\n",
              "    }\n",
              "\n",
              "    .colab-df-buttons div {\n",
              "      margin-bottom: 4px;\n",
              "    }\n",
              "\n",
              "    [theme=dark] .colab-df-convert {\n",
              "      background-color: #3B4455;\n",
              "      fill: #D2E3FC;\n",
              "    }\n",
              "\n",
              "    [theme=dark] .colab-df-convert:hover {\n",
              "      background-color: #434B5C;\n",
              "      box-shadow: 0px 1px 3px 1px rgba(0, 0, 0, 0.15);\n",
              "      filter: drop-shadow(0px 1px 2px rgba(0, 0, 0, 0.3));\n",
              "      fill: #FFFFFF;\n",
              "    }\n",
              "  </style>\n",
              "\n",
              "    <script>\n",
              "      const buttonEl =\n",
              "        document.querySelector('#df-ea20d359-6784-4173-9fdc-f098622b661d button.colab-df-convert');\n",
              "      buttonEl.style.display =\n",
              "        google.colab.kernel.accessAllowed ? 'block' : 'none';\n",
              "\n",
              "      async function convertToInteractive(key) {\n",
              "        const element = document.querySelector('#df-ea20d359-6784-4173-9fdc-f098622b661d');\n",
              "        const dataTable =\n",
              "          await google.colab.kernel.invokeFunction('convertToInteractive',\n",
              "                                                    [key], {});\n",
              "        if (!dataTable) return;\n",
              "\n",
              "        const docLinkHtml = 'Like what you see? Visit the ' +\n",
              "          '<a target=\"_blank\" href=https://colab.research.google.com/notebooks/data_table.ipynb>data table notebook</a>'\n",
              "          + ' to learn more about interactive tables.';\n",
              "        element.innerHTML = '';\n",
              "        dataTable['output_type'] = 'display_data';\n",
              "        await google.colab.output.renderOutput(dataTable, element);\n",
              "        const docLink = document.createElement('div');\n",
              "        docLink.innerHTML = docLinkHtml;\n",
              "        element.appendChild(docLink);\n",
              "      }\n",
              "    </script>\n",
              "  </div>\n",
              "\n",
              "\n",
              "<div id=\"df-c7996209-10f2-4fe0-a1e3-233f7148fda7\">\n",
              "  <button class=\"colab-df-quickchart\" onclick=\"quickchart('df-c7996209-10f2-4fe0-a1e3-233f7148fda7')\"\n",
              "            title=\"Suggest charts.\"\n",
              "            style=\"display:none;\">\n",
              "\n",
              "<svg xmlns=\"http://www.w3.org/2000/svg\" height=\"24px\"viewBox=\"0 0 24 24\"\n",
              "     width=\"24px\">\n",
              "    <g>\n",
              "        <path d=\"M19 3H5c-1.1 0-2 .9-2 2v14c0 1.1.9 2 2 2h14c1.1 0 2-.9 2-2V5c0-1.1-.9-2-2-2zM9 17H7v-7h2v7zm4 0h-2V7h2v10zm4 0h-2v-4h2v4z\"/>\n",
              "    </g>\n",
              "</svg>\n",
              "  </button>\n",
              "\n",
              "<style>\n",
              "  .colab-df-quickchart {\n",
              "    background-color: #E8F0FE;\n",
              "    border: none;\n",
              "    border-radius: 50%;\n",
              "    cursor: pointer;\n",
              "    display: none;\n",
              "    fill: #1967D2;\n",
              "    height: 32px;\n",
              "    padding: 0 0 0 0;\n",
              "    width: 32px;\n",
              "  }\n",
              "\n",
              "  .colab-df-quickchart:hover {\n",
              "    background-color: #E2EBFA;\n",
              "    box-shadow: 0px 1px 2px rgba(60, 64, 67, 0.3), 0px 1px 3px 1px rgba(60, 64, 67, 0.15);\n",
              "    fill: #174EA6;\n",
              "  }\n",
              "\n",
              "  [theme=dark] .colab-df-quickchart {\n",
              "    background-color: #3B4455;\n",
              "    fill: #D2E3FC;\n",
              "  }\n",
              "\n",
              "  [theme=dark] .colab-df-quickchart:hover {\n",
              "    background-color: #434B5C;\n",
              "    box-shadow: 0px 1px 3px 1px rgba(0, 0, 0, 0.15);\n",
              "    filter: drop-shadow(0px 1px 2px rgba(0, 0, 0, 0.3));\n",
              "    fill: #FFFFFF;\n",
              "  }\n",
              "</style>\n",
              "\n",
              "  <script>\n",
              "    async function quickchart(key) {\n",
              "      const charts = await google.colab.kernel.invokeFunction(\n",
              "          'suggestCharts', [key], {});\n",
              "    }\n",
              "    (() => {\n",
              "      let quickchartButtonEl =\n",
              "        document.querySelector('#df-c7996209-10f2-4fe0-a1e3-233f7148fda7 button');\n",
              "      quickchartButtonEl.style.display =\n",
              "        google.colab.kernel.accessAllowed ? 'block' : 'none';\n",
              "    })();\n",
              "  </script>\n",
              "</div>\n",
              "    </div>\n",
              "  </div>\n"
            ]
          },
          "metadata": {},
          "execution_count": 5
        }
      ],
      "source": [
        "# Let's take a look at our dataframe\n",
        "df_customer"
      ]
    },
    {
      "cell_type": "markdown",
      "id": "8346cf72",
      "metadata": {
        "id": "8346cf72"
      },
      "source": [
        "Let's adopt a naive strategy first - splitting by median customers_id"
      ]
    },
    {
      "cell_type": "code",
      "execution_count": 6,
      "id": "e28f4847",
      "metadata": {
        "id": "e28f4847",
        "colab": {
          "base_uri": "https://localhost:8080/"
        },
        "outputId": "8470e389-e6dd-4f1b-f9c4-af3b1eb48553"
      },
      "outputs": [
        {
          "output_type": "stream",
          "name": "stdout",
          "text": [
            "218866.5\n",
            "Empty DataFrame\n",
            "Columns: [customers_id, avg_basket]\n",
            "Index: []\n"
          ]
        }
      ],
      "source": [
        "median_customers_id = df_customer['customers_id'].median()\n",
        "print(median_customers_id)\n",
        "# check if the median value is exist\n",
        "print(df_customer[df_customer['customers_id'] == median_customers_id])"
      ]
    },
    {
      "cell_type": "code",
      "source": [
        "A_group = df_customer[df_customer['customers_id'] < median_customers_id]\n",
        "B_group = df_customer[df_customer['customers_id'] > median_customers_id]"
      ],
      "metadata": {
        "id": "gGbhCCMADetw"
      },
      "id": "gGbhCCMADetw",
      "execution_count": 7,
      "outputs": []
    },
    {
      "cell_type": "markdown",
      "id": "b9497440",
      "metadata": {
        "id": "b9497440"
      },
      "source": [
        "Did we do a good job? Let's look at the mean avg_basket for both groups"
      ]
    },
    {
      "cell_type": "code",
      "source": [
        "A_group['avg_basket'].mean(),B_group['avg_basket'].mean()\n",
        "# 76.670484, 52.311416\n",
        "# 76.670484, 52.311415999999994"
      ],
      "metadata": {
        "colab": {
          "base_uri": "https://localhost:8080/"
        },
        "id": "HO4oZF4eEdTR",
        "outputId": "10e2880d-bdf2-4f0c-8158-d56e25a123e5"
      },
      "id": "HO4oZF4eEdTR",
      "execution_count": 8,
      "outputs": [
        {
          "output_type": "execute_result",
          "data": {
            "text/plain": [
              "(76.670484, 52.311416)"
            ]
          },
          "metadata": {},
          "execution_count": 8
        }
      ]
    },
    {
      "cell_type": "markdown",
      "id": "1566999a",
      "metadata": {
        "id": "1566999a"
      },
      "source": [
        "That's quite a difference! Should we try another strategy?\n",
        "Let's divide the two groups randomly. Check out [this](https://stackoverflow.com/questions/29576430/shuffle-dataframe-rows) StackOverflow thread on how to do that."
      ]
    },
    {
      "cell_type": "code",
      "execution_count": 9,
      "id": "d384eae4",
      "metadata": {
        "id": "d384eae4"
      },
      "outputs": [],
      "source": [
        "# mix the DF\n",
        "shuffled = df_customer.sample(frac=1)\n",
        "group1 = shuffled[:20000]\n",
        "group2 = shuffled[20000:]"
      ]
    },
    {
      "cell_type": "markdown",
      "id": "54946cb3",
      "metadata": {
        "id": "54946cb3"
      },
      "source": [
        "Let's check the avg_basket again. We should have done a better job!"
      ]
    },
    {
      "cell_type": "code",
      "execution_count": 10,
      "id": "eb2496cc",
      "metadata": {
        "id": "eb2496cc",
        "outputId": "8f76a477-5cda-442d-9cbe-fb078f9cc1d1",
        "colab": {
          "base_uri": "https://localhost:8080/"
        }
      },
      "outputs": [
        {
          "output_type": "execute_result",
          "data": {
            "text/plain": [
              "(64.357677, 64.624223)"
            ]
          },
          "metadata": {},
          "execution_count": 10
        }
      ],
      "source": [
        "group1['avg_basket'].mean(),group2['avg_basket'].mean()"
      ]
    },
    {
      "cell_type": "markdown",
      "id": "f4c94d01",
      "metadata": {
        "id": "f4c94d01"
      },
      "source": [
        "### The results are in"
      ]
    },
    {
      "cell_type": "markdown",
      "id": "3313cb04",
      "metadata": {
        "id": "3313cb04"
      },
      "source": [
        "After 4 weeks, the web developers have gotten back to you with the results of the [test](https://docs.google.com/spreadsheets/d/1lpyAhs6Yh2WZ-zqKrpfxKN08fZ3PTISvS2ajl3L6Avk/edit?usp=sharing). Let's analyse them to see which variant is the best. Take some time to make sense of the different columns in the *4 weeks* table. Then, download the file as CSV and load it in the next cell."
      ]
    },
    {
      "cell_type": "code",
      "execution_count": 11,
      "id": "9dcde0fd",
      "metadata": {
        "id": "9dcde0fd"
      },
      "outputs": [],
      "source": [
        "# Load in the CSV of the first day.\n",
        "df4= pd.read_excel(file_path,sheet_name='4 weeks',engine='openpyxl')"
      ]
    },
    {
      "cell_type": "code",
      "execution_count": 12,
      "id": "7a79d72c",
      "metadata": {
        "scrolled": true,
        "id": "7a79d72c",
        "outputId": "67bea6e1-b80a-45fc-d0cb-ba487a11f268",
        "colab": {
          "base_uri": "https://localhost:8080/",
          "height": 143
        }
      },
      "outputs": [
        {
          "output_type": "execute_result",
          "data": {
            "text/plain": [
              "  AB test group  Nb sessions  Nb bounces  % bounces  Nb pages  \\\n",
              "0  Slider blank       243210       90310   0.371325    406734   \n",
              "1  Static green       243920       92031   0.377300    405872   \n",
              "2         Total       487130      182341   0.374317    812606   \n",
              "\n",
              "   Page / Sessions  Nb transactions  % conversions  \n",
              "0         1.672357            16904       0.069504  \n",
              "1         1.663955            16699       0.068461  \n",
              "2         1.668150            33603       0.068982  "
            ],
            "text/html": [
              "\n",
              "  <div id=\"df-2487d1cd-6af6-4f35-adf9-7f2331b796e2\" class=\"colab-df-container\">\n",
              "    <div>\n",
              "<style scoped>\n",
              "    .dataframe tbody tr th:only-of-type {\n",
              "        vertical-align: middle;\n",
              "    }\n",
              "\n",
              "    .dataframe tbody tr th {\n",
              "        vertical-align: top;\n",
              "    }\n",
              "\n",
              "    .dataframe thead th {\n",
              "        text-align: right;\n",
              "    }\n",
              "</style>\n",
              "<table border=\"1\" class=\"dataframe\">\n",
              "  <thead>\n",
              "    <tr style=\"text-align: right;\">\n",
              "      <th></th>\n",
              "      <th>AB test group</th>\n",
              "      <th>Nb sessions</th>\n",
              "      <th>Nb bounces</th>\n",
              "      <th>% bounces</th>\n",
              "      <th>Nb pages</th>\n",
              "      <th>Page / Sessions</th>\n",
              "      <th>Nb transactions</th>\n",
              "      <th>% conversions</th>\n",
              "    </tr>\n",
              "  </thead>\n",
              "  <tbody>\n",
              "    <tr>\n",
              "      <th>0</th>\n",
              "      <td>Slider blank</td>\n",
              "      <td>243210</td>\n",
              "      <td>90310</td>\n",
              "      <td>0.371325</td>\n",
              "      <td>406734</td>\n",
              "      <td>1.672357</td>\n",
              "      <td>16904</td>\n",
              "      <td>0.069504</td>\n",
              "    </tr>\n",
              "    <tr>\n",
              "      <th>1</th>\n",
              "      <td>Static green</td>\n",
              "      <td>243920</td>\n",
              "      <td>92031</td>\n",
              "      <td>0.377300</td>\n",
              "      <td>405872</td>\n",
              "      <td>1.663955</td>\n",
              "      <td>16699</td>\n",
              "      <td>0.068461</td>\n",
              "    </tr>\n",
              "    <tr>\n",
              "      <th>2</th>\n",
              "      <td>Total</td>\n",
              "      <td>487130</td>\n",
              "      <td>182341</td>\n",
              "      <td>0.374317</td>\n",
              "      <td>812606</td>\n",
              "      <td>1.668150</td>\n",
              "      <td>33603</td>\n",
              "      <td>0.068982</td>\n",
              "    </tr>\n",
              "  </tbody>\n",
              "</table>\n",
              "</div>\n",
              "    <div class=\"colab-df-buttons\">\n",
              "\n",
              "  <div class=\"colab-df-container\">\n",
              "    <button class=\"colab-df-convert\" onclick=\"convertToInteractive('df-2487d1cd-6af6-4f35-adf9-7f2331b796e2')\"\n",
              "            title=\"Convert this dataframe to an interactive table.\"\n",
              "            style=\"display:none;\">\n",
              "\n",
              "  <svg xmlns=\"http://www.w3.org/2000/svg\" height=\"24px\" viewBox=\"0 -960 960 960\">\n",
              "    <path d=\"M120-120v-720h720v720H120Zm60-500h600v-160H180v160Zm220 220h160v-160H400v160Zm0 220h160v-160H400v160ZM180-400h160v-160H180v160Zm440 0h160v-160H620v160ZM180-180h160v-160H180v160Zm440 0h160v-160H620v160Z\"/>\n",
              "  </svg>\n",
              "    </button>\n",
              "\n",
              "  <style>\n",
              "    .colab-df-container {\n",
              "      display:flex;\n",
              "      gap: 12px;\n",
              "    }\n",
              "\n",
              "    .colab-df-convert {\n",
              "      background-color: #E8F0FE;\n",
              "      border: none;\n",
              "      border-radius: 50%;\n",
              "      cursor: pointer;\n",
              "      display: none;\n",
              "      fill: #1967D2;\n",
              "      height: 32px;\n",
              "      padding: 0 0 0 0;\n",
              "      width: 32px;\n",
              "    }\n",
              "\n",
              "    .colab-df-convert:hover {\n",
              "      background-color: #E2EBFA;\n",
              "      box-shadow: 0px 1px 2px rgba(60, 64, 67, 0.3), 0px 1px 3px 1px rgba(60, 64, 67, 0.15);\n",
              "      fill: #174EA6;\n",
              "    }\n",
              "\n",
              "    .colab-df-buttons div {\n",
              "      margin-bottom: 4px;\n",
              "    }\n",
              "\n",
              "    [theme=dark] .colab-df-convert {\n",
              "      background-color: #3B4455;\n",
              "      fill: #D2E3FC;\n",
              "    }\n",
              "\n",
              "    [theme=dark] .colab-df-convert:hover {\n",
              "      background-color: #434B5C;\n",
              "      box-shadow: 0px 1px 3px 1px rgba(0, 0, 0, 0.15);\n",
              "      filter: drop-shadow(0px 1px 2px rgba(0, 0, 0, 0.3));\n",
              "      fill: #FFFFFF;\n",
              "    }\n",
              "  </style>\n",
              "\n",
              "    <script>\n",
              "      const buttonEl =\n",
              "        document.querySelector('#df-2487d1cd-6af6-4f35-adf9-7f2331b796e2 button.colab-df-convert');\n",
              "      buttonEl.style.display =\n",
              "        google.colab.kernel.accessAllowed ? 'block' : 'none';\n",
              "\n",
              "      async function convertToInteractive(key) {\n",
              "        const element = document.querySelector('#df-2487d1cd-6af6-4f35-adf9-7f2331b796e2');\n",
              "        const dataTable =\n",
              "          await google.colab.kernel.invokeFunction('convertToInteractive',\n",
              "                                                    [key], {});\n",
              "        if (!dataTable) return;\n",
              "\n",
              "        const docLinkHtml = 'Like what you see? Visit the ' +\n",
              "          '<a target=\"_blank\" href=https://colab.research.google.com/notebooks/data_table.ipynb>data table notebook</a>'\n",
              "          + ' to learn more about interactive tables.';\n",
              "        element.innerHTML = '';\n",
              "        dataTable['output_type'] = 'display_data';\n",
              "        await google.colab.output.renderOutput(dataTable, element);\n",
              "        const docLink = document.createElement('div');\n",
              "        docLink.innerHTML = docLinkHtml;\n",
              "        element.appendChild(docLink);\n",
              "      }\n",
              "    </script>\n",
              "  </div>\n",
              "\n",
              "\n",
              "<div id=\"df-dd78a14b-7391-4233-84ab-61cf4b11f960\">\n",
              "  <button class=\"colab-df-quickchart\" onclick=\"quickchart('df-dd78a14b-7391-4233-84ab-61cf4b11f960')\"\n",
              "            title=\"Suggest charts.\"\n",
              "            style=\"display:none;\">\n",
              "\n",
              "<svg xmlns=\"http://www.w3.org/2000/svg\" height=\"24px\"viewBox=\"0 0 24 24\"\n",
              "     width=\"24px\">\n",
              "    <g>\n",
              "        <path d=\"M19 3H5c-1.1 0-2 .9-2 2v14c0 1.1.9 2 2 2h14c1.1 0 2-.9 2-2V5c0-1.1-.9-2-2-2zM9 17H7v-7h2v7zm4 0h-2V7h2v10zm4 0h-2v-4h2v4z\"/>\n",
              "    </g>\n",
              "</svg>\n",
              "  </button>\n",
              "\n",
              "<style>\n",
              "  .colab-df-quickchart {\n",
              "    background-color: #E8F0FE;\n",
              "    border: none;\n",
              "    border-radius: 50%;\n",
              "    cursor: pointer;\n",
              "    display: none;\n",
              "    fill: #1967D2;\n",
              "    height: 32px;\n",
              "    padding: 0 0 0 0;\n",
              "    width: 32px;\n",
              "  }\n",
              "\n",
              "  .colab-df-quickchart:hover {\n",
              "    background-color: #E2EBFA;\n",
              "    box-shadow: 0px 1px 2px rgba(60, 64, 67, 0.3), 0px 1px 3px 1px rgba(60, 64, 67, 0.15);\n",
              "    fill: #174EA6;\n",
              "  }\n",
              "\n",
              "  [theme=dark] .colab-df-quickchart {\n",
              "    background-color: #3B4455;\n",
              "    fill: #D2E3FC;\n",
              "  }\n",
              "\n",
              "  [theme=dark] .colab-df-quickchart:hover {\n",
              "    background-color: #434B5C;\n",
              "    box-shadow: 0px 1px 3px 1px rgba(0, 0, 0, 0.15);\n",
              "    filter: drop-shadow(0px 1px 2px rgba(0, 0, 0, 0.3));\n",
              "    fill: #FFFFFF;\n",
              "  }\n",
              "</style>\n",
              "\n",
              "  <script>\n",
              "    async function quickchart(key) {\n",
              "      const charts = await google.colab.kernel.invokeFunction(\n",
              "          'suggestCharts', [key], {});\n",
              "    }\n",
              "    (() => {\n",
              "      let quickchartButtonEl =\n",
              "        document.querySelector('#df-dd78a14b-7391-4233-84ab-61cf4b11f960 button');\n",
              "      quickchartButtonEl.style.display =\n",
              "        google.colab.kernel.accessAllowed ? 'block' : 'none';\n",
              "    })();\n",
              "  </script>\n",
              "</div>\n",
              "    </div>\n",
              "  </div>\n"
            ]
          },
          "metadata": {},
          "execution_count": 12
        }
      ],
      "source": [
        "# Have a look at your newly created dataframe\n",
        "df4\n"
      ]
    },
    {
      "cell_type": "code",
      "source": [
        "# Let's reset the index to the \"AB test group\" column\n",
        "df4.set_index('AB test group', inplace=True)"
      ],
      "metadata": {
        "id": "gkAHXxkPwLUB"
      },
      "id": "gkAHXxkPwLUB",
      "execution_count": 13,
      "outputs": []
    },
    {
      "cell_type": "code",
      "source": [
        "df4"
      ],
      "metadata": {
        "colab": {
          "base_uri": "https://localhost:8080/",
          "height": 175
        },
        "id": "CjIXDyUSTSR3",
        "outputId": "28bd4192-fc4b-4967-b3c4-1039ce0ea6d1"
      },
      "id": "CjIXDyUSTSR3",
      "execution_count": 14,
      "outputs": [
        {
          "output_type": "execute_result",
          "data": {
            "text/plain": [
              "               Nb sessions  Nb bounces  % bounces  Nb pages  Page / Sessions  \\\n",
              "AB test group                                                                  \n",
              "Slider blank        243210       90310   0.371325    406734         1.672357   \n",
              "Static green        243920       92031   0.377300    405872         1.663955   \n",
              "Total               487130      182341   0.374317    812606         1.668150   \n",
              "\n",
              "               Nb transactions  % conversions  \n",
              "AB test group                                  \n",
              "Slider blank             16904       0.069504  \n",
              "Static green             16699       0.068461  \n",
              "Total                    33603       0.068982  "
            ],
            "text/html": [
              "\n",
              "  <div id=\"df-1d497c83-58a3-413b-bdf9-648f949417e5\" class=\"colab-df-container\">\n",
              "    <div>\n",
              "<style scoped>\n",
              "    .dataframe tbody tr th:only-of-type {\n",
              "        vertical-align: middle;\n",
              "    }\n",
              "\n",
              "    .dataframe tbody tr th {\n",
              "        vertical-align: top;\n",
              "    }\n",
              "\n",
              "    .dataframe thead th {\n",
              "        text-align: right;\n",
              "    }\n",
              "</style>\n",
              "<table border=\"1\" class=\"dataframe\">\n",
              "  <thead>\n",
              "    <tr style=\"text-align: right;\">\n",
              "      <th></th>\n",
              "      <th>Nb sessions</th>\n",
              "      <th>Nb bounces</th>\n",
              "      <th>% bounces</th>\n",
              "      <th>Nb pages</th>\n",
              "      <th>Page / Sessions</th>\n",
              "      <th>Nb transactions</th>\n",
              "      <th>% conversions</th>\n",
              "    </tr>\n",
              "    <tr>\n",
              "      <th>AB test group</th>\n",
              "      <th></th>\n",
              "      <th></th>\n",
              "      <th></th>\n",
              "      <th></th>\n",
              "      <th></th>\n",
              "      <th></th>\n",
              "      <th></th>\n",
              "    </tr>\n",
              "  </thead>\n",
              "  <tbody>\n",
              "    <tr>\n",
              "      <th>Slider blank</th>\n",
              "      <td>243210</td>\n",
              "      <td>90310</td>\n",
              "      <td>0.371325</td>\n",
              "      <td>406734</td>\n",
              "      <td>1.672357</td>\n",
              "      <td>16904</td>\n",
              "      <td>0.069504</td>\n",
              "    </tr>\n",
              "    <tr>\n",
              "      <th>Static green</th>\n",
              "      <td>243920</td>\n",
              "      <td>92031</td>\n",
              "      <td>0.377300</td>\n",
              "      <td>405872</td>\n",
              "      <td>1.663955</td>\n",
              "      <td>16699</td>\n",
              "      <td>0.068461</td>\n",
              "    </tr>\n",
              "    <tr>\n",
              "      <th>Total</th>\n",
              "      <td>487130</td>\n",
              "      <td>182341</td>\n",
              "      <td>0.374317</td>\n",
              "      <td>812606</td>\n",
              "      <td>1.668150</td>\n",
              "      <td>33603</td>\n",
              "      <td>0.068982</td>\n",
              "    </tr>\n",
              "  </tbody>\n",
              "</table>\n",
              "</div>\n",
              "    <div class=\"colab-df-buttons\">\n",
              "\n",
              "  <div class=\"colab-df-container\">\n",
              "    <button class=\"colab-df-convert\" onclick=\"convertToInteractive('df-1d497c83-58a3-413b-bdf9-648f949417e5')\"\n",
              "            title=\"Convert this dataframe to an interactive table.\"\n",
              "            style=\"display:none;\">\n",
              "\n",
              "  <svg xmlns=\"http://www.w3.org/2000/svg\" height=\"24px\" viewBox=\"0 -960 960 960\">\n",
              "    <path d=\"M120-120v-720h720v720H120Zm60-500h600v-160H180v160Zm220 220h160v-160H400v160Zm0 220h160v-160H400v160ZM180-400h160v-160H180v160Zm440 0h160v-160H620v160ZM180-180h160v-160H180v160Zm440 0h160v-160H620v160Z\"/>\n",
              "  </svg>\n",
              "    </button>\n",
              "\n",
              "  <style>\n",
              "    .colab-df-container {\n",
              "      display:flex;\n",
              "      gap: 12px;\n",
              "    }\n",
              "\n",
              "    .colab-df-convert {\n",
              "      background-color: #E8F0FE;\n",
              "      border: none;\n",
              "      border-radius: 50%;\n",
              "      cursor: pointer;\n",
              "      display: none;\n",
              "      fill: #1967D2;\n",
              "      height: 32px;\n",
              "      padding: 0 0 0 0;\n",
              "      width: 32px;\n",
              "    }\n",
              "\n",
              "    .colab-df-convert:hover {\n",
              "      background-color: #E2EBFA;\n",
              "      box-shadow: 0px 1px 2px rgba(60, 64, 67, 0.3), 0px 1px 3px 1px rgba(60, 64, 67, 0.15);\n",
              "      fill: #174EA6;\n",
              "    }\n",
              "\n",
              "    .colab-df-buttons div {\n",
              "      margin-bottom: 4px;\n",
              "    }\n",
              "\n",
              "    [theme=dark] .colab-df-convert {\n",
              "      background-color: #3B4455;\n",
              "      fill: #D2E3FC;\n",
              "    }\n",
              "\n",
              "    [theme=dark] .colab-df-convert:hover {\n",
              "      background-color: #434B5C;\n",
              "      box-shadow: 0px 1px 3px 1px rgba(0, 0, 0, 0.15);\n",
              "      filter: drop-shadow(0px 1px 2px rgba(0, 0, 0, 0.3));\n",
              "      fill: #FFFFFF;\n",
              "    }\n",
              "  </style>\n",
              "\n",
              "    <script>\n",
              "      const buttonEl =\n",
              "        document.querySelector('#df-1d497c83-58a3-413b-bdf9-648f949417e5 button.colab-df-convert');\n",
              "      buttonEl.style.display =\n",
              "        google.colab.kernel.accessAllowed ? 'block' : 'none';\n",
              "\n",
              "      async function convertToInteractive(key) {\n",
              "        const element = document.querySelector('#df-1d497c83-58a3-413b-bdf9-648f949417e5');\n",
              "        const dataTable =\n",
              "          await google.colab.kernel.invokeFunction('convertToInteractive',\n",
              "                                                    [key], {});\n",
              "        if (!dataTable) return;\n",
              "\n",
              "        const docLinkHtml = 'Like what you see? Visit the ' +\n",
              "          '<a target=\"_blank\" href=https://colab.research.google.com/notebooks/data_table.ipynb>data table notebook</a>'\n",
              "          + ' to learn more about interactive tables.';\n",
              "        element.innerHTML = '';\n",
              "        dataTable['output_type'] = 'display_data';\n",
              "        await google.colab.output.renderOutput(dataTable, element);\n",
              "        const docLink = document.createElement('div');\n",
              "        docLink.innerHTML = docLinkHtml;\n",
              "        element.appendChild(docLink);\n",
              "      }\n",
              "    </script>\n",
              "  </div>\n",
              "\n",
              "\n",
              "<div id=\"df-c888329e-4cf2-4e20-a069-cd713eff2a1b\">\n",
              "  <button class=\"colab-df-quickchart\" onclick=\"quickchart('df-c888329e-4cf2-4e20-a069-cd713eff2a1b')\"\n",
              "            title=\"Suggest charts.\"\n",
              "            style=\"display:none;\">\n",
              "\n",
              "<svg xmlns=\"http://www.w3.org/2000/svg\" height=\"24px\"viewBox=\"0 0 24 24\"\n",
              "     width=\"24px\">\n",
              "    <g>\n",
              "        <path d=\"M19 3H5c-1.1 0-2 .9-2 2v14c0 1.1.9 2 2 2h14c1.1 0 2-.9 2-2V5c0-1.1-.9-2-2-2zM9 17H7v-7h2v7zm4 0h-2V7h2v10zm4 0h-2v-4h2v4z\"/>\n",
              "    </g>\n",
              "</svg>\n",
              "  </button>\n",
              "\n",
              "<style>\n",
              "  .colab-df-quickchart {\n",
              "    background-color: #E8F0FE;\n",
              "    border: none;\n",
              "    border-radius: 50%;\n",
              "    cursor: pointer;\n",
              "    display: none;\n",
              "    fill: #1967D2;\n",
              "    height: 32px;\n",
              "    padding: 0 0 0 0;\n",
              "    width: 32px;\n",
              "  }\n",
              "\n",
              "  .colab-df-quickchart:hover {\n",
              "    background-color: #E2EBFA;\n",
              "    box-shadow: 0px 1px 2px rgba(60, 64, 67, 0.3), 0px 1px 3px 1px rgba(60, 64, 67, 0.15);\n",
              "    fill: #174EA6;\n",
              "  }\n",
              "\n",
              "  [theme=dark] .colab-df-quickchart {\n",
              "    background-color: #3B4455;\n",
              "    fill: #D2E3FC;\n",
              "  }\n",
              "\n",
              "  [theme=dark] .colab-df-quickchart:hover {\n",
              "    background-color: #434B5C;\n",
              "    box-shadow: 0px 1px 3px 1px rgba(0, 0, 0, 0.15);\n",
              "    filter: drop-shadow(0px 1px 2px rgba(0, 0, 0, 0.3));\n",
              "    fill: #FFFFFF;\n",
              "  }\n",
              "</style>\n",
              "\n",
              "  <script>\n",
              "    async function quickchart(key) {\n",
              "      const charts = await google.colab.kernel.invokeFunction(\n",
              "          'suggestCharts', [key], {});\n",
              "    }\n",
              "    (() => {\n",
              "      let quickchartButtonEl =\n",
              "        document.querySelector('#df-c888329e-4cf2-4e20-a069-cd713eff2a1b button');\n",
              "      quickchartButtonEl.style.display =\n",
              "        google.colab.kernel.accessAllowed ? 'block' : 'none';\n",
              "    })();\n",
              "  </script>\n",
              "</div>\n",
              "    </div>\n",
              "  </div>\n"
            ]
          },
          "metadata": {},
          "execution_count": 14
        }
      ]
    },
    {
      "cell_type": "code",
      "execution_count": 25,
      "id": "d0165a9d",
      "metadata": {
        "id": "d0165a9d",
        "colab": {
          "base_uri": "https://localhost:8080/"
        },
        "outputId": "e07d8c86-d70d-4707-f08b-c5cc059cb577"
      },
      "outputs": [
        {
          "output_type": "execute_result",
          "data": {
            "text/plain": [
              "243210"
            ]
          },
          "metadata": {},
          "execution_count": 25
        }
      ],
      "source": [
        "# Make sure you know how to access the individual values - try displaying the number of sessions for the blank slider\n",
        "# Try using the column/index names and not numbers to make the code more readable\n",
        "df4.loc['Slider blank','Nb sessions']"
      ]
    },
    {
      "cell_type": "markdown",
      "id": "a4f8d5d1",
      "metadata": {
        "id": "a4f8d5d1"
      },
      "source": [
        "### The bounce variable"
      ]
    },
    {
      "cell_type": "markdown",
      "id": "8fe47bff",
      "metadata": {
        "id": "8fe47bff"
      },
      "source": [
        "The first metric we want to analyse is bounce! What kind of test would best suit this metric?"
      ]
    },
    {
      "cell_type": "markdown",
      "id": "52b19a75",
      "metadata": {
        "id": "52b19a75"
      },
      "source": [
        "*Answer: Chi-Square test because bounce is a discrete binary variable, a customer either bounces or doesn't!*"
      ]
    },
    {
      "cell_type": "markdown",
      "id": "32dea381",
      "metadata": {
        "id": "32dea381"
      },
      "source": [
        "Now that we've chosen the appropriate test, you might notice that we're lacking something! The theoretical or expected value. Since neither of these variants have been implemented before and we don't have a baseline, we'll have to create our own. Our hypothesis is that the Bounce rate is the same for both variants -- equal to the average Bounce rate of 37.40%.\n",
        "\n",
        "Compute the theoretical number of bounces for both variants using the average bounce rate!"
      ]
    },
    {
      "cell_type": "code",
      "source": [
        "df4.head()"
      ],
      "metadata": {
        "colab": {
          "base_uri": "https://localhost:8080/",
          "height": 175
        },
        "id": "AaH6zafKTbBB",
        "outputId": "cb5e2a54-e7a8-4e46-db18-b0b94f1804c0"
      },
      "id": "AaH6zafKTbBB",
      "execution_count": 16,
      "outputs": [
        {
          "output_type": "execute_result",
          "data": {
            "text/plain": [
              "               Nb sessions  Nb bounces  % bounces  Nb pages  Page / Sessions  \\\n",
              "AB test group                                                                  \n",
              "Slider blank        243210       90310   0.371325    406734         1.672357   \n",
              "Static green        243920       92031   0.377300    405872         1.663955   \n",
              "Total               487130      182341   0.374317    812606         1.668150   \n",
              "\n",
              "               Nb transactions  % conversions  \n",
              "AB test group                                  \n",
              "Slider blank             16904       0.069504  \n",
              "Static green             16699       0.068461  \n",
              "Total                    33603       0.068982  "
            ],
            "text/html": [
              "\n",
              "  <div id=\"df-36cc1fab-3b01-4520-a5d1-3dcf999ce10a\" class=\"colab-df-container\">\n",
              "    <div>\n",
              "<style scoped>\n",
              "    .dataframe tbody tr th:only-of-type {\n",
              "        vertical-align: middle;\n",
              "    }\n",
              "\n",
              "    .dataframe tbody tr th {\n",
              "        vertical-align: top;\n",
              "    }\n",
              "\n",
              "    .dataframe thead th {\n",
              "        text-align: right;\n",
              "    }\n",
              "</style>\n",
              "<table border=\"1\" class=\"dataframe\">\n",
              "  <thead>\n",
              "    <tr style=\"text-align: right;\">\n",
              "      <th></th>\n",
              "      <th>Nb sessions</th>\n",
              "      <th>Nb bounces</th>\n",
              "      <th>% bounces</th>\n",
              "      <th>Nb pages</th>\n",
              "      <th>Page / Sessions</th>\n",
              "      <th>Nb transactions</th>\n",
              "      <th>% conversions</th>\n",
              "    </tr>\n",
              "    <tr>\n",
              "      <th>AB test group</th>\n",
              "      <th></th>\n",
              "      <th></th>\n",
              "      <th></th>\n",
              "      <th></th>\n",
              "      <th></th>\n",
              "      <th></th>\n",
              "      <th></th>\n",
              "    </tr>\n",
              "  </thead>\n",
              "  <tbody>\n",
              "    <tr>\n",
              "      <th>Slider blank</th>\n",
              "      <td>243210</td>\n",
              "      <td>90310</td>\n",
              "      <td>0.371325</td>\n",
              "      <td>406734</td>\n",
              "      <td>1.672357</td>\n",
              "      <td>16904</td>\n",
              "      <td>0.069504</td>\n",
              "    </tr>\n",
              "    <tr>\n",
              "      <th>Static green</th>\n",
              "      <td>243920</td>\n",
              "      <td>92031</td>\n",
              "      <td>0.377300</td>\n",
              "      <td>405872</td>\n",
              "      <td>1.663955</td>\n",
              "      <td>16699</td>\n",
              "      <td>0.068461</td>\n",
              "    </tr>\n",
              "    <tr>\n",
              "      <th>Total</th>\n",
              "      <td>487130</td>\n",
              "      <td>182341</td>\n",
              "      <td>0.374317</td>\n",
              "      <td>812606</td>\n",
              "      <td>1.668150</td>\n",
              "      <td>33603</td>\n",
              "      <td>0.068982</td>\n",
              "    </tr>\n",
              "  </tbody>\n",
              "</table>\n",
              "</div>\n",
              "    <div class=\"colab-df-buttons\">\n",
              "\n",
              "  <div class=\"colab-df-container\">\n",
              "    <button class=\"colab-df-convert\" onclick=\"convertToInteractive('df-36cc1fab-3b01-4520-a5d1-3dcf999ce10a')\"\n",
              "            title=\"Convert this dataframe to an interactive table.\"\n",
              "            style=\"display:none;\">\n",
              "\n",
              "  <svg xmlns=\"http://www.w3.org/2000/svg\" height=\"24px\" viewBox=\"0 -960 960 960\">\n",
              "    <path d=\"M120-120v-720h720v720H120Zm60-500h600v-160H180v160Zm220 220h160v-160H400v160Zm0 220h160v-160H400v160ZM180-400h160v-160H180v160Zm440 0h160v-160H620v160ZM180-180h160v-160H180v160Zm440 0h160v-160H620v160Z\"/>\n",
              "  </svg>\n",
              "    </button>\n",
              "\n",
              "  <style>\n",
              "    .colab-df-container {\n",
              "      display:flex;\n",
              "      gap: 12px;\n",
              "    }\n",
              "\n",
              "    .colab-df-convert {\n",
              "      background-color: #E8F0FE;\n",
              "      border: none;\n",
              "      border-radius: 50%;\n",
              "      cursor: pointer;\n",
              "      display: none;\n",
              "      fill: #1967D2;\n",
              "      height: 32px;\n",
              "      padding: 0 0 0 0;\n",
              "      width: 32px;\n",
              "    }\n",
              "\n",
              "    .colab-df-convert:hover {\n",
              "      background-color: #E2EBFA;\n",
              "      box-shadow: 0px 1px 2px rgba(60, 64, 67, 0.3), 0px 1px 3px 1px rgba(60, 64, 67, 0.15);\n",
              "      fill: #174EA6;\n",
              "    }\n",
              "\n",
              "    .colab-df-buttons div {\n",
              "      margin-bottom: 4px;\n",
              "    }\n",
              "\n",
              "    [theme=dark] .colab-df-convert {\n",
              "      background-color: #3B4455;\n",
              "      fill: #D2E3FC;\n",
              "    }\n",
              "\n",
              "    [theme=dark] .colab-df-convert:hover {\n",
              "      background-color: #434B5C;\n",
              "      box-shadow: 0px 1px 3px 1px rgba(0, 0, 0, 0.15);\n",
              "      filter: drop-shadow(0px 1px 2px rgba(0, 0, 0, 0.3));\n",
              "      fill: #FFFFFF;\n",
              "    }\n",
              "  </style>\n",
              "\n",
              "    <script>\n",
              "      const buttonEl =\n",
              "        document.querySelector('#df-36cc1fab-3b01-4520-a5d1-3dcf999ce10a button.colab-df-convert');\n",
              "      buttonEl.style.display =\n",
              "        google.colab.kernel.accessAllowed ? 'block' : 'none';\n",
              "\n",
              "      async function convertToInteractive(key) {\n",
              "        const element = document.querySelector('#df-36cc1fab-3b01-4520-a5d1-3dcf999ce10a');\n",
              "        const dataTable =\n",
              "          await google.colab.kernel.invokeFunction('convertToInteractive',\n",
              "                                                    [key], {});\n",
              "        if (!dataTable) return;\n",
              "\n",
              "        const docLinkHtml = 'Like what you see? Visit the ' +\n",
              "          '<a target=\"_blank\" href=https://colab.research.google.com/notebooks/data_table.ipynb>data table notebook</a>'\n",
              "          + ' to learn more about interactive tables.';\n",
              "        element.innerHTML = '';\n",
              "        dataTable['output_type'] = 'display_data';\n",
              "        await google.colab.output.renderOutput(dataTable, element);\n",
              "        const docLink = document.createElement('div');\n",
              "        docLink.innerHTML = docLinkHtml;\n",
              "        element.appendChild(docLink);\n",
              "      }\n",
              "    </script>\n",
              "  </div>\n",
              "\n",
              "\n",
              "<div id=\"df-44c3122c-609e-449a-b362-3f133b2d18d7\">\n",
              "  <button class=\"colab-df-quickchart\" onclick=\"quickchart('df-44c3122c-609e-449a-b362-3f133b2d18d7')\"\n",
              "            title=\"Suggest charts.\"\n",
              "            style=\"display:none;\">\n",
              "\n",
              "<svg xmlns=\"http://www.w3.org/2000/svg\" height=\"24px\"viewBox=\"0 0 24 24\"\n",
              "     width=\"24px\">\n",
              "    <g>\n",
              "        <path d=\"M19 3H5c-1.1 0-2 .9-2 2v14c0 1.1.9 2 2 2h14c1.1 0 2-.9 2-2V5c0-1.1-.9-2-2-2zM9 17H7v-7h2v7zm4 0h-2V7h2v10zm4 0h-2v-4h2v4z\"/>\n",
              "    </g>\n",
              "</svg>\n",
              "  </button>\n",
              "\n",
              "<style>\n",
              "  .colab-df-quickchart {\n",
              "    background-color: #E8F0FE;\n",
              "    border: none;\n",
              "    border-radius: 50%;\n",
              "    cursor: pointer;\n",
              "    display: none;\n",
              "    fill: #1967D2;\n",
              "    height: 32px;\n",
              "    padding: 0 0 0 0;\n",
              "    width: 32px;\n",
              "  }\n",
              "\n",
              "  .colab-df-quickchart:hover {\n",
              "    background-color: #E2EBFA;\n",
              "    box-shadow: 0px 1px 2px rgba(60, 64, 67, 0.3), 0px 1px 3px 1px rgba(60, 64, 67, 0.15);\n",
              "    fill: #174EA6;\n",
              "  }\n",
              "\n",
              "  [theme=dark] .colab-df-quickchart {\n",
              "    background-color: #3B4455;\n",
              "    fill: #D2E3FC;\n",
              "  }\n",
              "\n",
              "  [theme=dark] .colab-df-quickchart:hover {\n",
              "    background-color: #434B5C;\n",
              "    box-shadow: 0px 1px 3px 1px rgba(0, 0, 0, 0.15);\n",
              "    filter: drop-shadow(0px 1px 2px rgba(0, 0, 0, 0.3));\n",
              "    fill: #FFFFFF;\n",
              "  }\n",
              "</style>\n",
              "\n",
              "  <script>\n",
              "    async function quickchart(key) {\n",
              "      const charts = await google.colab.kernel.invokeFunction(\n",
              "          'suggestCharts', [key], {});\n",
              "    }\n",
              "    (() => {\n",
              "      let quickchartButtonEl =\n",
              "        document.querySelector('#df-44c3122c-609e-449a-b362-3f133b2d18d7 button');\n",
              "      quickchartButtonEl.style.display =\n",
              "        google.colab.kernel.accessAllowed ? 'block' : 'none';\n",
              "    })();\n",
              "  </script>\n",
              "</div>\n",
              "    </div>\n",
              "  </div>\n"
            ]
          },
          "metadata": {},
          "execution_count": 16
        }
      ]
    },
    {
      "cell_type": "code",
      "execution_count": 17,
      "id": "2d316845",
      "metadata": {
        "id": "2d316845",
        "colab": {
          "base_uri": "https://localhost:8080/"
        },
        "outputId": "722c1e51-e31b-405b-a69d-da09a5753390"
      },
      "outputs": [
        {
          "output_type": "execute_result",
          "data": {
            "text/plain": [
              "0.3743169175"
            ]
          },
          "metadata": {},
          "execution_count": 17
        }
      ],
      "source": [
        "# Compute the theoretical number of bounces for both variants using the average bounce rate!\n",
        "bounce_moyen = df4.loc['Total','% bounces']\n",
        "bounce_moyen"
      ]
    },
    {
      "cell_type": "code",
      "source": [
        "blanc = bounce_moyen * df4.loc['Slider blank','Nb sessions']\n",
        "vert = bounce_moyen * df4.loc['Static green','Nb sessions']\n",
        "blanc,vert"
      ],
      "metadata": {
        "colab": {
          "base_uri": "https://localhost:8080/"
        },
        "id": "5N7k4wENTn4k",
        "outputId": "c19a4f51-bb97-40d7-fcc1-d555f462ecb5"
      },
      "id": "5N7k4wENTn4k",
      "execution_count": 26,
      "outputs": [
        {
          "output_type": "execute_result",
          "data": {
            "text/plain": [
              "(91037.617505175, 91303.3825166)"
            ]
          },
          "metadata": {},
          "execution_count": 26
        }
      ]
    },
    {
      "cell_type": "markdown",
      "id": "3242a583",
      "metadata": {
        "id": "3242a583"
      },
      "source": [
        "Now that we have all the elements we need, compute the Chi-Square test below, first by hand with the formula (and the table) and then using the [scipy function](https://docs.scipy.org/doc/scipy/reference/generated/scipy.stats.chisquare.html)"
      ]
    },
    {
      "cell_type": "code",
      "execution_count": 28,
      "id": "16a093e6",
      "metadata": {
        "id": "16a093e6",
        "colab": {
          "base_uri": "https://localhost:8080/"
        },
        "outputId": "8955e4d1-5d22-4e8c-ab31-0b8893036183"
      },
      "outputs": [
        {
          "output_type": "stream",
          "name": "stdout",
          "text": [
            "11.614027402426252\n"
          ]
        }
      ],
      "source": [
        "## With the formula\n",
        "\n",
        "## CS-statisic = total [(observed frequency per category - expected frequency per category)^2\n",
        "## / expected frequency per category]\n",
        "chi_square = \\\n",
        "(df4.loc['Slider blank','Nb bounces']-blanc)**2/blanc +\\\n",
        "(df4.loc['Static green','Nb bounces']-vert)**2/vert\n",
        "print(chi_square)\n",
        "## With Scipy\n",
        "from scipy.stats import chisquare\n",
        "import numpy as np\n",
        "# Import the right modules (also import numpy)\n",
        "f_obs_bounce = np.array([df4.loc['Slider blank', 'Nb bounces'], df4.loc['Static green', 'Nb bounces']])\n",
        "f_exp_bounce = np.array([blanc, vert])\n",
        "# Create arrays for the observed and expected bounce values\n",
        "\n",
        "# Calculate chisquare\n",
        "chi_square_bounce = chisquare(f_obs_bounce,f_exp_bounce)"
      ]
    },
    {
      "cell_type": "markdown",
      "id": "4904d94e",
      "metadata": {
        "id": "4904d94e"
      },
      "source": [
        "What do you make of the results? Can we safely reject the null hypothesis?"
      ]
    },
    {
      "cell_type": "markdown",
      "id": "589c5a3e",
      "metadata": {
        "id": "589c5a3e"
      },
      "source": [
        "*Yes, we can - the p-value is low enough (lower than our 5% threshold)*"
      ]
    },
    {
      "cell_type": "markdown",
      "id": "1f281c60",
      "metadata": {
        "id": "1f281c60"
      },
      "source": [
        "### What about the other metrics?"
      ]
    },
    {
      "cell_type": "markdown",
      "id": "8a16d3a5",
      "metadata": {
        "id": "8a16d3a5"
      },
      "source": [
        "Let's repeat what we just did for the other valid metric: number of transactions made. Again, we need to compute the theoretical values first.\n",
        "\n",
        "Could we also compute for number of pages visited? Why/why not?"
      ]
    },
    {
      "cell_type": "markdown",
      "id": "e46d8537",
      "metadata": {
        "id": "e46d8537"
      },
      "source": [
        "#### Number of transactions made"
      ]
    },
    {
      "cell_type": "code",
      "execution_count": 37,
      "id": "65370e19",
      "metadata": {
        "id": "65370e19",
        "colab": {
          "base_uri": "https://localhost:8080/"
        },
        "outputId": "0fc60331-ded9-4446-90b0-c0ad774e80ff"
      },
      "outputs": [
        {
          "output_type": "execute_result",
          "data": {
            "text/plain": [
              "(16777.0115359242, 16825.9884619984)"
            ]
          },
          "metadata": {},
          "execution_count": 37
        }
      ],
      "source": [
        "# Compute the theoretical transactions for both variants using the conversion rate!\n",
        "blanc_theor_transaction = df4.loc['Slider blank', 'Nb sessions'] * df4.loc['Total', '% conversions']\n",
        "green_theor_transaction = df4.loc['Static green', 'Nb sessions'] * df4.loc['Total', '% conversions']\n",
        "\n",
        "blanc_theor_transaction, green_theor_transaction"
      ]
    },
    {
      "cell_type": "code",
      "execution_count": 47,
      "id": "c9e2d62c",
      "metadata": {
        "id": "c9e2d62c",
        "colab": {
          "base_uri": "https://localhost:8080/"
        },
        "outputId": "a69d2b55-56d6-4a07-8440-ed289b5a3643"
      },
      "outputs": [
        {
          "output_type": "stream",
          "name": "stdout",
          "text": [
            "Using the formula: 1.9196028930112474\n"
          ]
        },
        {
          "output_type": "execute_result",
          "data": {
            "text/plain": [
              "Power_divergenceResult(statistic=1.9196028930112474, pvalue=0.1659004437802039)"
            ]
          },
          "metadata": {},
          "execution_count": 47
        }
      ],
      "source": [
        "# Chi-Square with the formula\n",
        "\n",
        "chi_square_transaction = (((df4.loc['Slider blank', 'Nb transactions'] - blanc_theor_transaction) ** 2) /  (blanc_theor_transaction) + \\\n",
        "                          ((df4.loc['Static green', 'Nb transactions'] - green_theor_transaction) ** 2) /  green_theor_transaction)\n",
        "print(f\"Using the formula: {chi_square_transaction}\")\n",
        "# Chi-Square with the Scipy function\n",
        "f_obs_transaction = np.array([df4.loc['Slider blank', 'Nb transactions'], df4.loc['Static green', 'Nb transactions']])\n",
        "f_exp_transaction = np.array([blanc_thero_rate, green_thero_rate])\n",
        "\n",
        "chi_square_transactions = chisquare(f_obs=f_obs_transaction, f_exp=f_exp_transaction)\n",
        "chi_square_transactions\n"
      ]
    },
    {
      "cell_type": "markdown",
      "id": "4a4a0105",
      "metadata": {
        "id": "4a4a0105"
      },
      "source": [
        "Is the resulting p-value satisfactory?"
      ]
    }
  ],
  "metadata": {
    "kernelspec": {
      "display_name": "Python 3 (ipykernel)",
      "language": "python",
      "name": "python3"
    },
    "language_info": {
      "codemirror_mode": {
        "name": "ipython",
        "version": 3
      },
      "file_extension": ".py",
      "mimetype": "text/x-python",
      "name": "python",
      "nbconvert_exporter": "python",
      "pygments_lexer": "ipython3",
      "version": "3.8.12"
    },
    "colab": {
      "provenance": [],
      "include_colab_link": true
    }
  },
  "nbformat": 4,
  "nbformat_minor": 5
}