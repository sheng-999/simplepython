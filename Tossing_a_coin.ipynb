{
  "cells": [
    {
      "cell_type": "markdown",
      "metadata": {
        "id": "view-in-github",
        "colab_type": "text"
      },
      "source": [
        "<a href=\"https://colab.research.google.com/github/sheng-999/simplepython/blob/sheng-999-upload-files/Tossing_a_coin.ipynb\" target=\"_parent\"><img src=\"https://colab.research.google.com/assets/colab-badge.svg\" alt=\"Open In Colab\"/></a>"
      ]
    },
    {
      "cell_type": "code",
      "execution_count": 6,
      "id": "2079b203",
      "metadata": {
        "id": "2079b203"
      },
      "outputs": [],
      "source": [
        "import numpy as np\n",
        "import matplotlib.pyplot as plt"
      ]
    },
    {
      "cell_type": "markdown",
      "id": "23918ee7",
      "metadata": {
        "id": "23918ee7"
      },
      "source": [
        "## Toss a coin"
      ]
    },
    {
      "cell_type": "markdown",
      "id": "1459718f",
      "metadata": {
        "id": "1459718f"
      },
      "source": [
        "Tossing coins is a good way for us to understand the idea of random experiments tending towards their expected mean - and how to tell when they are not (an unfair coin)."
      ]
    },
    {
      "cell_type": "markdown",
      "id": "34b2361e",
      "metadata": {
        "id": "34b2361e"
      },
      "source": [
        "Your first task is to toss a coin! There are a bunch of ways you could do that in Python, so we'll let you figure this one out. We'll give you two hints:\n",
        "\n",
        "- The function has to come from the **numpy** library\n",
        "- You need to be able to adjust the number of outcomes (for example, you should be able to use it to roll a dice too)\n",
        "\n",
        "How will you go about this?"
      ]
    },
    {
      "cell_type": "code",
      "source": [
        "import random\n",
        "import pandas as pd"
      ],
      "metadata": {
        "id": "TvUxwa5QNaYr"
      },
      "id": "TvUxwa5QNaYr",
      "execution_count": 27,
      "outputs": []
    },
    {
      "cell_type": "code",
      "source": [
        "# Toss a coin here\n",
        "def toss_coin(nb_times):\n",
        "  outcomes = ['Heads','Tails']\n",
        "  result = np.random.choice(outcomes, nb_times)\n",
        "  return result\n",
        "\n",
        "toss_coin(100)"
      ],
      "metadata": {
        "id": "qlbOx2kpCHx8",
        "colab": {
          "base_uri": "https://localhost:8080/"
        },
        "outputId": "218c904a-13bf-4f04-a440-f303eb2ab6c8"
      },
      "id": "qlbOx2kpCHx8",
      "execution_count": 36,
      "outputs": [
        {
          "output_type": "execute_result",
          "data": {
            "text/plain": [
              "array(['Tails', 'Tails', 'Heads', 'Heads', 'Heads', 'Tails', 'Tails',\n",
              "       'Tails', 'Heads', 'Tails', 'Tails', 'Tails', 'Tails', 'Heads',\n",
              "       'Heads', 'Heads', 'Tails', 'Tails', 'Tails', 'Tails', 'Tails',\n",
              "       'Heads', 'Tails', 'Tails', 'Tails', 'Tails', 'Tails', 'Heads',\n",
              "       'Heads', 'Tails', 'Tails', 'Heads', 'Heads', 'Heads', 'Tails',\n",
              "       'Heads', 'Heads', 'Tails', 'Tails', 'Tails', 'Heads', 'Heads',\n",
              "       'Tails', 'Heads', 'Tails', 'Tails', 'Tails', 'Tails', 'Heads',\n",
              "       'Heads', 'Tails', 'Heads', 'Heads', 'Heads', 'Heads', 'Tails',\n",
              "       'Heads', 'Tails', 'Heads', 'Tails', 'Heads', 'Tails', 'Tails',\n",
              "       'Heads', 'Heads', 'Tails', 'Tails', 'Tails', 'Heads', 'Heads',\n",
              "       'Heads', 'Tails', 'Tails', 'Heads', 'Heads', 'Heads', 'Tails',\n",
              "       'Heads', 'Heads', 'Tails', 'Tails', 'Tails', 'Heads', 'Heads',\n",
              "       'Tails', 'Heads', 'Heads', 'Heads', 'Tails', 'Tails', 'Tails',\n",
              "       'Heads', 'Heads', 'Tails', 'Heads', 'Tails', 'Heads', 'Heads',\n",
              "       'Tails', 'Heads'], dtype='<U5')"
            ]
          },
          "metadata": {},
          "execution_count": 36
        }
      ]
    },
    {
      "cell_type": "markdown",
      "id": "3388f134",
      "metadata": {
        "id": "3388f134"
      },
      "source": [
        "## Discrete variables"
      ]
    },
    {
      "cell_type": "markdown",
      "id": "b933cea0",
      "metadata": {
        "id": "b933cea0"
      },
      "source": [
        "You just tossed your first digital coin!\n",
        "\n",
        "Being able to simulate a coin toss might seem trivial, but it is in fact a very useful example. Anything we observe and record in life can be seen as **a random experiment**, or a coin toss.\n",
        "\n",
        "Some of them will be just like the coin toss - with **a binary outcome**:\n",
        "\n",
        "- Customers converting to the premium subscription (they either convert or they don't)\n",
        "- Customers churning\n",
        "\n",
        "Others will have **more than two outcomes**, but they will all still be clearly defined:\n",
        "\n",
        "- The color of a product that your customers choose\n",
        "- What type of delivery service customers choose at checkout\n",
        "\n",
        "We call this type of variables discrete - the **sample space** (or the possible outcomes) of the experiment are **categorical and clearly defined**.\n",
        "\n",
        "Try to think of some more examples and counter examples to practice your understanding of **discrete variables**."
      ]
    },
    {
      "cell_type": "markdown",
      "id": "520f3947",
      "metadata": {
        "id": "520f3947"
      },
      "source": [
        "## Tossing more than one coin"
      ]
    },
    {
      "cell_type": "markdown",
      "id": "cd5c56b1",
      "metadata": {
        "id": "cd5c56b1"
      },
      "source": [
        "Well done on your first coin toss. Now, use the same function to toss **the same fair coin 10 times**. How many times do you expect to get heads?"
      ]
    },
    {
      "cell_type": "code",
      "source": [
        "from collections import Counter"
      ],
      "metadata": {
        "id": "Hx-wZPRhPJkh"
      },
      "id": "Hx-wZPRhPJkh",
      "execution_count": 16,
      "outputs": []
    },
    {
      "cell_type": "code",
      "execution_count": 50,
      "id": "1f6e3cde",
      "metadata": {
        "id": "1f6e3cde",
        "colab": {
          "base_uri": "https://localhost:8080/"
        },
        "outputId": "ddf13516-c8af-4335-b421-958441807a7e"
      },
      "outputs": [
        {
          "output_type": "execute_result",
          "data": {
            "text/plain": [
              "array(['Heads', 'Heads', 'Heads', 'Heads', 'Heads', 'Tails', 'Heads',\n",
              "       'Heads', 'Heads', 'Heads'], dtype='<U5')"
            ]
          },
          "metadata": {},
          "execution_count": 50
        }
      ],
      "source": [
        "# Toss the same coin 10 times\n",
        "toss_coin(10)"
      ]
    },
    {
      "cell_type": "code",
      "source": [
        "# Count heads (zeros)\n",
        "test_result = toss_coin(10)\n",
        "test_result = np.ndarray.tolist(test_result)\n",
        "test_result"
      ],
      "metadata": {
        "id": "20D8g_mhE3Y1",
        "colab": {
          "base_uri": "https://localhost:8080/"
        },
        "outputId": "7c6b241c-090b-437e-83a9-06cb305fa9a2"
      },
      "id": "20D8g_mhE3Y1",
      "execution_count": 67,
      "outputs": [
        {
          "output_type": "execute_result",
          "data": {
            "text/plain": [
              "['Tails',\n",
              " 'Heads',\n",
              " 'Heads',\n",
              " 'Tails',\n",
              " 'Tails',\n",
              " 'Heads',\n",
              " 'Tails',\n",
              " 'Heads',\n",
              " 'Heads',\n",
              " 'Heads']"
            ]
          },
          "metadata": {},
          "execution_count": 67
        }
      ]
    },
    {
      "cell_type": "code",
      "source": [
        "heads = test_result.count('Heads')\n",
        "heads"
      ],
      "metadata": {
        "colab": {
          "base_uri": "https://localhost:8080/"
        },
        "id": "xL-GpVd2QpMy",
        "outputId": "41026aed-d743-43f9-a223-40ff493d80e5"
      },
      "id": "xL-GpVd2QpMy",
      "execution_count": 68,
      "outputs": [
        {
          "output_type": "execute_result",
          "data": {
            "text/plain": [
              "6"
            ]
          },
          "metadata": {},
          "execution_count": 68
        }
      ]
    },
    {
      "cell_type": "markdown",
      "id": "631a061d",
      "metadata": {
        "id": "631a061d"
      },
      "source": [
        "If the result of your coin tosses was 5 heads, congrats! Your experiment matched your **expectations**!\n",
        "If not, you just experienced the difference between observed and **expected results**.\n",
        "\n",
        "Dreaded terminology alert (watch StatsQuest to get that reference):\n",
        "\n",
        "- The **expected value** is the theoretical outcome of an experiment. Let's stick with coin tosses - if I toss a coin 10 times, I **expect** to get 5 heads. Whether or not I will get 5 heads every time I toss a coin 10 times is a matter of chance, but I **expect** to get 5 heads."
      ]
    },
    {
      "cell_type": "markdown",
      "id": "1154c1d3",
      "metadata": {
        "id": "1154c1d3"
      },
      "source": [
        "Toss 10 coins 10 times each now, to see if over many tosses, your results get closer to the **expected value** of 5 heads for every 10 tosses. You need to look for a different function!"
      ]
    },
    {
      "cell_type": "code",
      "source": [
        "# set heads = 1 and tails = 0, then put in binomial function and try 10 times :\n",
        "experiment_result = np.random.binomial(n = 10,p = 0.5,size = 10)\n",
        "\n",
        "# heads - total presence is sum of 1 divide 10 times which means to calculate the mean()\n",
        "head_rate = sum(np.random.binomial(10,0.5,10))/10\n",
        "head_rate"
      ],
      "metadata": {
        "colab": {
          "base_uri": "https://localhost:8080/"
        },
        "id": "4O5KGXqfi0gP",
        "outputId": "d05ada3e-e1d4-4af1-a6c2-840a9fec67dd"
      },
      "id": "4O5KGXqfi0gP",
      "execution_count": 108,
      "outputs": [
        {
          "output_type": "execute_result",
          "data": {
            "text/plain": [
              "4.4"
            ]
          },
          "metadata": {},
          "execution_count": 108
        }
      ]
    },
    {
      "cell_type": "code",
      "execution_count": 99,
      "id": "0d85a131",
      "metadata": {
        "scrolled": true,
        "id": "0d85a131",
        "colab": {
          "base_uri": "https://localhost:8080/"
        },
        "outputId": "0589b992-4ece-43aa-cf93-3659113af9ba"
      },
      "outputs": [
        {
          "output_type": "execute_result",
          "data": {
            "text/plain": [
              "4.8"
            ]
          },
          "metadata": {},
          "execution_count": 99
        }
      ],
      "source": [
        "# Toss 10 coins 10 times each\n",
        "\n",
        "np.random.binomial(n=10, p=0.5,size=10).mean()"
      ]
    },
    {
      "cell_type": "markdown",
      "source": [
        "**Hint**: check the [np.random.binomial](https://numpy.org/doc/stable/reference/random/generated/numpy.random.binomial.html) documentation."
      ],
      "metadata": {
        "id": "Fuhcaf3EIUIy"
      },
      "id": "Fuhcaf3EIUIy"
    },
    {
      "cell_type": "markdown",
      "id": "adca76a9",
      "metadata": {
        "id": "adca76a9"
      },
      "source": [
        "**More!** Toss 100 coins 10 times each!"
      ]
    },
    {
      "cell_type": "code",
      "execution_count": 110,
      "id": "eb5cd2b3",
      "metadata": {
        "id": "eb5cd2b3",
        "colab": {
          "base_uri": "https://localhost:8080/"
        },
        "outputId": "9719d49c-8c55-4c53-91eb-707fe5ec3b10"
      },
      "outputs": [
        {
          "output_type": "execute_result",
          "data": {
            "text/plain": [
              "array([4, 7, 5, 5, 6, 4, 5, 7, 5, 3])"
            ]
          },
          "metadata": {},
          "execution_count": 110
        }
      ],
      "source": [
        "# Toss 100 coins 10 times each\n",
        "np.random.binomial(10, 0.5, 10)\n",
        "# the result list shows already % rate for one 10times test.\n",
        "# so what we need is to check the mean if it's close p=0.5 (50%)\n"
      ]
    },
    {
      "cell_type": "markdown",
      "id": "b6ffab88",
      "metadata": {
        "id": "b6ffab88"
      },
      "source": [
        "Nice! Are your results getting closer to the **expected value**?\n",
        "\n",
        "It's a bit hard to tell right? What if we looked at the **mean number of heads per 10 tosses over 100 trials**?"
      ]
    },
    {
      "cell_type": "code",
      "execution_count": 111,
      "id": "06060ff2",
      "metadata": {
        "id": "06060ff2",
        "colab": {
          "base_uri": "https://localhost:8080/"
        },
        "outputId": "0ff7ac6f-f35a-474f-fe3f-1b2e98c201b6"
      },
      "outputs": [
        {
          "output_type": "execute_result",
          "data": {
            "text/plain": [
              "4.96"
            ]
          },
          "metadata": {},
          "execution_count": 111
        }
      ],
      "source": [
        "# Calculate the mean number of heads after tossing 100 coins 10 times each\n",
        "np.random.binomial(10, 0.5, 100).mean()"
      ]
    },
    {
      "cell_type": "markdown",
      "id": "f4a9a9d7",
      "metadata": {
        "id": "f4a9a9d7"
      },
      "source": [
        "What about **10 tosses over 1000 trials**?"
      ]
    },
    {
      "cell_type": "code",
      "execution_count": 112,
      "id": "89ced579",
      "metadata": {
        "id": "89ced579",
        "colab": {
          "base_uri": "https://localhost:8080/"
        },
        "outputId": "9c0805be-7bd7-4632-b00d-243100756361"
      },
      "outputs": [
        {
          "output_type": "execute_result",
          "data": {
            "text/plain": [
              "4.937"
            ]
          },
          "metadata": {},
          "execution_count": 112
        }
      ],
      "source": [
        "# Calculate the mean number of heads after tossing 100 coins 10 times each\n",
        "np.random.binomial(10, 0.5, 1000).mean()\n"
      ]
    },
    {
      "cell_type": "markdown",
      "id": "d1b0b05e",
      "metadata": {
        "id": "d1b0b05e"
      },
      "source": [
        "## The Law of Large Numbers"
      ]
    },
    {
      "cell_type": "markdown",
      "id": "85b0c5d6",
      "metadata": {
        "id": "85b0c5d6"
      },
      "source": [
        "Big **eureka** moment right here! You just experienced the **Law of Large Numbers**. Oh, what the ancient mathematicians would have given to be able to do random experiments so quickly and so efficiently!\n",
        "\n",
        "What does the **Law of Large Numbers** tell us?\n",
        "\n",
        "Simply and intuitively - as you increase the number of **trials** (the number of coins you toss), the mean observed value will get closer and closer to the **expected value**."
      ]
    },
    {
      "cell_type": "markdown",
      "id": "4e760ef5",
      "metadata": {
        "id": "4e760ef5"
      },
      "source": [
        "## We need visual confirmation"
      ]
    },
    {
      "cell_type": "markdown",
      "id": "430f646d",
      "metadata": {
        "id": "430f646d"
      },
      "source": [
        "Assign the number of trials, the expected value and the fairness of the coin to variables to make it easier to play with them."
      ]
    },
    {
      "cell_type": "code",
      "execution_count": 118,
      "id": "a1813734",
      "metadata": {
        "id": "a1813734"
      },
      "outputs": [],
      "source": [
        "number_of_trials = 10\n",
        "expected_value = 5\n",
        "probability = 0.5"
      ]
    },
    {
      "cell_type": "markdown",
      "id": "44044043",
      "metadata": {
        "id": "44044043"
      },
      "source": [
        "Now run your coin toss experiment (10 tosses) for every whole number from 1 to the `number_of_trials` variable you have just defined. Store your results in a list.\n",
        "\n",
        "**Hint**: check the [np.arrange](https://numpy.org/doc/stable/reference/generated/numpy.arange.html) documentation"
      ]
    },
    {
      "cell_type": "code",
      "execution_count": 125,
      "id": "a011f246",
      "metadata": {
        "id": "a011f246",
        "colab": {
          "base_uri": "https://localhost:8080/"
        },
        "outputId": "52933258-dc4b-4db6-ea8d-039e8e7aae05"
      },
      "outputs": [
        {
          "output_type": "execute_result",
          "data": {
            "text/plain": [
              "[1, 2, 3, 4, 5, 6, 7, 8, 9, 10]"
            ]
          },
          "metadata": {},
          "execution_count": 125
        }
      ],
      "source": [
        "coin_list = np.arange(1,number_of_trials+1,1).tolist()\n",
        "coin_list\n"
      ]
    },
    {
      "cell_type": "code",
      "source": [
        "results_list = []\n",
        "\n",
        "def coin_toss(nb_times):\n",
        "  outcomes = [0,1]\n",
        "  result = np.random.choice(outcomes, nb_times)\n",
        "  return result\n",
        "\n",
        "for i in coin_list:\n",
        "\n",
        "  co_list = coin_toss(i).tolist()\n",
        "  results_list.append(co_list)\n",
        "\n",
        "results_list\n"
      ],
      "metadata": {
        "id": "NSiqepcY2aDC"
      },
      "id": "NSiqepcY2aDC",
      "execution_count": null,
      "outputs": []
    },
    {
      "cell_type": "code",
      "source": [
        "result_list = []\n",
        "\n",
        "def coin_toss(nb_times):\n",
        "  outcomes = [0,1]\n",
        "  result = np.random.choice(outcomes, nb_times)\n",
        "  return result\n",
        "\n",
        "for i in range(1,1000):\n",
        "  co_list = np.random.binomial(10,probability, i).mean().tolist()\n",
        "  result_list.append(co_list)\n",
        "\n",
        "result_list\n"
      ],
      "metadata": {
        "id": "neH-W6hnvMVN"
      },
      "id": "neH-W6hnvMVN",
      "execution_count": null,
      "outputs": []
    },
    {
      "cell_type": "markdown",
      "id": "cb27dfa1",
      "metadata": {
        "id": "cb27dfa1"
      },
      "source": [
        "It's time to reactivate your plotting muscles.\n",
        "\n",
        "On the same line graph, plot the following:\n",
        "\n",
        "- The average number of heads per 10 tosses as you increase the number of trials (in blue)\n",
        "- The expected number of heads per 10 tosses (in red) - this should be a horizontal line"
      ]
    },
    {
      "cell_type": "code",
      "execution_count": 180,
      "id": "e996bd2a",
      "metadata": {
        "id": "e996bd2a",
        "colab": {
          "base_uri": "https://localhost:8080/",
          "height": 510
        },
        "outputId": "8f52c05c-85db-4aec-f4c4-090d3460d3ef"
      },
      "outputs": [
        {
          "output_type": "stream",
          "name": "stderr",
          "text": [
            "WARNING:matplotlib.legend:No artists with labels found to put in legend.  Note that artists whose label start with an underscore are ignored when legend() is called with no argument.\n"
          ]
        },
        {
          "output_type": "display_data",
          "data": {
            "text/plain": [
              "<Figure size 640x480 with 1 Axes>"
            ],
            "image/png": "[encoded data removed]"
          },
          "metadata": {}
        }
      ],
      "source": [
        "# average number of heads per 10 tosses\n",
        "# x =\n",
        "# expected number of heads per 10 tosses\n",
        "\n",
        "plt.plot(\n",
        "    result_list\n",
        "  )\n",
        "plt.xlabel('Number of Trials')\n",
        "plt.ylabel('Proportion of Heads')\n",
        "plt.title('Coin Toss Experiment')\n",
        "plt.legend()\n",
        "plt.grid()\n",
        "plt.show()"
      ]
    },
    {
      "cell_type": "code",
      "source": [
        "import plotly.express as px\n",
        "\n",
        "fig = px.line(x=range(1,1000), y=result_list)\n",
        "fig.add_hline(y=5,line_dash=\"dash\", line_color=\"red\")\n",
        "\n",
        "fig.show()"
      ],
      "metadata": {
        "colab": {
          "base_uri": "https://localhost:8080/",
          "height": 542
        },
        "id": "Jt9gNYBX7SWi",
        "outputId": "9ac000f0-9b3b-4ec8-a3a6-b17663be5a8a"
      },
      "id": "Jt9gNYBX7SWi",
      "execution_count": 195,
      "outputs": [
        {
          "output_type": "display_data",
          "data": {
            "text/html": [
              "<html>\n",
              "<head><meta charset=\"utf-8\" /></head>\n",
              "<body>\n",
              "    <div>            <script src=\"https://cdnjs.cloudflare.com/ajax/libs/mathjax/2.7.5/MathJax.js?config=TeX-AMS-MML_SVG\"></script><script type=\"text/javascript\">if (window.MathJax && window.MathJax.Hub && window.MathJax.Hub.Config) {window.MathJax.Hub.Config({SVG: {font: \"STIX-Web\"}});}</script>                <script type=\"text/javascript\">window.PlotlyConfig = {MathJaxConfig: 'local'};</script>\n",
              "        <script charset=\"utf-8\" src=\"https://cdn.plot.ly/plotly-2.24.1.min.js\"></script>                <div id=\"9a531bc7-6ac9-4963-9d52-8400053844d5\" class=\"plotly-graph-div\" style=\"height:525px; width:100%;\"></div>            <script type=\"text/javascript\">                                    window.PLOTLYENV=window.PLOTLYENV || {};                                    if (document.getElementById(\"9a531bc7-6ac9-4963-9d52-8400053844d5\")) {                    Plotly.newPlot(                        \"9a531bc7-6ac9-4963-9d52-8400053844d5\",                        [{\"hovertemplate\":\"x=%{x}\\u003cbr\\u003ey=%{y}\\u003cextra\\u003e\\u003c\\u002fextra\\u003e\",\"legendgroup\":\"\",\"line\":{\"color\":\"#636efa\",\"dash\":\"solid\"},\"marker\":{\"symbol\":\"circle\"},\"mode\":\"lines\",\"name\":\"\",\"orientation\":\"v\",\"showlegend\":false,\"x\":[1,2,3,4,5,6,7,8,9,10,11,12,13,14,15,16,17,18,19,20,21,22,23,24,25,26,27,28,29,30,31,32,33,34,35,36,37,38,39,40,41,42,43,44,45,46,47,48,49,50,51,52,53,54,55,56,57,58,59,60,61,62,63,64,65,66,67,68,69,70,71,72,73,74,75,76,77,78,79,80,81,82,83,84,85,86,87,88,89,90,91,92,93,94,95,96,97,98,99,100,101,102,103,104,105,106,107,108,109,110,111,112,113,114,115,116,117,118,119,120,121,122,123,124,125,126,127,128,129,130,131,132,133,134,135,136,137,138,139,140,141,142,143,144,145,146,147,148,149,150,151,152,153,154,155,156,157,158,159,160,161,162,163,164,165,166,167,168,169,170,171,172,173,174,175,176,177,178,179,180,181,182,183,184,185,186,187,188,189,190,191,192,193,194,195,196,197,198,199,200,201,202,203,204,205,206,207,208,209,210,211,212,213,214,215,216,217,218,219,220,221,222,223,224,225,226,227,228,229,230,231,232,233,234,235,236,237,238,239,240,241,242,243,244,245,246,247,248,249,250,251,252,253,254,255,256,257,258,259,260,261,262,263,264,265,266,267,268,269,270,271,272,273,274,275,276,277,278,279,280,281,282,283,284,285,286,287,288,289,290,291,292,293,294,295,296,297,298,299,300,301,302,303,304,305,306,307,308,309,310,311,312,313,314,315,316,317,318,319,320,321,322,323,324,325,326,327,328,329,330,331,332,333,334,335,336,337,338,339,340,341,342,343,344,345,346,347,348,349,350,351,352,353,354,355,356,357,358,359,360,361,362,363,364,365,366,367,368,369,370,371,372,373,374,375,376,377,378,379,380,381,382,383,384,385,386,387,388,389,390,391,392,393,394,395,396,397,398,399,400,401,402,403,404,405,406,407,408,409,410,411,412,413,414,415,416,417,418,419,420,421,422,423,424,425,426,427,428,429,430,431,432,433,434,435,436,437,438,439,440,441,442,443,444,445,446,447,448,449,450,451,452,453,454,455,456,457,458,459,460,461,462,463,464,465,466,467,468,469,470,471,472,473,474,475,476,477,478,479,480,481,482,483,484,485,486,487,488,489,490,491,492,493,494,495,496,497,498,499,500,501,502,503,504,505,506,507,508,509,510,511,512,513,514,515,516,517,518,519,520,521,522,523,524,525,526,527,528,529,530,531,532,533,534,535,536,537,538,539,540,541,542,543,544,545,546,547,548,549,550,551,552,553,554,555,556,557,558,559,560,561,562,563,564,565,566,567,568,569,570,571,572,573,574,575,576,577,578,579,580,581,582,583,584,585,586,587,588,589,590,591,592,593,594,595,596,597,598,599,600,601,602,603,604,605,606,607,608,609,610,611,612,613,614,615,616,617,618,619,620,621,622,623,624,625,626,627,628,629,630,631,632,633,634,635,636,637,638,639,640,641,642,643,644,645,646,647,648,649,650,651,652,653,654,655,656,657,658,659,660,661,662,663,664,665,666,667,668,669,670,671,672,673,674,675,676,677,678,679,680,681,682,683,684,685,686,687,688,689,690,691,692,693,694,695,696,697,698,699,700,701,702,703,704,705,706,707,708,709,710,711,712,713,714,715,716,717,718,719,720,721,722,723,724,725,726,727,728,729,730,731,732,733,734,735,736,737,738,739,740,741,742,743,744,745,746,747,748,749,750,751,752,753,754,755,756,757,758,759,760,761,762,763,764,765,766,767,768,769,770,771,772,773,774,775,776,777,778,779,780,781,782,783,784,785,786,787,788,789,790,791,792,793,794,795,796,797,798,799,800,801,802,803,804,805,806,807,808,809,810,811,812,813,814,815,816,817,818,819,820,821,822,823,824,825,826,827,828,829,830,831,832,833,834,835,836,837,838,839,840,841,842,843,844,845,846,847,848,849,850,851,852,853,854,855,856,857,858,859,860,861,862,863,864,865,866,867,868,869,870,871,872,873,874,875,876,877,878,879,880,881,882,883,884,885,886,887,888,889,890,891,892,893,894,895,896,897,898,899,900,901,902,903,904,905,906,907,908,909,910,911,912,913,914,915,916,917,918,919,920,921,922,923,924,925,926,927,928,929,930,931,932,933,934,935,936,937,938,939,940,941,942,943,944,945,946,947,948,949,950,951,952,953,954,955,956,957,958,959,960,961,962,963,964,965,966,967,968,969,970,971,972,973,974,975,976,977,978,979,980,981,982,983,984,985,986,987,988,989,990,991,992,993,994,995,996,997,998,999],\"xaxis\":\"x\",\"y\":[5.0,3.0,5.0,3.25,7.0,5.0,5.571428571428571,4.75,5.111111111111111,4.6,5.363636363636363,4.916666666666667,4.6923076923076925,5.0,4.933333333333334,4.6875,5.352941176470588,5.111111111111111,4.7368421052631575,5.2,4.714285714285714,5.0,5.043478260869565,5.041666666666667,5.52,5.115384615384615,4.888888888888889,5.571428571428571,5.517241379310345,5.233333333333333,5.096774193548387,4.65625,4.363636363636363,5.294117647058823,5.142857142857143,4.777777777777778,5.108108108108108,4.921052631578948,5.153846153846154,5.225,4.902439024390244,4.738095238095238,4.6976744186046515,5.181818181818182,4.888888888888889,5.130434782608695,5.382978723404255,5.104166666666667,4.877551020408164,5.04,4.803921568627451,4.634615384615385,4.679245283018868,4.907407407407407,5.054545454545455,4.946428571428571,5.105263157894737,5.0344827586206895,4.88135593220339,4.866666666666666,4.885245901639344,5.112903225806452,4.857142857142857,5.28125,4.892307692307693,5.181818181818182,5.014925373134329,5.073529411764706,5.159420289855072,4.985714285714286,4.76056338028169,5.055555555555555,4.794520547945205,5.3108108108108105,5.1066666666666665,4.894736842105263,4.909090909090909,4.769230769230769,4.658227848101266,5.125,4.839506172839506,4.926829268292683,4.554216867469879,5.035714285714286,4.988235294117647,5.023255813953488,5.344827586206897,5.0227272727272725,5.01123595505618,5.011111111111111,5.065934065934066,4.771739130434782,4.924731182795699,5.180851063829787,4.663157894736842,5.03125,4.65979381443299,4.714285714285714,4.959595959595959,4.82,5.079207920792079,5.049019607843137,5.184466019417476,5.259615384615385,4.866666666666666,4.80188679245283,4.841121495327103,5.222222222222222,5.18348623853211,4.909090909090909,4.81981981981982,4.973214285714286,4.911504424778761,5.078947368421052,4.852173913043479,5.017241379310345,5.085470085470085,4.88135593220339,5.092436974789916,4.825,5.033057851239669,4.836065573770492,4.813008130081301,5.07258064516129,4.904,4.968253968253968,5.0,5.09375,5.0852713178294575,4.815384615384615,4.923664122137405,4.984848484848484,5.165413533834586,5.246268656716418,4.7481481481481485,5.117647058823529,5.189781021897811,5.036231884057971,4.805755395683454,4.928571428571429,4.98581560283688,5.105633802816901,5.055944055944056,4.958333333333333,4.9862068965517246,5.13013698630137,4.857142857142857,4.878378378378378,5.060402684563758,4.8,5.006622516556291,4.967105263157895,4.973856209150327,4.98051948051948,5.083870967741936,4.814102564102564,5.210191082802548,5.069620253164557,5.037735849056604,4.84375,4.857142857142857,4.9753086419753085,4.877300613496932,5.048780487804878,5.13939393939394,4.927710843373494,5.047904191616767,5.142857142857143,4.970414201183432,4.847058823529411,5.087719298245614,4.877906976744186,5.115606936416185,5.206896551724138,4.937142857142857,5.028409090909091,4.68361581920904,4.926966292134831,5.106145251396648,5.127777777777778,4.900552486187845,5.038461538461538,5.038251366120218,5.081521739130435,4.697297297297298,4.78494623655914,5.016042780748663,5.031914893617022,4.735449735449736,5.252631578947368,4.989528795811518,5.265625,4.994818652849741,4.93298969072165,4.892307692307693,5.061224489795919,5.253807106598985,4.858585858585859,4.974874371859296,5.005,5.0,5.064356435643564,5.0,4.946078431372549,5.102439024390244,5.121359223300971,5.091787439613527,5.076923076923077,4.9330143540669855,4.852380952380952,4.95260663507109,5.0,4.924882629107981,5.070093457943925,4.8604651162790695,4.87037037037037,5.013824884792626,5.068807339449541,5.0091324200913245,4.8954545454545455,4.927601809954751,4.923423423423423,4.968609865470852,5.133928571428571,5.04,4.924778761061947,4.929515418502203,4.921052631578948,4.925764192139738,4.921739130434783,5.06926406926407,4.905172413793103,4.824034334763948,4.867521367521367,5.140425531914894,5.182203389830509,5.050632911392405,4.96218487394958,4.97071129707113,4.8625,5.029045643153527,5.070247933884297,5.049382716049383,4.897540983606557,4.987755102040817,5.032520325203252,5.186234817813765,4.959677419354839,5.040160642570281,4.972,4.884462151394422,5.091269841269841,5.146245059288537,4.9921259842519685,4.952941176470588,4.91015625,4.918287937743191,4.988372093023256,4.938223938223938,5.161538461538462,4.996168582375479,5.049618320610687,4.977186311787072,4.950757575757576,4.860377358490566,5.0,4.9812734082397006,5.063432835820896,4.988847583643123,5.0962962962962965,5.055350553505535,4.944852941176471,5.043956043956044,4.981751824817518,5.010909090909091,5.1231884057971016,5.021660649819495,5.068345323741007,4.971326164874552,5.05,5.149466192170818,5.042553191489362,5.017667844522968,4.915492957746479,5.094736842105263,4.888111888111888,4.881533101045296,4.944444444444445,4.913494809688581,4.924137931034482,4.934707903780069,4.852739726027397,4.955631399317406,5.023809523809524,5.033898305084746,4.773648648648648,4.861952861952862,5.023489932885906,5.2040133779264215,5.113333333333333,4.923588039867109,4.940397350993377,4.9537953795379535,5.006578947368421,4.967213114754099,4.996732026143791,4.905537459283388,4.98051948051948,4.9288025889967635,5.106451612903226,5.096463022508039,4.987179487179487,5.012779552715655,5.025477707006369,5.019047619047619,5.0664556962025316,5.018927444794953,4.949685534591195,5.056426332288401,4.984375,4.990654205607477,4.940993788819876,5.012383900928793,5.018518518518518,5.064615384615385,4.941717791411043,4.969418960244648,5.015243902439025,4.88145896656535,4.972727272727273,4.972809667673716,4.942771084337349,4.948948948948949,4.958083832335329,4.886567164179104,4.919642857142857,4.85459940652819,4.9674556213017755,5.023598820058997,4.991176470588235,5.0791788856304985,4.932748538011696,4.871720116618076,4.9854651162790695,5.084057971014492,5.109826589595376,5.089337175792507,5.002873563218391,4.862464183381089,4.857142857142857,4.968660968660969,5.079545454545454,5.110481586402266,4.954802259887006,4.974647887323943,5.067415730337078,5.0,5.078212290502793,5.052924791086351,5.030555555555556,5.096952908587258,4.983425414364641,4.865013774104683,5.0467032967032965,4.906849315068493,4.975409836065574,5.106267029972752,4.983695652173913,4.964769647696477,4.889189189189189,5.0431266846361185,4.78494623655914,4.946380697050938,4.933155080213904,4.898666666666666,4.85904255319149,5.021220159151194,4.843915343915344,5.076517150395778,5.042105263157895,4.94750656167979,4.981675392670157,4.9138381201044385,4.997395833333333,5.148051948051948,5.085492227979275,4.987080103359173,5.077319587628866,5.077120822622108,5.058974358974359,5.130434782608695,4.966836734693878,5.173027989821883,5.050761421319797,4.987341772151899,5.015151515151516,5.062972292191436,4.909547738693467,5.110275689223058,4.965,4.895261845386534,4.937810945273632,4.972704714640199,5.103960396039604,4.898765432098766,5.130541871921182,5.15970515970516,4.948529411764706,4.965770171149145,5.036585365853658,5.092457420924574,5.004854368932039,4.905569007263923,5.019323671497585,4.908433734939759,4.9735576923076925,5.2086330935251794,4.997607655502392,5.031026252983294,4.883333333333334,5.144893111638955,5.037914691943128,4.938534278959811,4.936320754716981,4.894117647058824,4.962441314553991,5.004683840749414,4.94392523364486,5.118881118881119,5.097674418604651,5.025522041763341,4.935185185185185,5.1200923787528865,4.993087557603687,5.082758620689655,4.885321100917431,4.945080091533181,5.19634703196347,5.088838268792711,5.088636363636364,4.968253968253968,5.0588235294117645,4.889390519187359,5.083333333333333,5.125842696629213,5.0358744394618835,4.970917225950783,5.0625,5.006681514476615,4.9222222222222225,4.933481152993348,4.951327433628318,5.008830022075055,4.969162995594714,4.92967032967033,4.995614035087719,4.921225382932167,4.991266375545852,5.074074074074074,5.069565217391304,5.032537960954447,5.01948051948052,4.995680345572354,4.974137931034483,5.021505376344086,4.886266094420601,5.107066381156317,5.0256410256410255,4.88272921108742,4.9297872340425535,4.978768577494692,5.122881355932203,5.033826638477802,4.905063291139241,4.837894736842105,4.911764705882353,4.955974842767295,4.912133891213389,4.995824634655532,5.025,5.041580041580041,4.919087136929461,5.097308488612836,4.832644628099174,4.967010309278351,4.841563786008231,4.983572895277208,5.004098360655738,4.865030674846626,4.963265306122449,5.040733197556008,4.975609756097561,4.939148073022312,4.9757085020242915,5.044444444444444,5.0,5.00804828973843,5.028112449799197,4.927855711422846,5.076,4.912175648702595,4.882470119521912,4.990059642147117,5.132936507936508,5.104950495049505,4.978260869565218,5.0848126232741615,5.035433070866142,4.980353634577603,4.97843137254902,5.060665362035225,4.95703125,5.116959064327485,5.070038910505836,4.8912621359223305,5.073643410852713,4.982591876208898,5.017374517374518,5.02504816955684,4.923076923076923,5.049904030710173,5.003831417624521,5.034416826003824,4.973282442748092,4.944761904761905,4.914448669201521,5.020872865275142,5.009469696969697,4.979206049149338,5.050943396226415,4.87758945386064,5.041353383458647,4.894934333958724,5.046816479400749,5.003738317757009,5.145522388059701,5.042830540037244,5.08550185873606,5.024118738404453,4.975925925925926,4.985212569316081,4.996309963099631,4.963167587476979,5.014705882352941,5.080733944954129,5.073260073260073,5.051188299817184,5.127737226277373,5.169398907103825,4.9,5.058076225045372,4.931159420289855,4.947558770343581,5.101083032490974,5.034234234234234,5.039568345323741,5.062836624775583,4.983870967741935,4.946332737030412,4.9714285714285715,4.926916221033868,4.955516014234876,5.024866785079929,4.98936170212766,4.984070796460177,4.989399293286219,4.943562610229277,4.952464788732394,4.985940246045694,4.950877192982456,5.02276707530648,5.0,4.982547993019197,4.789198606271777,4.925217391304348,4.918402777777778,5.067590987868284,5.0190311418685125,5.048359240069084,4.989655172413793,4.938037865748709,4.864261168384879,4.927958833619211,5.006849315068493,5.066666666666666,4.979522184300341,5.022146507666099,4.858843537414966,5.149405772495755,4.933898305084746,4.9661590524534684,4.996621621621622,5.1534569983136596,5.087542087542087,5.015126050420168,5.006711409395973,4.964824120603015,4.914715719063545,5.045075125208681,4.998333333333333,4.976705490848586,4.946843853820598,4.951907131011609,4.8841059602649,5.109090909090909,4.925742574257426,4.940691927512356,4.998355263157895,5.045977011494253,4.991803278688525,4.954173486088379,5.011437908496732,4.988580750407831,4.908794788273616,4.995121951219512,5.025974025974026,5.009724473257698,4.893203883495145,5.01453957996769,4.970967741935484,5.00805152979066,4.977491961414791,4.963081861958266,4.971153846153846,4.9328,4.984025559105431,5.065390749601276,5.00796178343949,5.07154213036566,5.0476190476190474,5.093502377179081,5.026898734177215,5.023696682464455,4.979495268138801,4.995275590551181,5.034591194968553,4.971742543171114,5.089341692789969,5.043818466353677,4.996875,5.009360374414976,5.007788161993769,4.900466562986003,4.9145962732919255,5.066666666666666,5.027863777089784,4.948995363214838,5.067901234567901,4.961479198767335,4.990769230769231,5.135176651305684,4.966257668711656,5.012251148545176,5.07645259938838,5.009160305343512,5.088414634146342,5.041095890410959,4.954407294832826,4.908952959028832,5.134848484848485,4.936459909228442,5.004531722054381,4.957767722473605,5.033132530120482,4.978947368421053,4.966966966966967,5.058470764617691,5.06437125748503,4.96711509715994,5.111940298507463,4.949329359165425,4.982142857142857,5.075780089153046,4.9955489614243325,5.13037037037037,4.985207100591716,5.064992614475628,5.019174041297935,4.988217967599411,5.0132352941176475,4.985315712187959,5.052785923753666,4.9575402635431915,5.124269005847953,5.065693430656935,5.088921282798834,4.925764192139738,5.026162790697675,4.982583454281568,4.917391304347826,5.026049204052098,4.953757225433526,4.933621933621934,4.963976945244957,5.002877697841726,5.022988505747127,4.923959827833572,5.128939828080229,4.992846924177396,4.975714285714286,5.049928673323823,5.022792022792022,4.951635846372689,4.948863636363637,5.00709219858156,5.06657223796034,5.0226308345120225,4.995762711864407,4.947813822284909,4.98169014084507,4.966244725738397,5.015449438202247,4.9607293127629735,4.84453781512605,4.993006993006993,4.946927374301676,5.079497907949791,5.079387186629527,5.062586926286509,4.997222222222222,4.918169209431345,4.918282548476454,4.970954356846473,4.964088397790055,4.841379310344828,5.081267217630854,5.012379642365887,5.009615384615385,4.983539094650205,4.902739726027397,4.98358413132695,5.004098360655738,4.998635743519782,4.9959128065395095,5.048979591836734,4.989130434782608,4.9389416553595655,5.067750677506775,5.074424898511502,4.987837837837838,5.143049932523617,5.005390835579515,5.001345895020188,4.987903225806452,5.03489932885906,4.983914209115282,4.93574297188755,5.017379679144385,5.078771695594125,4.993333333333333,5.042609853528629,5.026595744680851,5.079681274900398,4.953580901856764,4.8582781456953645,4.955026455026455,4.9498018494055485,5.010554089709762,4.996047430830039,4.889473684210526,5.036793692509855,5.020997375328084,4.9790301441677585,4.9136125654450264,5.030065359477124,4.950391644908616,5.011734028683181,5.005208333333333,4.962288686605982,5.055844155844156,4.95201037613489,5.005181347150259,5.00646830530401,5.072351421188631,5.006451612903226,4.98840206185567,4.951093951093951,5.140102827763497,4.893453145057767,5.0256410256410255,4.988476312419975,4.910485933503836,5.154533844189016,5.049744897959184,4.977070063694267,5.096692111959287,4.923761118170267,4.991116751269035,4.980988593155893,4.973417721518987,5.085967130214918,5.045454545454546,4.987389659520807,4.968513853904282,4.930817610062893,5.023869346733668,5.159347553324968,5.003759398496241,4.944931163954943,5.02,5.019975031210986,5.1197007481296755,5.023661270236612,4.961442786069652,5.094409937888199,4.939205955334987,5.034696406443619,4.962871287128713,4.929542645241038,4.991358024691358,4.961775585696671,5.025862068965517,4.969249692496925,5.0,5.041717791411043,4.953431372549019,4.943696450428397,5.056234718826406,4.915750915750916,4.913414634146341,4.964677222898904,5.090024330900243,4.974483596597813,4.99878640776699,5.069090909090909,5.019370460048426,5.004836759371221,5.019323671497585,4.956574185765983,5.054216867469879,5.036101083032491,5.112980769230769,5.025210084033613,5.016786570743405,4.913772455089821,5.0,4.918757467144564,4.9964200477326965,4.923718712753278,4.998809523809523,5.033293697978597,4.965558194774347,5.039145907473309,4.997630331753554,4.981065088757396,5.035460992907802,5.025974025974026,4.998820754716981,5.0188457008244995,5.049411764705883,4.962397179788484,5.024647887323944,5.055099648300117,4.977751756440281,4.916959064327485,4.908878504672897,4.9323220536756125,4.972027972027972,4.9953434225844005,5.02906976744186,4.9210220673635305,4.930394431554524,5.003476245654693,5.034722222222222,5.024277456647399,5.05080831408776,5.036908881199539,4.888248847926267,5.113924050632911,4.974712643678161,5.026406429391504,4.904816513761468,5.029782359679267,4.956521739130435,4.950857142857143,4.921232876712328,5.05473204104903,4.912300683371298,5.030716723549488,4.943181818181818,5.014755959137344,5.0600907029478455,5.009060022650057,5.049773755656108,5.059887005649718,5.034988713318285,5.0642615558060875,4.956081081081081,5.106861642294713,4.956179775280899,4.930415263748597,5.022421524663677,4.917133258678612,5.0480984340044746,5.027932960893855,4.975446428571429,5.098104793756968,4.948775055679287,4.967741935483871,5.1177777777777775,5.034406215316316,4.984478935698448,5.002214839424142,4.986725663716814,5.053038674033149,5.012141280353201,4.950385887541345,4.975770925110132,5.0154015401540155,5.0054945054945055,4.998902305159166,5.027412280701754,5.053669222343921,5.027352297592998,4.906010928961749,4.9836244541484715,4.882224645583424,5.0588235294117645,5.054406964091403,5.026086956521739,4.964169381107492,4.997830802603037,4.938244853737811,4.95021645021645,5.052972972972973,5.070194384449244,5.019417475728155,5.010775862068965,4.948331539289558,4.991397849462365,4.9785177228786255,5.033261802575107,5.07502679528403,4.955032119914347,5.064171122994653,4.964743589743589,5.0512273212379935,4.990405117270789,5.015974440894569,4.930851063829787,4.976620616365569,5.0456475583864115,5.0,4.995762711864407,5.003174603174603,5.043340380549683,5.077085533262935,4.9145569620253164,5.003161222339305,5.048421052631579,5.032597266035752,5.0472689075630255,4.981112277019937,5.085953878406708,5.0795811518324605,5.053347280334728,5.078369905956113,5.0,5.025026068821689,5.063541666666667,4.9417273673257025,5.06964656964657,5.068535825545172,4.965767634854772,5.082901554404145,4.976190476190476,4.984488107549121,5.045454545454546,4.981424148606811,5.014432989690722,4.908341915550978,5.017489711934156,4.99486125385406,4.949691991786447,5.021538461538461,4.917008196721311,5.0460593654042984,4.9059304703476485,5.0541368743615935,5.007142857142857,5.013251783893986,4.994908350305499,4.965412004069176,4.975609756097561,5.023350253807107,4.911764705882353,4.934143870314083,5.02834008097166,5.038422649140546,4.991919191919192,5.0292633703329965,5.022177419354839,5.076535750251763,4.959758551307847,5.105527638190955,4.980923694779117,4.988966900702106,4.993987975951904,4.994994994994995],\"yaxis\":\"y\",\"type\":\"scatter\"}],                        {\"template\":{\"data\":{\"histogram2dcontour\":[{\"type\":\"histogram2dcontour\",\"colorbar\":{\"outlinewidth\":0,\"ticks\":\"\"},\"colorscale\":[[0.0,\"#0d0887\"],[0.1111111111111111,\"#46039f\"],[0.2222222222222222,\"#7201a8\"],[0.3333333333333333,\"#9c179e\"],[0.4444444444444444,\"#bd3786\"],[0.5555555555555556,\"#d8576b\"],[0.6666666666666666,\"#ed7953\"],[0.7777777777777778,\"#fb9f3a\"],[0.8888888888888888,\"#fdca26\"],[1.0,\"#f0f921\"]]}],\"choropleth\":[{\"type\":\"choropleth\",\"colorbar\":{\"outlinewidth\":0,\"ticks\":\"\"}}],\"histogram2d\":[{\"type\":\"histogram2d\",\"colorbar\":{\"outlinewidth\":0,\"ticks\":\"\"},\"colorscale\":[[0.0,\"#0d0887\"],[0.1111111111111111,\"#46039f\"],[0.2222222222222222,\"#7201a8\"],[0.3333333333333333,\"#9c179e\"],[0.4444444444444444,\"#bd3786\"],[0.5555555555555556,\"#d8576b\"],[0.6666666666666666,\"#ed7953\"],[0.7777777777777778,\"#fb9f3a\"],[0.8888888888888888,\"#fdca26\"],[1.0,\"#f0f921\"]]}],\"heatmap\":[{\"type\":\"heatmap\",\"colorbar\":{\"outlinewidth\":0,\"ticks\":\"\"},\"colorscale\":[[0.0,\"#0d0887\"],[0.1111111111111111,\"#46039f\"],[0.2222222222222222,\"#7201a8\"],[0.3333333333333333,\"#9c179e\"],[0.4444444444444444,\"#bd3786\"],[0.5555555555555556,\"#d8576b\"],[0.6666666666666666,\"#ed7953\"],[0.7777777777777778,\"#fb9f3a\"],[0.8888888888888888,\"#fdca26\"],[1.0,\"#f0f921\"]]}],\"heatmapgl\":[{\"type\":\"heatmapgl\",\"colorbar\":{\"outlinewidth\":0,\"ticks\":\"\"},\"colorscale\":[[0.0,\"#0d0887\"],[0.1111111111111111,\"#46039f\"],[0.2222222222222222,\"#7201a8\"],[0.3333333333333333,\"#9c179e\"],[0.4444444444444444,\"#bd3786\"],[0.5555555555555556,\"#d8576b\"],[0.6666666666666666,\"#ed7953\"],[0.7777777777777778,\"#fb9f3a\"],[0.8888888888888888,\"#fdca26\"],[1.0,\"#f0f921\"]]}],\"contourcarpet\":[{\"type\":\"contourcarpet\",\"colorbar\":{\"outlinewidth\":0,\"ticks\":\"\"}}],\"contour\":[{\"type\":\"contour\",\"colorbar\":{\"outlinewidth\":0,\"ticks\":\"\"},\"colorscale\":[[0.0,\"#0d0887\"],[0.1111111111111111,\"#46039f\"],[0.2222222222222222,\"#7201a8\"],[0.3333333333333333,\"#9c179e\"],[0.4444444444444444,\"#bd3786\"],[0.5555555555555556,\"#d8576b\"],[0.6666666666666666,\"#ed7953\"],[0.7777777777777778,\"#fb9f3a\"],[0.8888888888888888,\"#fdca26\"],[1.0,\"#f0f921\"]]}],\"surface\":[{\"type\":\"surface\",\"colorbar\":{\"outlinewidth\":0,\"ticks\":\"\"},\"colorscale\":[[0.0,\"#0d0887\"],[0.1111111111111111,\"#46039f\"],[0.2222222222222222,\"#7201a8\"],[0.3333333333333333,\"#9c179e\"],[0.4444444444444444,\"#bd3786\"],[0.5555555555555556,\"#d8576b\"],[0.6666666666666666,\"#ed7953\"],[0.7777777777777778,\"#fb9f3a\"],[0.8888888888888888,\"#fdca26\"],[1.0,\"#f0f921\"]]}],\"mesh3d\":[{\"type\":\"mesh3d\",\"colorbar\":{\"outlinewidth\":0,\"ticks\":\"\"}}],\"scatter\":[{\"fillpattern\":{\"fillmode\":\"overlay\",\"size\":10,\"solidity\":0.2},\"type\":\"scatter\"}],\"parcoords\":[{\"type\":\"parcoords\",\"line\":{\"colorbar\":{\"outlinewidth\":0,\"ticks\":\"\"}}}],\"scatterpolargl\":[{\"type\":\"scatterpolargl\",\"marker\":{\"colorbar\":{\"outlinewidth\":0,\"ticks\":\"\"}}}],\"bar\":[{\"error_x\":{\"color\":\"#2a3f5f\"},\"error_y\":{\"color\":\"#2a3f5f\"},\"marker\":{\"line\":{\"color\":\"#E5ECF6\",\"width\":0.5},\"pattern\":{\"fillmode\":\"overlay\",\"size\":10,\"solidity\":0.2}},\"type\":\"bar\"}],\"scattergeo\":[{\"type\":\"scattergeo\",\"marker\":{\"colorbar\":{\"outlinewidth\":0,\"ticks\":\"\"}}}],\"scatterpolar\":[{\"type\":\"scatterpolar\",\"marker\":{\"colorbar\":{\"outlinewidth\":0,\"ticks\":\"\"}}}],\"histogram\":[{\"marker\":{\"pattern\":{\"fillmode\":\"overlay\",\"size\":10,\"solidity\":0.2}},\"type\":\"histogram\"}],\"scattergl\":[{\"type\":\"scattergl\",\"marker\":{\"colorbar\":{\"outlinewidth\":0,\"ticks\":\"\"}}}],\"scatter3d\":[{\"type\":\"scatter3d\",\"line\":{\"colorbar\":{\"outlinewidth\":0,\"ticks\":\"\"}},\"marker\":{\"colorbar\":{\"outlinewidth\":0,\"ticks\":\"\"}}}],\"scattermapbox\":[{\"type\":\"scattermapbox\",\"marker\":{\"colorbar\":{\"outlinewidth\":0,\"ticks\":\"\"}}}],\"scatterternary\":[{\"type\":\"scatterternary\",\"marker\":{\"colorbar\":{\"outlinewidth\":0,\"ticks\":\"\"}}}],\"scattercarpet\":[{\"type\":\"scattercarpet\",\"marker\":{\"colorbar\":{\"outlinewidth\":0,\"ticks\":\"\"}}}],\"carpet\":[{\"aaxis\":{\"endlinecolor\":\"#2a3f5f\",\"gridcolor\":\"white\",\"linecolor\":\"white\",\"minorgridcolor\":\"white\",\"startlinecolor\":\"#2a3f5f\"},\"baxis\":{\"endlinecolor\":\"#2a3f5f\",\"gridcolor\":\"white\",\"linecolor\":\"white\",\"minorgridcolor\":\"white\",\"startlinecolor\":\"#2a3f5f\"},\"type\":\"carpet\"}],\"table\":[{\"cells\":{\"fill\":{\"color\":\"#EBF0F8\"},\"line\":{\"color\":\"white\"}},\"header\":{\"fill\":{\"color\":\"#C8D4E3\"},\"line\":{\"color\":\"white\"}},\"type\":\"table\"}],\"barpolar\":[{\"marker\":{\"line\":{\"color\":\"#E5ECF6\",\"width\":0.5},\"pattern\":{\"fillmode\":\"overlay\",\"size\":10,\"solidity\":0.2}},\"type\":\"barpolar\"}],\"pie\":[{\"automargin\":true,\"type\":\"pie\"}]},\"layout\":{\"autotypenumbers\":\"strict\",\"colorway\":[\"#636efa\",\"#EF553B\",\"#00cc96\",\"#ab63fa\",\"#FFA15A\",\"#19d3f3\",\"#FF6692\",\"#B6E880\",\"#FF97FF\",\"#FECB52\"],\"font\":{\"color\":\"#2a3f5f\"},\"hovermode\":\"closest\",\"hoverlabel\":{\"align\":\"left\"},\"paper_bgcolor\":\"white\",\"plot_bgcolor\":\"#E5ECF6\",\"polar\":{\"bgcolor\":\"#E5ECF6\",\"angularaxis\":{\"gridcolor\":\"white\",\"linecolor\":\"white\",\"ticks\":\"\"},\"radialaxis\":{\"gridcolor\":\"white\",\"linecolor\":\"white\",\"ticks\":\"\"}},\"ternary\":{\"bgcolor\":\"#E5ECF6\",\"aaxis\":{\"gridcolor\":\"white\",\"linecolor\":\"white\",\"ticks\":\"\"},\"baxis\":{\"gridcolor\":\"white\",\"linecolor\":\"white\",\"ticks\":\"\"},\"caxis\":{\"gridcolor\":\"white\",\"linecolor\":\"white\",\"ticks\":\"\"}},\"coloraxis\":{\"colorbar\":{\"outlinewidth\":0,\"ticks\":\"\"}},\"colorscale\":{\"sequential\":[[0.0,\"#0d0887\"],[0.1111111111111111,\"#46039f\"],[0.2222222222222222,\"#7201a8\"],[0.3333333333333333,\"#9c179e\"],[0.4444444444444444,\"#bd3786\"],[0.5555555555555556,\"#d8576b\"],[0.6666666666666666,\"#ed7953\"],[0.7777777777777778,\"#fb9f3a\"],[0.8888888888888888,\"#fdca26\"],[1.0,\"#f0f921\"]],\"sequentialminus\":[[0.0,\"#0d0887\"],[0.1111111111111111,\"#46039f\"],[0.2222222222222222,\"#7201a8\"],[0.3333333333333333,\"#9c179e\"],[0.4444444444444444,\"#bd3786\"],[0.5555555555555556,\"#d8576b\"],[0.6666666666666666,\"#ed7953\"],[0.7777777777777778,\"#fb9f3a\"],[0.8888888888888888,\"#fdca26\"],[1.0,\"#f0f921\"]],\"diverging\":[[0,\"#8e0152\"],[0.1,\"#c51b7d\"],[0.2,\"#de77ae\"],[0.3,\"#f1b6da\"],[0.4,\"#fde0ef\"],[0.5,\"#f7f7f7\"],[0.6,\"#e6f5d0\"],[0.7,\"#b8e186\"],[0.8,\"#7fbc41\"],[0.9,\"#4d9221\"],[1,\"#276419\"]]},\"xaxis\":{\"gridcolor\":\"white\",\"linecolor\":\"white\",\"ticks\":\"\",\"title\":{\"standoff\":15},\"zerolinecolor\":\"white\",\"automargin\":true,\"zerolinewidth\":2},\"yaxis\":{\"gridcolor\":\"white\",\"linecolor\":\"white\",\"ticks\":\"\",\"title\":{\"standoff\":15},\"zerolinecolor\":\"white\",\"automargin\":true,\"zerolinewidth\":2},\"scene\":{\"xaxis\":{\"backgroundcolor\":\"#E5ECF6\",\"gridcolor\":\"white\",\"linecolor\":\"white\",\"showbackground\":true,\"ticks\":\"\",\"zerolinecolor\":\"white\",\"gridwidth\":2},\"yaxis\":{\"backgroundcolor\":\"#E5ECF6\",\"gridcolor\":\"white\",\"linecolor\":\"white\",\"showbackground\":true,\"ticks\":\"\",\"zerolinecolor\":\"white\",\"gridwidth\":2},\"zaxis\":{\"backgroundcolor\":\"#E5ECF6\",\"gridcolor\":\"white\",\"linecolor\":\"white\",\"showbackground\":true,\"ticks\":\"\",\"zerolinecolor\":\"white\",\"gridwidth\":2}},\"shapedefaults\":{\"line\":{\"color\":\"#2a3f5f\"}},\"annotationdefaults\":{\"arrowcolor\":\"#2a3f5f\",\"arrowhead\":0,\"arrowwidth\":1},\"geo\":{\"bgcolor\":\"white\",\"landcolor\":\"#E5ECF6\",\"subunitcolor\":\"white\",\"showland\":true,\"showlakes\":true,\"lakecolor\":\"white\"},\"title\":{\"x\":0.05},\"mapbox\":{\"style\":\"light\"}}},\"xaxis\":{\"anchor\":\"y\",\"domain\":[0.0,1.0],\"title\":{\"text\":\"x\"}},\"yaxis\":{\"anchor\":\"x\",\"domain\":[0.0,1.0],\"title\":{\"text\":\"y\"}},\"legend\":{\"tracegroupgap\":0},\"margin\":{\"t\":60},\"shapes\":[{\"line\":{\"color\":\"red\",\"dash\":\"dash\"},\"type\":\"line\",\"x0\":0,\"x1\":1,\"xref\":\"x domain\",\"y0\":5,\"y1\":5,\"yref\":\"y\"}]},                        {\"responsive\": true}                    ).then(function(){\n",
              "                            \n",
              "var gd = document.getElementById('9a531bc7-6ac9-4963-9d52-8400053844d5');\n",
              "var x = new MutationObserver(function (mutations, observer) {{\n",
              "        var display = window.getComputedStyle(gd).display;\n",
              "        if (!display || display === 'none') {{\n",
              "            console.log([gd, 'removed!']);\n",
              "            Plotly.purge(gd);\n",
              "            observer.disconnect();\n",
              "        }}\n",
              "}});\n",
              "\n",
              "// Listen for the removal of the full notebook cells\n",
              "var notebookContainer = gd.closest('#notebook-container');\n",
              "if (notebookContainer) {{\n",
              "    x.observe(notebookContainer, {childList: true});\n",
              "}}\n",
              "\n",
              "// Listen for the clearing of the current output cell\n",
              "var outputEl = gd.closest('.output');\n",
              "if (outputEl) {{\n",
              "    x.observe(outputEl, {childList: true});\n",
              "}}\n",
              "\n",
              "                        })                };                            </script>        </div>\n",
              "</body>\n",
              "</html>"
            ]
          },
          "metadata": {}
        }
      ]
    },
    {
      "cell_type": "markdown",
      "id": "174566fb",
      "metadata": {
        "id": "174566fb"
      },
      "source": [
        "If you did this right, you should be able to see how as you increase the number of trials, the observed (empirical) means mirror the expected (theoretical) mean more and more."
      ]
    },
    {
      "cell_type": "markdown",
      "id": "7a4dcde6",
      "metadata": {
        "id": "7a4dcde6"
      },
      "source": [
        "Let's now wrap it in one function so we can reuse it in our later code if we need to. Create a fuction `def toss_10_coins` that takes 3 arguments. This function should refactor all the steps from creating `trials`, `results` and your plot."
      ]
    },
    {
      "cell_type": "code",
      "execution_count": 202,
      "id": "6e218611",
      "metadata": {
        "id": "6e218611"
      },
      "outputs": [],
      "source": [
        "def toss_10_coins(trials, result, probability):\n",
        "  colist = []\n",
        "  for i in range(1,trials):\n",
        "    coin_list = np.random.binomial(10,probability, i).mean().tolist()\n",
        "    colist.append(coin_list)\n",
        "\n",
        "  figure = px.line(\n",
        "      x= range(1, trials),\n",
        "      y = colist\n",
        "  )\n",
        "  figure.add_hline(y=result,line_dash=\"dash\", line_color=\"red\")\n",
        "  figure.show()\n",
        "\n"
      ]
    },
    {
      "cell_type": "code",
      "execution_count": 203,
      "id": "d764a409",
      "metadata": {
        "scrolled": true,
        "id": "d764a409",
        "colab": {
          "base_uri": "https://localhost:8080/",
          "height": 542
        },
        "outputId": "d259669b-f864-473c-cb99-818a82ad69e2"
      },
      "outputs": [
        {
          "output_type": "display_data",
          "data": {
            "text/html": [
              "<html>\n",
              "<head><meta charset=\"utf-8\" /></head>\n",
              "<body>\n",
              "    <div>            <script src=\"https://cdnjs.cloudflare.com/ajax/libs/mathjax/2.7.5/MathJax.js?config=TeX-AMS-MML_SVG\"></script><script type=\"text/javascript\">if (window.MathJax && window.MathJax.Hub && window.MathJax.Hub.Config) {window.MathJax.Hub.Config({SVG: {font: \"STIX-Web\"}});}</script>                <script type=\"text/javascript\">window.PlotlyConfig = {MathJaxConfig: 'local'};</script>\n",
              "        <script charset=\"utf-8\" src=\"https://cdn.plot.ly/plotly-2.24.1.min.js\"></script>                <div id=\"b0e795cb-c1e0-4301-bb8c-cec81854a419\" class=\"plotly-graph-div\" style=\"height:525px; width:100%;\"></div>            <script type=\"text/javascript\">                                    window.PLOTLYENV=window.PLOTLYENV || {};                                    if (document.getElementById(\"b0e795cb-c1e0-4301-bb8c-cec81854a419\")) {                    Plotly.newPlot(                        \"b0e795cb-c1e0-4301-bb8c-cec81854a419\",                        [{\"hovertemplate\":\"x=%{x}\\u003cbr\\u003ey=%{y}\\u003cextra\\u003e\\u003c\\u002fextra\\u003e\",\"legendgroup\":\"\",\"line\":{\"color\":\"#636efa\",\"dash\":\"solid\"},\"marker\":{\"symbol\":\"circle\"},\"mode\":\"lines\",\"name\":\"\",\"orientation\":\"v\",\"showlegend\":false,\"x\":[1,2,3,4,5,6,7,8,9,10,11,12,13,14,15,16,17,18,19,20,21,22,23,24,25,26,27,28,29,30,31,32,33,34,35,36,37,38,39,40,41,42,43,44,45,46,47,48,49,50,51,52,53,54,55,56,57,58,59,60,61,62,63,64,65,66,67,68,69,70,71,72,73,74,75,76,77,78,79,80,81,82,83,84,85,86,87,88,89,90,91,92,93,94,95,96,97,98,99,100,101,102,103,104,105,106,107,108,109,110,111,112,113,114,115,116,117,118,119,120,121,122,123,124,125,126,127,128,129,130,131,132,133,134,135,136,137,138,139,140,141,142,143,144,145,146,147,148,149,150,151,152,153,154,155,156,157,158,159,160,161,162,163,164,165,166,167,168,169,170,171,172,173,174,175,176,177,178,179,180,181,182,183,184,185,186,187,188,189,190,191,192,193,194,195,196,197,198,199,200,201,202,203,204,205,206,207,208,209,210,211,212,213,214,215,216,217,218,219,220,221,222,223,224,225,226,227,228,229,230,231,232,233,234,235,236,237,238,239,240,241,242,243,244,245,246,247,248,249,250,251,252,253,254,255,256,257,258,259,260,261,262,263,264,265,266,267,268,269,270,271,272,273,274,275,276,277,278,279,280,281,282,283,284,285,286,287,288,289,290,291,292,293,294,295,296,297,298,299,300,301,302,303,304,305,306,307,308,309,310,311,312,313,314,315,316,317,318,319,320,321,322,323,324,325,326,327,328,329,330,331,332,333,334,335,336,337,338,339,340,341,342,343,344,345,346,347,348,349,350,351,352,353,354,355,356,357,358,359,360,361,362,363,364,365,366,367,368,369,370,371,372,373,374,375,376,377,378,379,380,381,382,383,384,385,386,387,388,389,390,391,392,393,394,395,396,397,398,399,400,401,402,403,404,405,406,407,408,409,410,411,412,413,414,415,416,417,418,419,420,421,422,423,424,425,426,427,428,429,430,431,432,433,434,435,436,437,438,439,440,441,442,443,444,445,446,447,448,449,450,451,452,453,454,455,456,457,458,459,460,461,462,463,464,465,466,467,468,469,470,471,472,473,474,475,476,477,478,479,480,481,482,483,484,485,486,487,488,489,490,491,492,493,494,495,496,497,498,499,500,501,502,503,504,505,506,507,508,509,510,511,512,513,514,515,516,517,518,519,520,521,522,523,524,525,526,527,528,529,530,531,532,533,534,535,536,537,538,539,540,541,542,543,544,545,546,547,548,549,550,551,552,553,554,555,556,557,558,559,560,561,562,563,564,565,566,567,568,569,570,571,572,573,574,575,576,577,578,579,580,581,582,583,584,585,586,587,588,589,590,591,592,593,594,595,596,597,598,599,600,601,602,603,604,605,606,607,608,609,610,611,612,613,614,615,616,617,618,619,620,621,622,623,624,625,626,627,628,629,630,631,632,633,634,635,636,637,638,639,640,641,642,643,644,645,646,647,648,649,650,651,652,653,654,655,656,657,658,659,660,661,662,663,664,665,666,667,668,669,670,671,672,673,674,675,676,677,678,679,680,681,682,683,684,685,686,687,688,689,690,691,692,693,694,695,696,697,698,699,700,701,702,703,704,705,706,707,708,709,710,711,712,713,714,715,716,717,718,719,720,721,722,723,724,725,726,727,728,729,730,731,732,733,734,735,736,737,738,739,740,741,742,743,744,745,746,747,748,749,750,751,752,753,754,755,756,757,758,759,760,761,762,763,764,765,766,767,768,769,770,771,772,773,774,775,776,777,778,779,780,781,782,783,784,785,786,787,788,789,790,791,792,793,794,795,796,797,798,799,800,801,802,803,804,805,806,807,808,809,810,811,812,813,814,815,816,817,818,819,820,821,822,823,824,825,826,827,828,829,830,831,832,833,834,835,836,837,838,839,840,841,842,843,844,845,846,847,848,849,850,851,852,853,854,855,856,857,858,859,860,861,862,863,864,865,866,867,868,869,870,871,872,873,874,875,876,877,878,879,880,881,882,883,884,885,886,887,888,889,890,891,892,893,894,895,896,897,898,899,900,901,902,903,904,905,906,907,908,909,910,911,912,913,914,915,916,917,918,919,920,921,922,923,924,925,926,927,928,929,930,931,932,933,934,935,936,937,938,939,940,941,942,943,944,945,946,947,948,949,950,951,952,953,954,955,956,957,958,959,960,961,962,963,964,965,966,967,968,969,970,971,972,973,974,975,976,977,978,979,980,981,982,983,984,985,986,987,988,989,990,991,992,993,994,995,996,997,998,999],\"xaxis\":\"x\",\"y\":[7.0,6.0,4.0,5.25,5.0,4.666666666666667,4.428571428571429,4.375,4.444444444444445,4.2,5.2727272727272725,5.166666666666667,4.461538461538462,4.928571428571429,5.133333333333334,5.3125,4.588235294117647,5.388888888888889,4.894736842105263,4.9,5.0476190476190474,5.2272727272727275,4.739130434782608,4.833333333333333,4.76,5.038461538461538,4.888888888888889,4.571428571428571,5.103448275862069,4.5,5.354838709677419,4.90625,5.303030303030303,4.647058823529412,4.9714285714285715,5.444444444444445,5.513513513513513,5.2105263157894735,4.9743589743589745,5.05,5.024390243902439,4.666666666666667,5.209302325581396,4.659090909090909,5.022222222222222,4.913043478260869,4.914893617021277,4.708333333333333,4.857142857142857,5.24,4.8431372549019605,4.826923076923077,4.584905660377358,4.888888888888889,5.0181818181818185,4.464285714285714,4.754385964912281,5.172413793103448,4.915254237288136,5.05,4.639344262295082,5.096774193548387,5.031746031746032,5.0,5.2615384615384615,5.181818181818182,5.208955223880597,5.176470588235294,4.884057971014493,5.1571428571428575,5.028169014084507,5.291666666666667,5.013698630136986,4.986486486486487,5.213333333333333,4.921052631578948,5.220779220779221,4.961538461538462,4.7215189873417724,4.85,4.790123456790123,4.939024390243903,5.0,4.869047619047619,5.047058823529412,5.034883720930233,5.057471264367816,5.306818181818182,4.98876404494382,4.9,5.054945054945055,4.978260869565218,5.0,5.138297872340425,4.989473684210527,4.958333333333333,5.061855670103093,5.204081632653061,5.111111111111111,4.83,5.237623762376238,5.313725490196078,5.067961165048544,4.836538461538462,4.742857142857143,4.811320754716981,4.981308411214953,4.888888888888889,4.944954128440367,4.963636363636364,5.153153153153153,5.098214285714286,4.725663716814159,5.008771929824562,5.034782608695652,5.25,5.042735042735043,4.966101694915254,5.092436974789916,5.25,5.099173553719008,5.024590163934426,5.252032520325203,4.991935483870968,5.232,5.174603174603175,5.181102362204724,4.921875,4.9147286821705425,5.153846153846154,4.969465648854962,5.3106060606060606,5.075187969924812,4.925373134328358,4.948148148148148,5.0661764705882355,4.897810218978102,5.065217391304348,5.0,5.007142857142857,5.01418439716312,4.830985915492958,5.055944055944056,5.041666666666667,5.075862068965518,5.095890410958904,5.040816326530612,4.8108108108108105,4.9865771812080535,4.986666666666666,4.960264900662252,4.743421052631579,4.96078431372549,4.915584415584416,5.025806451612903,5.256410256410256,5.101910828025478,4.962025316455696,4.710691823899371,5.10625,4.975155279503106,5.067901234567901,5.0,5.286585365853658,5.115151515151515,4.957831325301205,5.119760479041916,5.0476190476190474,5.011834319526627,4.976470588235294,5.076023391812866,5.0,5.092485549132948,4.82183908045977,4.948571428571428,5.096590909090909,5.056497175141243,5.252808988764045,5.067039106145251,5.011111111111111,5.18232044198895,5.1208791208791204,5.327868852459017,4.706521739130435,4.9135135135135135,5.0,4.957219251336898,4.904255319148936,5.005291005291006,4.963157894736842,4.952879581151833,5.067708333333333,4.917098445595855,4.938144329896907,5.230769230769231,4.811224489795919,4.8578680203045685,5.186868686868687,5.0954773869346734,4.77,5.074626865671642,5.118811881188119,4.886699507389163,5.044117647058823,5.053658536585366,4.970873786407767,5.086956521739131,5.163461538461538,5.009569377990431,4.995238095238095,5.042654028436019,5.023584905660377,4.943661971830986,4.911214953271028,5.232558139534884,4.962962962962963,4.829493087557604,4.935779816513762,4.995433789954338,5.109090909090909,5.040723981900452,5.009009009009009,5.183856502242152,5.03125,5.013333333333334,4.783185840707965,4.872246696035242,5.166666666666667,5.157205240174672,4.8652173913043475,5.038961038961039,5.043103448275862,5.0,5.162393162393163,5.042553191489362,5.0974576271186445,5.113924050632911,4.890756302521009,4.98326359832636,4.8875,5.053941908713693,5.082644628099174,4.9753086419753085,4.905737704918033,4.951020408163266,4.890243902439025,4.923076923076923,4.987903225806452,4.803212851405623,4.888,4.940239043824701,5.150793650793651,4.968379446640316,5.02755905511811,5.094117647058823,4.9296875,4.968871595330739,5.147286821705427,4.938223938223938,5.0115384615384615,5.126436781609195,4.938931297709924,4.931558935361217,4.9393939393939394,5.037735849056604,4.932330827067669,4.951310861423221,5.093283582089552,4.951672862453532,4.7481481481481485,4.900369003690037,5.0036764705882355,4.912087912087912,5.043795620437956,4.923636363636364,5.007246376811594,5.014440433212997,5.143884892086331,5.046594982078853,4.964285714285714,5.039145907473309,4.960992907801418,4.978798586572438,4.922535211267606,4.996491228070176,4.989510489510489,4.909407665505227,4.871527777777778,4.882352941176471,4.924137931034482,5.082474226804123,4.969178082191781,5.027303754266212,5.020408163265306,5.027118644067796,5.070945945945946,5.037037037037037,4.919463087248322,5.050167224080267,4.836666666666667,4.956810631229236,5.0,5.085808580858086,4.9605263157894735,5.00655737704918,4.980392156862745,5.052117263843648,5.0064935064935066,4.970873786407767,5.009677419354839,5.067524115755627,4.913461538461538,5.067092651757188,4.917197452229299,5.0476190476190474,4.996835443037975,4.990536277602524,4.827044025157233,5.075235109717869,4.83125,5.02803738317757,4.987577639751553,5.0,4.91358024691358,4.932307692307693,4.935582822085889,5.003058103975535,4.969512195121951,5.142857142857143,4.9363636363636365,4.873111782477341,4.840361445783133,5.012012012012012,5.029940119760479,5.008955223880597,4.991071428571429,4.976261127596439,4.837278106508876,5.073746312684365,4.997058823529412,4.897360703812317,4.871345029239766,5.072886297376093,5.098837209302325,5.040579710144928,5.011560693641618,5.077809798270893,5.031609195402299,5.045845272206304,4.991428571428571,4.931623931623932,4.940340909090909,5.093484419263456,4.940677966101695,4.845070422535211,5.120786516853933,5.100840336134453,4.93854748603352,4.977715877437326,5.086111111111111,4.916897506925208,4.95303867403315,5.024793388429752,5.0,4.909589041095891,5.005464480874317,5.141689373297003,4.997282608695652,4.89159891598916,4.943243243243243,5.0754716981132075,5.056451612903226,5.010723860589812,5.021390374331551,5.165333333333334,4.941489361702128,5.023872679045093,5.007936507936508,4.997361477572559,4.981578947368421,5.018372703412074,4.9136125654450264,5.133159268929504,4.986979166666667,5.067532467532468,5.067357512953368,4.981912144702842,5.046391752577319,4.940874035989717,4.984615384615385,5.005115089514066,5.012755102040816,5.068702290076335,5.083756345177665,5.10632911392405,5.0353535353535355,4.869017632241814,5.005025125628141,5.032581453634085,4.995,5.089775561097257,4.945273631840796,5.109181141439206,5.074257425742574,5.120987654320988,5.056650246305419,4.9705159705159705,5.068627450980392,4.968215158924205,5.11219512195122,4.951338199513382,4.888349514563107,5.075060532687651,4.958937198067633,4.889156626506024,5.081730769230769,5.158273381294964,4.880382775119617,5.023866348448688,5.007142857142857,4.961995249406176,5.106635071090047,4.98581560283688,4.962264150943396,4.936470588235294,5.007042253521127,5.245901639344262,4.904205607476635,5.037296037296037,4.995348837209303,4.928074245939675,4.997685185185185,4.9953810623556585,5.0046082949308754,4.9862068965517246,5.091743119266055,5.022883295194508,5.2146118721461185,4.990888382687927,4.970454545454546,4.893424036281179,4.96606334841629,4.981941309255079,4.975225225225225,4.907865168539326,4.941704035874439,4.903803131991052,5.140625,5.033407572383074,4.94,5.130820399113082,5.1128318584070795,5.0176600441501105,4.975770925110132,5.153846153846154,4.932017543859649,5.0459518599562365,4.85589519650655,5.0,4.9369565217391305,4.865509761388286,4.818181818181818,5.084233261339093,4.987068965517241,5.036559139784946,4.896995708154506,5.008565310492505,5.004273504273504,4.938166311300639,5.087234042553192,5.072186836518047,5.078389830508475,4.932346723044398,5.067510548523207,4.9663157894736845,4.966386554621849,4.947589098532495,5.00836820083682,4.853862212943633,5.008333333333334,5.051975051975052,4.9896265560165975,5.020703933747412,5.154958677685951,5.008247422680412,5.010288065843621,5.041067761806982,5.047131147540983,5.016359918200409,5.0285714285714285,5.040733197556008,5.1138211382113825,5.016227180527383,4.981781376518219,4.957575757575758,4.987903225806452,4.99195171026157,5.002008032128514,4.975951903807616,5.028,5.027944111776447,5.04183266932271,4.922465208747515,4.928571428571429,4.930693069306931,4.928853754940712,5.023668639053255,5.005905511811024,4.990176817288802,5.064705882352941,5.011741682974559,5.02734375,4.894736842105263,4.988326848249027,4.8019417475728154,4.9689922480620154,4.949709864603482,5.0,5.109826589595376,4.992307692307692,4.961612284069098,4.990421455938697,5.0210325047801145,5.013358778625954,5.1085714285714285,4.982889733840304,4.9184060721062615,5.143939393939394,5.022684310018904,4.981132075471698,4.932203389830509,5.043233082706767,4.99437148217636,5.146067415730337,5.097196261682243,5.041044776119403,5.087523277467412,5.029739776951673,5.0519480519480515,4.948148148148148,4.8743068391866915,4.826568265682657,5.060773480662983,4.946691176470588,4.9284403669724774,4.9322344322344325,4.946983546617916,5.014598540145985,5.045537340619308,4.9818181818181815,4.981851179673321,5.108695652173913,4.978300180831827,4.936823104693141,4.918918918918919,5.048561151079137,5.0341113105924595,5.102150537634409,5.080500894454383,5.0375,5.140819964349376,4.902135231316726,5.001776198934281,4.99645390070922,4.982300884955753,4.9840989399293285,5.1534391534391535,5.003521126760563,4.901581722319859,5.059649122807017,5.017513134851138,5.020979020979021,5.027923211169284,4.952961672473868,4.909565217391305,4.921875,4.9896013864818025,4.923875432525952,4.898100172711572,4.937931034482759,5.02065404475043,4.914089347079038,5.006861063464837,4.9520547945205475,4.9914529914529915,4.916382252559727,5.059625212947189,5.052721088435374,4.972835314091681,4.964406779661017,5.05922165820643,5.047297297297297,4.954468802698145,5.079124579124579,4.966386554621849,5.10738255033557,4.948073701842546,4.991638795986622,5.055091819699499,5.01,5.003327787021631,5.107973421926911,4.986733001658375,5.064569536423841,5.034710743801653,5.097359735973598,5.042833607907743,5.067434210526316,5.027914614121511,5.075409836065574,4.980360065466448,5.011437908496732,4.951060358890701,5.026058631921824,4.967479674796748,5.133116883116883,5.050243111831443,4.9288025889967635,4.854604200323101,5.061290322580645,4.977455716586151,5.017684887459807,4.895666131621188,5.145833333333333,4.9936,4.960063897763578,5.100478468899522,5.079617834394904,5.163751987281399,5.0,4.925515055467512,5.014240506329114,4.943127962085308,4.94006309148265,4.913385826771654,4.94496855345912,4.8948194662480375,4.923197492163009,5.078247261345853,4.9921875,4.875195007800312,5.05607476635514,5.090202177293935,5.059006211180124,5.062015503875969,5.007739938080495,4.982998454404946,5.101851851851852,4.992295839753467,4.927692307692308,4.967741935483871,5.004601226993865,5.027565084226646,4.989296636085627,4.949618320610687,4.995426829268292,5.082191780821918,4.986322188449848,4.943854324734446,5.101515151515152,5.013615733736763,5.064954682779456,4.950226244343892,5.0120481927710845,5.133834586466166,5.0,4.875562218890555,5.020958083832335,5.070254110612855,4.98955223880597,5.05812220566319,4.973214285714286,5.043090638930163,5.025222551928783,5.053333333333334,5.025147928994083,4.963072378138848,4.986725663716814,5.069219440353461,5.008823529411765,5.02496328928047,4.8563049853372435,4.964860907759883,5.027777777777778,4.937226277372263,5.059766763848397,5.058224163027656,4.902616279069767,4.95355587808418,5.043478260869565,4.930535455861071,4.969653179190751,4.992784992784993,5.056195965417867,4.874820143884892,4.913793103448276,4.945480631276901,5.0759312320916905,4.8927038626609445,4.958571428571428,4.947218259629102,5.01994301994302,5.068278805120911,4.958806818181818,4.965957446808511,4.994334277620396,4.991513437057992,5.028248587570621,4.9069111424541605,4.969014084507042,4.943741209563995,5.09691011235955,4.927068723702665,5.049019607843137,4.914685314685315,4.987430167597766,5.036262203626221,5.036211699164346,4.963838664812239,5.027777777777778,4.995839112343966,4.937673130193906,5.114799446749654,4.975138121546961,4.957241379310345,4.994490358126722,4.997248968363136,4.912087912087912,5.016460905349795,4.935616438356164,4.969904240766074,4.969945355191257,4.911323328785811,5.008174386920981,5.058503401360544,5.009510869565218,4.985074626865671,5.092140921409214,4.989174560216509,5.006756756756757,4.998650472334683,4.967654986522911,4.965006729475101,4.901881720430108,5.03758389261745,5.063002680965147,5.048192771084337,4.9532085561497325,4.926568758344459,5.009333333333333,5.009320905459387,5.0212765957446805,5.081009296148738,5.003978779840849,4.994701986754967,4.998677248677248,5.011889035667107,4.969656992084433,4.934123847167325,4.984210526315789,5.019710906701708,4.948818897637795,5.0602883355176935,4.959424083769633,5.041830065359477,5.044386422976501,5.0508474576271185,5.053385416666667,4.8179453836150845,4.9818181818181815,5.012970168612192,5.0427461139896375,4.959896507115136,4.978036175710594,4.983225806451613,5.106958762886598,5.051480051480051,5.066838046272494,5.043645699614891,5.11025641025641,5.076824583866838,5.023017902813299,4.969348659003831,5.026785714285714,5.028025477707007,4.938931297709924,4.98856416772554,5.003807106598985,5.046894803548796,4.927848101265822,5.024020227560051,4.983585858585859,5.008827238335435,4.958438287153652,5.050314465408805,4.925879396984925,4.9372647427854455,4.983709273182957,5.135168961201502,4.93125,5.043695380774032,4.896508728179551,5.017434620174346,5.0211442786069655,5.081987577639752,4.939205955334987,4.950433705080545,5.0655940594059405,5.090234857849197,4.95679012345679,5.101109741060419,5.0073891625615765,4.927429274292743,4.939803439803439,5.017177914110429,5.053921568627451,4.902080783353733,4.982885085574572,4.958485958485959,5.034146341463415,5.0,4.97323600973236,4.9635479951397325,5.006067961165049,5.048484848484849,4.906779661016949,5.035066505441354,5.080917874396135,4.886610373944511,4.972289156626506,4.957882069795427,5.050480769230769,4.987995198079232,4.994004796163069,5.004790419161677,5.065789473684211,4.989247311827957,5.0107398568019095,5.036948748510131,4.984523809523809,4.944114149821641,4.856294536817102,5.013048635824436,5.011848341232228,4.933727810650888,5.040189125295508,5.007083825265643,4.956367924528302,4.952885747938751,5.118823529411765,4.934195064629847,5.004694835680751,5.084407971864009,4.969555035128805,4.91578947368421,5.036214953271028,4.950991831971995,4.94988344988345,5.073341094295692,4.993023255813953,4.959349593495935,5.012761020881671,5.045191193511008,5.006944444444445,4.941040462427746,4.959584295612009,4.980392156862745,5.018433179723503,5.017261219792865,5.073563218390805,4.960964408725602,5.041284403669724,5.033218785796105,5.002288329519451,5.037714285714285,4.997716894977169,5.08551881413911,5.003416856492027,4.986348122866894,4.944318181818182,4.951191827468786,5.010204081632653,5.0,4.9366515837104075,5.070056497175141,5.001128668171558,5.029312288613303,5.094594594594595,4.995500562429696,5.032584269662921,5.008978675645342,4.977578475336323,4.93505039193729,4.966442953020135,5.025698324022346,5.012276785714286,5.128205128205129,4.9699331848552335,4.986651835372636,5.072222222222222,4.972253052164262,4.983370288248337,5.067552602436323,4.96570796460177,4.933701657458563,4.93598233995585,4.983461962513782,5.015418502202643,4.917491749174918,5.059340659340659,4.928649835345774,4.980263157894737,4.985761226725082,5.047045951859956,5.017486338797815,4.965065502183406,5.035986913849509,4.9564270152505445,4.907508161044614,5.046739130434783,5.068403908794788,5.079175704989154,5.047670639219935,4.951298701298701,4.881081081081081,4.934125269978401,4.936353829557713,5.024784482758621,5.027987082884822,5.026881720430108,5.062298603651987,4.8927038626609445,5.039657020364416,5.036402569593148,5.019251336898396,5.036324786324786,5.0,5.046908315565032,5.027689030883919,4.919148936170213,4.87778958554729,4.909766454352441,5.081654294803817,4.9565677966101696,5.06984126984127,4.955602536997886,4.952481520591341,5.0738396624472575,4.884088514225501,4.997894736842105,5.079915878023134,4.90546218487395,4.969569779643232,5.055555555555555,4.930890052356021,5.014644351464435,5.087774294670846,4.945720250521921,4.955161626694474,4.9625,4.983350676378772,4.9365904365904365,5.067497403946002,4.9387966804979255,4.966839378238342,4.9523809523809526,4.954498448810755,4.9772727272727275,4.951496388028896,5.083505154639175,4.996910401647786,5.08641975308642,5.102774922918808,5.023613963039014,5.024615384615385,5.00922131147541,5.116683725690891,5.033742331288344,5.027579162410623,5.03265306122449,4.980632008154944,5.0784114052953155,5.004069175991861,4.989837398373984,4.874111675126904,4.982758620689655,5.03242147922999,4.941295546558704,5.072800808897877,4.956565656565656,5.0110998990918265,5.036290322580645,5.018126888217522,4.99195171026157,4.961809045226131,5.002008032128514,5.0220661985957875,4.998997995991984,4.990990990990991],\"yaxis\":\"y\",\"type\":\"scatter\"}],                        {\"template\":{\"data\":{\"histogram2dcontour\":[{\"type\":\"histogram2dcontour\",\"colorbar\":{\"outlinewidth\":0,\"ticks\":\"\"},\"colorscale\":[[0.0,\"#0d0887\"],[0.1111111111111111,\"#46039f\"],[0.2222222222222222,\"#7201a8\"],[0.3333333333333333,\"#9c179e\"],[0.4444444444444444,\"#bd3786\"],[0.5555555555555556,\"#d8576b\"],[0.6666666666666666,\"#ed7953\"],[0.7777777777777778,\"#fb9f3a\"],[0.8888888888888888,\"#fdca26\"],[1.0,\"#f0f921\"]]}],\"choropleth\":[{\"type\":\"choropleth\",\"colorbar\":{\"outlinewidth\":0,\"ticks\":\"\"}}],\"histogram2d\":[{\"type\":\"histogram2d\",\"colorbar\":{\"outlinewidth\":0,\"ticks\":\"\"},\"colorscale\":[[0.0,\"#0d0887\"],[0.1111111111111111,\"#46039f\"],[0.2222222222222222,\"#7201a8\"],[0.3333333333333333,\"#9c179e\"],[0.4444444444444444,\"#bd3786\"],[0.5555555555555556,\"#d8576b\"],[0.6666666666666666,\"#ed7953\"],[0.7777777777777778,\"#fb9f3a\"],[0.8888888888888888,\"#fdca26\"],[1.0,\"#f0f921\"]]}],\"heatmap\":[{\"type\":\"heatmap\",\"colorbar\":{\"outlinewidth\":0,\"ticks\":\"\"},\"colorscale\":[[0.0,\"#0d0887\"],[0.1111111111111111,\"#46039f\"],[0.2222222222222222,\"#7201a8\"],[0.3333333333333333,\"#9c179e\"],[0.4444444444444444,\"#bd3786\"],[0.5555555555555556,\"#d8576b\"],[0.6666666666666666,\"#ed7953\"],[0.7777777777777778,\"#fb9f3a\"],[0.8888888888888888,\"#fdca26\"],[1.0,\"#f0f921\"]]}],\"heatmapgl\":[{\"type\":\"heatmapgl\",\"colorbar\":{\"outlinewidth\":0,\"ticks\":\"\"},\"colorscale\":[[0.0,\"#0d0887\"],[0.1111111111111111,\"#46039f\"],[0.2222222222222222,\"#7201a8\"],[0.3333333333333333,\"#9c179e\"],[0.4444444444444444,\"#bd3786\"],[0.5555555555555556,\"#d8576b\"],[0.6666666666666666,\"#ed7953\"],[0.7777777777777778,\"#fb9f3a\"],[0.8888888888888888,\"#fdca26\"],[1.0,\"#f0f921\"]]}],\"contourcarpet\":[{\"type\":\"contourcarpet\",\"colorbar\":{\"outlinewidth\":0,\"ticks\":\"\"}}],\"contour\":[{\"type\":\"contour\",\"colorbar\":{\"outlinewidth\":0,\"ticks\":\"\"},\"colorscale\":[[0.0,\"#0d0887\"],[0.1111111111111111,\"#46039f\"],[0.2222222222222222,\"#7201a8\"],[0.3333333333333333,\"#9c179e\"],[0.4444444444444444,\"#bd3786\"],[0.5555555555555556,\"#d8576b\"],[0.6666666666666666,\"#ed7953\"],[0.7777777777777778,\"#fb9f3a\"],[0.8888888888888888,\"#fdca26\"],[1.0,\"#f0f921\"]]}],\"surface\":[{\"type\":\"surface\",\"colorbar\":{\"outlinewidth\":0,\"ticks\":\"\"},\"colorscale\":[[0.0,\"#0d0887\"],[0.1111111111111111,\"#46039f\"],[0.2222222222222222,\"#7201a8\"],[0.3333333333333333,\"#9c179e\"],[0.4444444444444444,\"#bd3786\"],[0.5555555555555556,\"#d8576b\"],[0.6666666666666666,\"#ed7953\"],[0.7777777777777778,\"#fb9f3a\"],[0.8888888888888888,\"#fdca26\"],[1.0,\"#f0f921\"]]}],\"mesh3d\":[{\"type\":\"mesh3d\",\"colorbar\":{\"outlinewidth\":0,\"ticks\":\"\"}}],\"scatter\":[{\"fillpattern\":{\"fillmode\":\"overlay\",\"size\":10,\"solidity\":0.2},\"type\":\"scatter\"}],\"parcoords\":[{\"type\":\"parcoords\",\"line\":{\"colorbar\":{\"outlinewidth\":0,\"ticks\":\"\"}}}],\"scatterpolargl\":[{\"type\":\"scatterpolargl\",\"marker\":{\"colorbar\":{\"outlinewidth\":0,\"ticks\":\"\"}}}],\"bar\":[{\"error_x\":{\"color\":\"#2a3f5f\"},\"error_y\":{\"color\":\"#2a3f5f\"},\"marker\":{\"line\":{\"color\":\"#E5ECF6\",\"width\":0.5},\"pattern\":{\"fillmode\":\"overlay\",\"size\":10,\"solidity\":0.2}},\"type\":\"bar\"}],\"scattergeo\":[{\"type\":\"scattergeo\",\"marker\":{\"colorbar\":{\"outlinewidth\":0,\"ticks\":\"\"}}}],\"scatterpolar\":[{\"type\":\"scatterpolar\",\"marker\":{\"colorbar\":{\"outlinewidth\":0,\"ticks\":\"\"}}}],\"histogram\":[{\"marker\":{\"pattern\":{\"fillmode\":\"overlay\",\"size\":10,\"solidity\":0.2}},\"type\":\"histogram\"}],\"scattergl\":[{\"type\":\"scattergl\",\"marker\":{\"colorbar\":{\"outlinewidth\":0,\"ticks\":\"\"}}}],\"scatter3d\":[{\"type\":\"scatter3d\",\"line\":{\"colorbar\":{\"outlinewidth\":0,\"ticks\":\"\"}},\"marker\":{\"colorbar\":{\"outlinewidth\":0,\"ticks\":\"\"}}}],\"scattermapbox\":[{\"type\":\"scattermapbox\",\"marker\":{\"colorbar\":{\"outlinewidth\":0,\"ticks\":\"\"}}}],\"scatterternary\":[{\"type\":\"scatterternary\",\"marker\":{\"colorbar\":{\"outlinewidth\":0,\"ticks\":\"\"}}}],\"scattercarpet\":[{\"type\":\"scattercarpet\",\"marker\":{\"colorbar\":{\"outlinewidth\":0,\"ticks\":\"\"}}}],\"carpet\":[{\"aaxis\":{\"endlinecolor\":\"#2a3f5f\",\"gridcolor\":\"white\",\"linecolor\":\"white\",\"minorgridcolor\":\"white\",\"startlinecolor\":\"#2a3f5f\"},\"baxis\":{\"endlinecolor\":\"#2a3f5f\",\"gridcolor\":\"white\",\"linecolor\":\"white\",\"minorgridcolor\":\"white\",\"startlinecolor\":\"#2a3f5f\"},\"type\":\"carpet\"}],\"table\":[{\"cells\":{\"fill\":{\"color\":\"#EBF0F8\"},\"line\":{\"color\":\"white\"}},\"header\":{\"fill\":{\"color\":\"#C8D4E3\"},\"line\":{\"color\":\"white\"}},\"type\":\"table\"}],\"barpolar\":[{\"marker\":{\"line\":{\"color\":\"#E5ECF6\",\"width\":0.5},\"pattern\":{\"fillmode\":\"overlay\",\"size\":10,\"solidity\":0.2}},\"type\":\"barpolar\"}],\"pie\":[{\"automargin\":true,\"type\":\"pie\"}]},\"layout\":{\"autotypenumbers\":\"strict\",\"colorway\":[\"#636efa\",\"#EF553B\",\"#00cc96\",\"#ab63fa\",\"#FFA15A\",\"#19d3f3\",\"#FF6692\",\"#B6E880\",\"#FF97FF\",\"#FECB52\"],\"font\":{\"color\":\"#2a3f5f\"},\"hovermode\":\"closest\",\"hoverlabel\":{\"align\":\"left\"},\"paper_bgcolor\":\"white\",\"plot_bgcolor\":\"#E5ECF6\",\"polar\":{\"bgcolor\":\"#E5ECF6\",\"angularaxis\":{\"gridcolor\":\"white\",\"linecolor\":\"white\",\"ticks\":\"\"},\"radialaxis\":{\"gridcolor\":\"white\",\"linecolor\":\"white\",\"ticks\":\"\"}},\"ternary\":{\"bgcolor\":\"#E5ECF6\",\"aaxis\":{\"gridcolor\":\"white\",\"linecolor\":\"white\",\"ticks\":\"\"},\"baxis\":{\"gridcolor\":\"white\",\"linecolor\":\"white\",\"ticks\":\"\"},\"caxis\":{\"gridcolor\":\"white\",\"linecolor\":\"white\",\"ticks\":\"\"}},\"coloraxis\":{\"colorbar\":{\"outlinewidth\":0,\"ticks\":\"\"}},\"colorscale\":{\"sequential\":[[0.0,\"#0d0887\"],[0.1111111111111111,\"#46039f\"],[0.2222222222222222,\"#7201a8\"],[0.3333333333333333,\"#9c179e\"],[0.4444444444444444,\"#bd3786\"],[0.5555555555555556,\"#d8576b\"],[0.6666666666666666,\"#ed7953\"],[0.7777777777777778,\"#fb9f3a\"],[0.8888888888888888,\"#fdca26\"],[1.0,\"#f0f921\"]],\"sequentialminus\":[[0.0,\"#0d0887\"],[0.1111111111111111,\"#46039f\"],[0.2222222222222222,\"#7201a8\"],[0.3333333333333333,\"#9c179e\"],[0.4444444444444444,\"#bd3786\"],[0.5555555555555556,\"#d8576b\"],[0.6666666666666666,\"#ed7953\"],[0.7777777777777778,\"#fb9f3a\"],[0.8888888888888888,\"#fdca26\"],[1.0,\"#f0f921\"]],\"diverging\":[[0,\"#8e0152\"],[0.1,\"#c51b7d\"],[0.2,\"#de77ae\"],[0.3,\"#f1b6da\"],[0.4,\"#fde0ef\"],[0.5,\"#f7f7f7\"],[0.6,\"#e6f5d0\"],[0.7,\"#b8e186\"],[0.8,\"#7fbc41\"],[0.9,\"#4d9221\"],[1,\"#276419\"]]},\"xaxis\":{\"gridcolor\":\"white\",\"linecolor\":\"white\",\"ticks\":\"\",\"title\":{\"standoff\":15},\"zerolinecolor\":\"white\",\"automargin\":true,\"zerolinewidth\":2},\"yaxis\":{\"gridcolor\":\"white\",\"linecolor\":\"white\",\"ticks\":\"\",\"title\":{\"standoff\":15},\"zerolinecolor\":\"white\",\"automargin\":true,\"zerolinewidth\":2},\"scene\":{\"xaxis\":{\"backgroundcolor\":\"#E5ECF6\",\"gridcolor\":\"white\",\"linecolor\":\"white\",\"showbackground\":true,\"ticks\":\"\",\"zerolinecolor\":\"white\",\"gridwidth\":2},\"yaxis\":{\"backgroundcolor\":\"#E5ECF6\",\"gridcolor\":\"white\",\"linecolor\":\"white\",\"showbackground\":true,\"ticks\":\"\",\"zerolinecolor\":\"white\",\"gridwidth\":2},\"zaxis\":{\"backgroundcolor\":\"#E5ECF6\",\"gridcolor\":\"white\",\"linecolor\":\"white\",\"showbackground\":true,\"ticks\":\"\",\"zerolinecolor\":\"white\",\"gridwidth\":2}},\"shapedefaults\":{\"line\":{\"color\":\"#2a3f5f\"}},\"annotationdefaults\":{\"arrowcolor\":\"#2a3f5f\",\"arrowhead\":0,\"arrowwidth\":1},\"geo\":{\"bgcolor\":\"white\",\"landcolor\":\"#E5ECF6\",\"subunitcolor\":\"white\",\"showland\":true,\"showlakes\":true,\"lakecolor\":\"white\"},\"title\":{\"x\":0.05},\"mapbox\":{\"style\":\"light\"}}},\"xaxis\":{\"anchor\":\"y\",\"domain\":[0.0,1.0],\"title\":{\"text\":\"x\"}},\"yaxis\":{\"anchor\":\"x\",\"domain\":[0.0,1.0],\"title\":{\"text\":\"y\"}},\"legend\":{\"tracegroupgap\":0},\"margin\":{\"t\":60},\"shapes\":[{\"line\":{\"color\":\"red\",\"dash\":\"dash\"},\"type\":\"line\",\"x0\":0,\"x1\":1,\"xref\":\"x domain\",\"y0\":5,\"y1\":5,\"yref\":\"y\"}]},                        {\"responsive\": true}                    ).then(function(){\n",
              "                            \n",
              "var gd = document.getElementById('b0e795cb-c1e0-4301-bb8c-cec81854a419');\n",
              "var x = new MutationObserver(function (mutations, observer) {{\n",
              "        var display = window.getComputedStyle(gd).display;\n",
              "        if (!display || display === 'none') {{\n",
              "            console.log([gd, 'removed!']);\n",
              "            Plotly.purge(gd);\n",
              "            observer.disconnect();\n",
              "        }}\n",
              "}});\n",
              "\n",
              "// Listen for the removal of the full notebook cells\n",
              "var notebookContainer = gd.closest('#notebook-container');\n",
              "if (notebookContainer) {{\n",
              "    x.observe(notebookContainer, {childList: true});\n",
              "}}\n",
              "\n",
              "// Listen for the clearing of the current output cell\n",
              "var outputEl = gd.closest('.output');\n",
              "if (outputEl) {{\n",
              "    x.observe(outputEl, {childList: true});\n",
              "}}\n",
              "\n",
              "                        })                };                            </script>        </div>\n",
              "</body>\n",
              "</html>"
            ]
          },
          "metadata": {}
        }
      ],
      "source": [
        "toss_10_coins(1000, 5, 0.5)"
      ]
    },
    {
      "cell_type": "markdown",
      "id": "0e0a2bb6",
      "metadata": {
        "id": "0e0a2bb6"
      },
      "source": [
        "## Let's make it unfair"
      ]
    },
    {
      "cell_type": "markdown",
      "id": "e5d75d26",
      "metadata": {
        "id": "e5d75d26"
      },
      "source": [
        "Until now, every experiment has been done with a fair coin. However, the random experiments of life are rarely fair and we do not usually know their expected value.\n",
        "\n",
        "Run your function with a probability of 0.51, while keeping the expected value at 5. At what point can you tell that the coin is ever so slightly unbalanced?"
      ]
    },
    {
      "cell_type": "code",
      "execution_count": 204,
      "id": "b6476694",
      "metadata": {
        "id": "b6476694",
        "colab": {
          "base_uri": "https://localhost:8080/",
          "height": 542
        },
        "outputId": "d0764ba1-6eb9-4e2a-d24c-f3c2ae31e486"
      },
      "outputs": [
        {
          "output_type": "display_data",
          "data": {
            "text/html": [
              "<html>\n",
              "<head><meta charset=\"utf-8\" /></head>\n",
              "<body>\n",
              "    <div>            <script src=\"https://cdnjs.cloudflare.com/ajax/libs/mathjax/2.7.5/MathJax.js?config=TeX-AMS-MML_SVG\"></script><script type=\"text/javascript\">if (window.MathJax && window.MathJax.Hub && window.MathJax.Hub.Config) {window.MathJax.Hub.Config({SVG: {font: \"STIX-Web\"}});}</script>                <script type=\"text/javascript\">window.PlotlyConfig = {MathJaxConfig: 'local'};</script>\n",
              "        <script charset=\"utf-8\" src=\"https://cdn.plot.ly/plotly-2.24.1.min.js\"></script>                <div id=\"ac646805-e857-4dd7-97ab-9b927d906832\" class=\"plotly-graph-div\" style=\"height:525px; width:100%;\"></div>            <script type=\"text/javascript\">                                    window.PLOTLYENV=window.PLOTLYENV || {};                                    if (document.getElementById(\"ac646805-e857-4dd7-97ab-9b927d906832\")) {                    Plotly.newPlot(                        \"ac646805-e857-4dd7-97ab-9b927d906832\",                        [{\"hovertemplate\":\"x=%{x}\\u003cbr\\u003ey=%{y}\\u003cextra\\u003e\\u003c\\u002fextra\\u003e\",\"legendgroup\":\"\",\"line\":{\"color\":\"#636efa\",\"dash\":\"solid\"},\"marker\":{\"symbol\":\"circle\"},\"mode\":\"lines\",\"name\":\"\",\"orientation\":\"v\",\"showlegend\":false,\"x\":[1,2,3,4,5,6,7,8,9,10,11,12,13,14,15,16,17,18,19,20,21,22,23,24,25,26,27,28,29,30,31,32,33,34,35,36,37,38,39,40,41,42,43,44,45,46,47,48,49,50,51,52,53,54,55,56,57,58,59,60,61,62,63,64,65,66,67,68,69,70,71,72,73,74,75,76,77,78,79,80,81,82,83,84,85,86,87,88,89,90,91,92,93,94,95,96,97,98,99,100,101,102,103,104,105,106,107,108,109,110,111,112,113,114,115,116,117,118,119,120,121,122,123,124,125,126,127,128,129,130,131,132,133,134,135,136,137,138,139,140,141,142,143,144,145,146,147,148,149,150,151,152,153,154,155,156,157,158,159,160,161,162,163,164,165,166,167,168,169,170,171,172,173,174,175,176,177,178,179,180,181,182,183,184,185,186,187,188,189,190,191,192,193,194,195,196,197,198,199,200,201,202,203,204,205,206,207,208,209,210,211,212,213,214,215,216,217,218,219,220,221,222,223,224,225,226,227,228,229,230,231,232,233,234,235,236,237,238,239,240,241,242,243,244,245,246,247,248,249,250,251,252,253,254,255,256,257,258,259,260,261,262,263,264,265,266,267,268,269,270,271,272,273,274,275,276,277,278,279,280,281,282,283,284,285,286,287,288,289,290,291,292,293,294,295,296,297,298,299,300,301,302,303,304,305,306,307,308,309,310,311,312,313,314,315,316,317,318,319,320,321,322,323,324,325,326,327,328,329,330,331,332,333,334,335,336,337,338,339,340,341,342,343,344,345,346,347,348,349,350,351,352,353,354,355,356,357,358,359,360,361,362,363,364,365,366,367,368,369,370,371,372,373,374,375,376,377,378,379,380,381,382,383,384,385,386,387,388,389,390,391,392,393,394,395,396,397,398,399,400,401,402,403,404,405,406,407,408,409,410,411,412,413,414,415,416,417,418,419,420,421,422,423,424,425,426,427,428,429,430,431,432,433,434,435,436,437,438,439,440,441,442,443,444,445,446,447,448,449,450,451,452,453,454,455,456,457,458,459,460,461,462,463,464,465,466,467,468,469,470,471,472,473,474,475,476,477,478,479,480,481,482,483,484,485,486,487,488,489,490,491,492,493,494,495,496,497,498,499,500,501,502,503,504,505,506,507,508,509,510,511,512,513,514,515,516,517,518,519,520,521,522,523,524,525,526,527,528,529,530,531,532,533,534,535,536,537,538,539,540,541,542,543,544,545,546,547,548,549,550,551,552,553,554,555,556,557,558,559,560,561,562,563,564,565,566,567,568,569,570,571,572,573,574,575,576,577,578,579,580,581,582,583,584,585,586,587,588,589,590,591,592,593,594,595,596,597,598,599,600,601,602,603,604,605,606,607,608,609,610,611,612,613,614,615,616,617,618,619,620,621,622,623,624,625,626,627,628,629,630,631,632,633,634,635,636,637,638,639,640,641,642,643,644,645,646,647,648,649,650,651,652,653,654,655,656,657,658,659,660,661,662,663,664,665,666,667,668,669,670,671,672,673,674,675,676,677,678,679,680,681,682,683,684,685,686,687,688,689,690,691,692,693,694,695,696,697,698,699,700,701,702,703,704,705,706,707,708,709,710,711,712,713,714,715,716,717,718,719,720,721,722,723,724,725,726,727,728,729,730,731,732,733,734,735,736,737,738,739,740,741,742,743,744,745,746,747,748,749,750,751,752,753,754,755,756,757,758,759,760,761,762,763,764,765,766,767,768,769,770,771,772,773,774,775,776,777,778,779,780,781,782,783,784,785,786,787,788,789,790,791,792,793,794,795,796,797,798,799,800,801,802,803,804,805,806,807,808,809,810,811,812,813,814,815,816,817,818,819,820,821,822,823,824,825,826,827,828,829,830,831,832,833,834,835,836,837,838,839,840,841,842,843,844,845,846,847,848,849,850,851,852,853,854,855,856,857,858,859,860,861,862,863,864,865,866,867,868,869,870,871,872,873,874,875,876,877,878,879,880,881,882,883,884,885,886,887,888,889,890,891,892,893,894,895,896,897,898,899,900,901,902,903,904,905,906,907,908,909,910,911,912,913,914,915,916,917,918,919,920,921,922,923,924,925,926,927,928,929,930,931,932,933,934,935,936,937,938,939,940,941,942,943,944,945,946,947,948,949,950,951,952,953,954,955,956,957,958,959,960,961,962,963,964,965,966,967,968,969,970,971,972,973,974,975,976,977,978,979,980,981,982,983,984,985,986,987,988,989,990,991,992,993,994,995,996,997,998,999],\"xaxis\":\"x\",\"y\":[6.0,5.5,6.333333333333333,4.75,5.0,4.166666666666667,5.428571428571429,4.375,5.666666666666667,4.8,4.909090909090909,5.083333333333333,4.923076923076923,5.071428571428571,4.4,5.1875,5.764705882352941,5.333333333333333,4.7368421052631575,5.8,5.0476190476190474,5.181818181818182,5.521739130434782,5.041666666666667,4.88,5.3076923076923075,4.962962962962963,5.285714285714286,5.068965517241379,5.4,5.096774193548387,4.5625,4.9393939393939394,5.147058823529412,5.171428571428572,4.972222222222222,4.8108108108108105,5.052631578947368,5.205128205128205,5.25,4.926829268292683,4.595238095238095,4.953488372093023,4.795454545454546,5.088888888888889,5.304347826086956,5.127659574468085,4.5,4.836734693877551,5.16,5.313725490196078,5.019230769230769,4.9245283018867925,5.148148148148148,5.581818181818182,4.821428571428571,5.228070175438597,5.0344827586206895,4.728813559322034,4.883333333333334,4.950819672131147,5.032258064516129,5.380952380952381,5.390625,4.569230769230769,5.121212121212121,4.82089552238806,4.9411764705882355,4.971014492753623,5.328571428571428,4.887323943661972,5.263888888888889,5.273972602739726,4.95945945945946,5.026666666666666,5.131578947368421,5.012987012987013,5.0,5.443037974683544,5.2875,5.111111111111111,5.219512195121951,5.301204819277109,5.0476190476190474,5.1647058823529415,4.837209302325581,5.264367816091954,4.761363636363637,5.314606741573034,5.122222222222222,5.516483516483516,4.934782608695652,4.817204301075269,5.085106382978723,4.91578947368421,5.166666666666667,5.11340206185567,4.989795918367347,5.252525252525253,5.18,5.079207920792079,5.1568627450980395,5.194174757281553,5.326923076923077,5.180952380952381,5.245283018867925,5.018691588785047,4.796296296296297,5.1192660550458715,5.2,5.09009009009009,5.008928571428571,4.929203539823009,4.824561403508772,5.130434782608695,5.068965517241379,5.213675213675214,5.127118644067797,4.974789915966387,5.133333333333334,5.190082644628099,5.073770491803279,4.934959349593496,5.112903225806452,5.136,5.2063492063492065,4.881889763779528,5.2578125,5.131782945736434,4.961538461538462,5.152671755725191,5.037878787878788,5.338345864661654,5.059701492537314,4.992592592592593,4.860294117647059,5.087591240875913,5.0,5.0647482014388485,5.164285714285715,5.2695035460992905,5.098591549295775,5.1328671328671325,5.097222222222222,5.289655172413793,4.801369863013699,5.238095238095238,5.216216216216216,5.147651006711409,5.093333333333334,4.947019867549669,5.0855263157894735,5.281045751633987,5.097402597402597,5.083870967741936,5.2243589743589745,5.222929936305732,5.075949367088608,5.276729559748428,5.04375,4.9937888198757765,5.209876543209877,5.128834355828221,5.182926829268292,5.03030303030303,4.819277108433735,5.221556886227545,5.196428571428571,5.266272189349112,5.276470588235294,4.964912280701754,5.098837209302325,5.161849710982659,5.2011494252873565,5.2628571428571425,5.204545454545454,5.1525423728813555,4.893258426966292,5.016759776536313,5.0777777777777775,4.8121546961325965,5.197802197802198,5.065573770491803,5.108695652173913,4.994594594594594,5.086021505376344,4.93048128342246,5.074468085106383,5.126984126984127,5.078947368421052,5.230366492146596,5.083333333333333,5.119170984455959,5.15979381443299,4.794871794871795,5.1479591836734695,5.213197969543147,5.217171717171717,5.105527638190955,5.185,5.069651741293533,5.108910891089109,5.172413793103448,5.137254901960785,5.097560975609756,4.980582524271845,5.27536231884058,5.028846153846154,5.23444976076555,5.004761904761905,5.293838862559242,5.009433962264151,5.140845070422535,5.093457943925234,5.116279069767442,4.953703703703703,5.092165898617512,5.018348623853211,5.027397260273973,5.05,5.221719457013575,4.9324324324324325,5.188340807174888,5.21875,4.804444444444444,5.1371681415929205,5.255506607929515,5.228070175438597,5.026200873362446,5.3,5.0995670995671,4.961206896551724,5.051502145922747,4.94017094017094,4.910638297872341,5.173728813559322,5.012658227848101,5.151260504201681,5.167364016736402,5.1125,5.16597510373444,5.037190082644628,4.967078189300412,5.200819672131147,5.2,5.2317073170731705,5.125506072874494,5.17741935483871,5.016064257028113,5.112,5.223107569721115,4.996031746031746,5.1146245059288535,5.003937007874016,4.984313725490196,4.98828125,5.073929961089494,5.158914728682171,5.046332046332046,5.1692307692307695,5.049808429118774,5.125954198473282,5.083650190114068,5.011363636363637,5.181132075471698,5.120300751879699,5.104868913857678,5.197761194029851,5.055762081784387,4.962962962962963,5.217712177121771,5.180147058823529,5.091575091575091,5.094890510948905,5.003636363636364,5.228260869565218,5.097472924187725,5.280575539568345,5.240143369175628,5.053571428571429,4.98576512455516,5.024822695035461,5.257950530035336,5.154929577464789,4.8807017543859645,5.024475524475524,5.2369337979094075,5.25,5.0899653979238755,5.182758620689655,5.051546391752577,5.068493150684931,4.843003412969283,4.993197278911564,5.061016949152543,5.111486486486487,5.249158249158249,5.134228187919463,5.11371237458194,5.1866666666666665,5.04983388704319,5.069536423841059,5.023102310231023,5.161184210526316,5.072131147540984,5.2026143790849675,5.058631921824104,5.116883116883117,5.148867313915858,5.174193548387096,5.12540192926045,5.2756410256410255,5.146964856230032,5.04140127388535,5.111111111111111,5.072784810126582,5.211356466876971,5.10377358490566,5.22884012539185,5.059375,5.155763239875389,5.083850931677019,5.13312693498452,4.987654320987654,5.036923076923077,5.095092024539877,5.110091743119266,5.091463414634147,5.054711246200608,5.066666666666666,5.241691842900302,4.837349397590361,5.138138138138138,5.014970059880239,5.208955223880597,5.011904761904762,5.166172106824926,5.088757396449704,5.171091445427729,5.235294117647059,5.278592375366569,5.0321637426900585,4.947521865889213,4.901162790697675,5.194202898550724,4.994219653179191,5.097982708933718,5.132183908045977,5.022922636103152,4.954285714285715,5.131054131054131,5.201704545454546,5.1558073654390935,5.090395480225989,5.24225352112676,5.047752808988764,5.249299719887955,5.114525139664805,5.041782729805014,5.108333333333333,5.265927977839335,4.980662983425415,5.18732782369146,5.274725274725275,5.164383561643835,5.218579234972678,5.226158038147139,5.0353260869565215,5.168021680216802,4.905405405405405,4.943396226415095,5.086021505376344,5.075067024128686,5.06951871657754,5.072,5.0611702127659575,5.114058355437666,5.103174603174603,4.963060686015831,5.231578947368421,5.070866141732283,5.034031413612565,5.164490861618799,5.078125,5.1688311688311686,5.033678756476684,5.093023255813954,5.087628865979381,5.079691516709511,5.058974358974359,5.173913043478261,5.206632653061225,5.027989821882952,5.134517766497462,5.121518987341772,5.174242424242424,5.08816120906801,5.160804020100502,5.180451127819549,5.0975,5.124688279301745,5.144278606965174,4.995037220843672,5.123762376237623,5.108641975308642,5.054187192118227,5.238329238329238,5.132352941176471,5.078239608801956,5.226829268292683,5.08029197080292,5.12621359223301,5.1791767554479415,5.169082125603865,5.1734939759036145,5.137019230769231,5.191846522781774,5.019138755980861,5.071599045346062,5.147619047619048,5.02375296912114,5.172985781990521,5.23404255319149,5.113207547169812,5.101176470588236,5.110328638497653,5.252927400468384,5.130841121495327,4.944055944055944,5.086046511627907,4.976798143851508,5.094907407407407,5.053117782909931,5.032258064516129,5.045977011494253,5.229357798165138,4.979405034324943,5.04337899543379,5.079726651480637,5.122727272727273,5.061224489795919,5.088235294117647,5.09255079006772,5.031531531531532,5.101123595505618,5.165919282511211,5.087248322147651,5.051339285714286,5.138084632516704,5.095555555555555,5.14190687361419,5.079646017699115,5.112582781456954,5.1255506607929515,5.096703296703296,5.151315789473684,5.12691466083151,5.120087336244541,5.198257080610022,5.021739130434782,5.06941431670282,4.976190476190476,4.9654427645788335,5.017241379310345,5.083870967741936,5.124463519313305,5.19914346895075,5.19017094017094,4.99360341151386,5.097872340425532,5.101910828025478,5.103813559322034,5.076109936575053,5.210970464135021,5.1410526315789475,5.016806722689076,5.161425576519916,5.2343096234309625,4.945720250521921,5.1125,5.0498960498960495,5.089211618257261,5.097308488612836,5.132231404958677,5.065979381443299,4.993827160493828,5.0718685831622174,5.182377049180328,5.075664621676892,5.26530612244898,5.026476578411406,5.0772357723577235,5.0588235294117645,5.133603238866397,5.133333333333334,5.131048387096774,4.989939637826962,5.102409638554217,5.128256513026052,5.128,5.295409181636726,5.199203187250996,5.1232604373757455,5.065476190476191,5.083168316831683,5.098814229249012,5.041420118343195,5.202755905511811,5.039292730844794,5.037254901960784,5.123287671232877,5.111328125,5.1345029239766085,5.138132295719845,5.1242718446601945,5.038759689922481,4.990328820116054,5.0,5.0134874759152215,5.132692307692308,5.088291746641075,5.14176245210728,5.204588910133843,5.0820610687022905,5.175238095238095,4.992395437262357,5.240986717267552,5.096590909090909,5.153119092627599,5.1358490566037736,5.058380414312618,5.015037593984962,5.151969981238274,5.108614232209738,5.106542056074766,5.029850746268656,5.050279329608938,5.141263940520446,5.103896103896104,5.018518518518518,5.186691312384474,5.101476014760148,5.1031307550644565,5.108455882352941,5.029357798165138,5.153846153846154,5.1425959780621575,5.2226277372262775,5.122040072859745,5.158181818181818,5.043557168784029,5.148550724637682,4.994575045207957,5.0108303249097474,5.118918918918919,5.098920863309353,5.120287253141831,5.222222222222222,5.1449016100178895,5.15,5.06951871657754,5.081850533807829,5.124333925399645,5.056737588652482,5.035398230088496,5.088339222614841,5.109347442680776,5.184859154929577,5.086115992970123,5.035087719298246,5.021015761821366,5.094405594405594,5.005235602094241,5.2317073170731705,5.020869565217391,5.175347222222222,5.093587521663778,5.027681660899654,5.096718480138169,5.089655172413793,5.135972461273666,5.02233676975945,5.168096054888507,5.107876712328767,5.164102564102564,5.102389078498294,5.199318568994889,5.120748299319728,5.110356536502547,5.106779661016949,5.096446700507614,5.043918918918919,5.0893760539629005,5.042087542087542,5.142857142857143,5.157718120805369,5.011725293132328,5.09866220735786,5.166944908180301,5.076666666666667,5.1763727121464225,5.0647840531561465,5.160862354892205,5.046357615894039,5.03801652892562,5.052805280528053,5.00164744645799,5.09375,5.169129720853859,5.155737704918033,5.0932896890343695,5.068627450980392,5.079934747145187,5.035830618892508,5.055284552845529,5.003246753246753,5.2025931928687195,5.0210355987055015,4.990306946688206,5.161290322580645,4.990338164251208,5.09967845659164,5.081861958266453,5.017628205128205,5.1328,5.035143769968051,4.993620414673046,5.140127388535032,5.104928457869635,5.066666666666666,5.1584786053882725,5.1155063291139244,5.0600315955766195,5.037854889589905,5.0409448818897635,5.116352201257862,5.070643642072214,5.043887147335423,5.123630672926447,5.140625,5.123244929797192,5.101246105919003,5.153965785381026,5.198757763975156,5.093023255813954,5.1656346749226,5.126738794435858,5.054012345679013,5.080123266563945,5.036923076923077,5.064516129032258,5.090490797546012,4.960183767228178,5.0703363914373085,5.216793893129771,5.164634146341464,5.175038051750381,5.079027355623101,5.075872534142641,5.016666666666667,5.1346444780635405,5.125377643504532,5.090497737556561,5.168674698795181,5.070676691729323,5.081081081081081,5.137931034482759,5.140718562874252,5.046337817638266,5.083582089552239,4.998509687034277,5.095238095238095,5.118870728083209,5.137982195845697,5.007407407407407,5.016272189349112,5.078286558345643,5.022123893805309,5.019145802650957,5.101470588235294,5.083700440528634,5.071847507331379,5.134699853587116,5.045321637426901,5.067153284671533,5.142857142857143,5.128093158660844,5.0436046511627906,5.036284470246734,5.104347826086957,5.1765557163531115,5.17485549132948,5.15007215007215,5.129682997118156,5.105035971223022,5.099137931034483,5.012912482065997,5.153295128939828,5.030042918454936,5.0528571428571425,5.087018544935806,5.042735042735043,5.1066856330014225,5.198863636363637,5.202836879432624,5.147308781869689,5.226308345120226,5.077683615819209,5.128349788434415,5.156338028169014,5.137834036568214,5.094101123595506,5.141654978962132,5.121848739495798,5.068531468531469,5.139664804469274,5.153417015341701,5.100278551532034,5.057023643949931,5.073611111111111,5.002773925104022,5.070637119113574,5.085753803596127,5.1187845303867405,5.148965517241379,5.097796143250688,5.038514442916093,5.1401098901098905,5.023319615912208,5.119178082191781,5.001367989056088,5.075136612021858,4.993178717598909,5.098092643051771,5.131972789115646,5.023097826086956,5.147896879240163,5.069105691056911,5.2151556156968875,5.0094594594594595,4.9743589743589745,5.152291105121294,5.061911170928668,5.169354838709677,5.130201342281879,5.116621983914209,5.085676037483267,5.024064171122995,5.145527369826436,5.133333333333334,5.157123834886818,5.087765957446808,5.094289508632138,5.070291777188329,5.009271523178808,5.071428571428571,5.085865257595772,5.017150395778364,5.036890645586298,5.157894736842105,5.136662286465177,5.156167979002625,5.006553079947575,5.137434554973822,5.101960784313725,5.152741514360313,5.122555410691004,5.149739583333333,5.102730819245774,5.142857142857143,5.092088197146563,5.081606217616581,5.164294954721863,5.186046511627907,4.976774193548387,5.060567010309279,5.1827541827541825,5.102827763496144,5.2092426187419765,5.042307692307692,5.085787451984635,5.029411764705882,5.037037037037037,4.9604591836734695,5.101910828025478,5.048346055979644,5.149936467598475,5.144670050761421,5.054499366286438,5.056962025316456,5.077117572692794,5.159090909090909,5.118537200504414,5.187657430730479,5.012578616352202,5.100502512562814,5.121706398996236,5.132832080200501,5.043804755944931,5.20125,5.1610486891385765,5.2007481296758105,5.155666251556663,5.009950248756219,5.047204968944099,5.11166253101737,5.147459727385378,5.14480198019802,5.173053152039555,5.0851851851851855,5.05672009864365,5.082512315270936,5.071340713407134,5.1265356265356266,5.034355828220859,5.151960784313726,5.127294981640147,5.1320293398533,5.103785103785103,5.089024390243902,5.125456760048721,5.079075425790754,5.010935601458081,5.040048543689321,5.201212121212121,5.099273607748184,5.134220072551391,5.0229468599033815,5.079613992762364,5.0771084337349395,5.131167268351384,5.075721153846154,5.168067226890757,5.081534772182255,5.1437125748503,5.136363636363637,5.038231780167264,5.029832935560859,5.033373063170441,5.129761904761905,5.098692033293698,5.003562945368171,5.196915776986951,5.184834123222749,5.0627218934911244,5.056737588652482,5.097992916174734,5.09433962264151,5.17432273262662,5.092941176470588,5.09048178613396,5.166666666666667,5.11957796014068,5.101873536299766,5.143859649122807,5.183411214953271,5.180863477246207,4.996503496503497,5.09545983701979,5.074418604651163,5.220673635307782,5.034802784222737,5.1031286210892235,5.068287037037037,5.064739884393064,5.065819861431871,5.086505190311419,5.055299539170507,5.077100115074798,5.081609195402299,5.076923076923077,5.121559633027523,4.9988545246277205,4.9874141876430205,5.118857142857143,5.09703196347032,5.076396807297606,5.03872437357631,5.081911262798635,5.047727272727273,5.167990919409761,5.105442176870748,5.134767836919592,5.074660633484163,5.096045197740113,5.1613995485327315,5.139797068771139,5.157657657657658,5.001124859392576,5.084269662921348,5.103254769921437,5.071748878923767,5.1881298992161256,5.012304250559284,5.089385474860335,5.0703125,5.086956521739131,5.062360801781737,5.074527252502781,5.08,5.081021087680355,5.155210643015521,4.975636766334441,5.007743362831858,5.139226519337017,5.069536423841059,5.12348401323043,5.0881057268722465,5.044004400440044,5.09010989010989,5.180021953896817,5.066885964912281,5.12814895947426,5.078774617067833,5.1256830601092895,5.0524017467248905,5.121046892039258,5.247276688453159,5.191512513601741,5.104347826086957,5.071661237785016,5.125813449023862,5.113759479956663,5.231601731601732,5.105945945945946,5.05183585313175,5.175836030204962,5.066810344827586,5.1367061356297095,5.009677419354839,5.079484425349087,5.084763948497854,5.118971061093248,5.095289079229122,5.137967914438502,5.0747863247863245,5.093916755602988,5.1236673773987205,5.105431309904153,5.1127659574468085,5.051009564293305,5.060509554140127,5.184517497348886,5.041313559322034,5.1682539682539685,5.171247357293869,5.191129883843717,5.144514767932489,5.083245521601686,5.127368421052632,4.987381703470032,5.18172268907563,5.1007345225603355,5.056603773584905,5.126701570680629,5.133891213389122,5.082549634273772,5.038622129436326,5.193952033368092,5.058333333333334,5.171696149843912,5.102910602910603,4.992731048805815,5.051867219917012,5.109844559585492,5.136645962732919,5.0486039296794205,5.133264462809917,5.051599587203302,5.092783505154639,5.221421215242018,5.054526748971194,5.1593011305241525,5.026694045174538,5.042051282051282,5.094262295081967,5.077789150460593,5.101226993865031,5.084780388151175,5.030612244897959,5.106014271151886,5.072301425661914,5.244150559511699,5.119918699186992,5.136040609137056,5.094320486815416,5.07193515704154,5.065789473684211,5.1698685540950455,5.043434343434344,5.110998990918264,5.015120967741935,5.078549848942598,5.1579476861167,5.033165829145728,5.13855421686747,5.062186559679037,5.033066132264529,5.136136136136136],\"yaxis\":\"y\",\"type\":\"scatter\"}],                        {\"template\":{\"data\":{\"histogram2dcontour\":[{\"type\":\"histogram2dcontour\",\"colorbar\":{\"outlinewidth\":0,\"ticks\":\"\"},\"colorscale\":[[0.0,\"#0d0887\"],[0.1111111111111111,\"#46039f\"],[0.2222222222222222,\"#7201a8\"],[0.3333333333333333,\"#9c179e\"],[0.4444444444444444,\"#bd3786\"],[0.5555555555555556,\"#d8576b\"],[0.6666666666666666,\"#ed7953\"],[0.7777777777777778,\"#fb9f3a\"],[0.8888888888888888,\"#fdca26\"],[1.0,\"#f0f921\"]]}],\"choropleth\":[{\"type\":\"choropleth\",\"colorbar\":{\"outlinewidth\":0,\"ticks\":\"\"}}],\"histogram2d\":[{\"type\":\"histogram2d\",\"colorbar\":{\"outlinewidth\":0,\"ticks\":\"\"},\"colorscale\":[[0.0,\"#0d0887\"],[0.1111111111111111,\"#46039f\"],[0.2222222222222222,\"#7201a8\"],[0.3333333333333333,\"#9c179e\"],[0.4444444444444444,\"#bd3786\"],[0.5555555555555556,\"#d8576b\"],[0.6666666666666666,\"#ed7953\"],[0.7777777777777778,\"#fb9f3a\"],[0.8888888888888888,\"#fdca26\"],[1.0,\"#f0f921\"]]}],\"heatmap\":[{\"type\":\"heatmap\",\"colorbar\":{\"outlinewidth\":0,\"ticks\":\"\"},\"colorscale\":[[0.0,\"#0d0887\"],[0.1111111111111111,\"#46039f\"],[0.2222222222222222,\"#7201a8\"],[0.3333333333333333,\"#9c179e\"],[0.4444444444444444,\"#bd3786\"],[0.5555555555555556,\"#d8576b\"],[0.6666666666666666,\"#ed7953\"],[0.7777777777777778,\"#fb9f3a\"],[0.8888888888888888,\"#fdca26\"],[1.0,\"#f0f921\"]]}],\"heatmapgl\":[{\"type\":\"heatmapgl\",\"colorbar\":{\"outlinewidth\":0,\"ticks\":\"\"},\"colorscale\":[[0.0,\"#0d0887\"],[0.1111111111111111,\"#46039f\"],[0.2222222222222222,\"#7201a8\"],[0.3333333333333333,\"#9c179e\"],[0.4444444444444444,\"#bd3786\"],[0.5555555555555556,\"#d8576b\"],[0.6666666666666666,\"#ed7953\"],[0.7777777777777778,\"#fb9f3a\"],[0.8888888888888888,\"#fdca26\"],[1.0,\"#f0f921\"]]}],\"contourcarpet\":[{\"type\":\"contourcarpet\",\"colorbar\":{\"outlinewidth\":0,\"ticks\":\"\"}}],\"contour\":[{\"type\":\"contour\",\"colorbar\":{\"outlinewidth\":0,\"ticks\":\"\"},\"colorscale\":[[0.0,\"#0d0887\"],[0.1111111111111111,\"#46039f\"],[0.2222222222222222,\"#7201a8\"],[0.3333333333333333,\"#9c179e\"],[0.4444444444444444,\"#bd3786\"],[0.5555555555555556,\"#d8576b\"],[0.6666666666666666,\"#ed7953\"],[0.7777777777777778,\"#fb9f3a\"],[0.8888888888888888,\"#fdca26\"],[1.0,\"#f0f921\"]]}],\"surface\":[{\"type\":\"surface\",\"colorbar\":{\"outlinewidth\":0,\"ticks\":\"\"},\"colorscale\":[[0.0,\"#0d0887\"],[0.1111111111111111,\"#46039f\"],[0.2222222222222222,\"#7201a8\"],[0.3333333333333333,\"#9c179e\"],[0.4444444444444444,\"#bd3786\"],[0.5555555555555556,\"#d8576b\"],[0.6666666666666666,\"#ed7953\"],[0.7777777777777778,\"#fb9f3a\"],[0.8888888888888888,\"#fdca26\"],[1.0,\"#f0f921\"]]}],\"mesh3d\":[{\"type\":\"mesh3d\",\"colorbar\":{\"outlinewidth\":0,\"ticks\":\"\"}}],\"scatter\":[{\"fillpattern\":{\"fillmode\":\"overlay\",\"size\":10,\"solidity\":0.2},\"type\":\"scatter\"}],\"parcoords\":[{\"type\":\"parcoords\",\"line\":{\"colorbar\":{\"outlinewidth\":0,\"ticks\":\"\"}}}],\"scatterpolargl\":[{\"type\":\"scatterpolargl\",\"marker\":{\"colorbar\":{\"outlinewidth\":0,\"ticks\":\"\"}}}],\"bar\":[{\"error_x\":{\"color\":\"#2a3f5f\"},\"error_y\":{\"color\":\"#2a3f5f\"},\"marker\":{\"line\":{\"color\":\"#E5ECF6\",\"width\":0.5},\"pattern\":{\"fillmode\":\"overlay\",\"size\":10,\"solidity\":0.2}},\"type\":\"bar\"}],\"scattergeo\":[{\"type\":\"scattergeo\",\"marker\":{\"colorbar\":{\"outlinewidth\":0,\"ticks\":\"\"}}}],\"scatterpolar\":[{\"type\":\"scatterpolar\",\"marker\":{\"colorbar\":{\"outlinewidth\":0,\"ticks\":\"\"}}}],\"histogram\":[{\"marker\":{\"pattern\":{\"fillmode\":\"overlay\",\"size\":10,\"solidity\":0.2}},\"type\":\"histogram\"}],\"scattergl\":[{\"type\":\"scattergl\",\"marker\":{\"colorbar\":{\"outlinewidth\":0,\"ticks\":\"\"}}}],\"scatter3d\":[{\"type\":\"scatter3d\",\"line\":{\"colorbar\":{\"outlinewidth\":0,\"ticks\":\"\"}},\"marker\":{\"colorbar\":{\"outlinewidth\":0,\"ticks\":\"\"}}}],\"scattermapbox\":[{\"type\":\"scattermapbox\",\"marker\":{\"colorbar\":{\"outlinewidth\":0,\"ticks\":\"\"}}}],\"scatterternary\":[{\"type\":\"scatterternary\",\"marker\":{\"colorbar\":{\"outlinewidth\":0,\"ticks\":\"\"}}}],\"scattercarpet\":[{\"type\":\"scattercarpet\",\"marker\":{\"colorbar\":{\"outlinewidth\":0,\"ticks\":\"\"}}}],\"carpet\":[{\"aaxis\":{\"endlinecolor\":\"#2a3f5f\",\"gridcolor\":\"white\",\"linecolor\":\"white\",\"minorgridcolor\":\"white\",\"startlinecolor\":\"#2a3f5f\"},\"baxis\":{\"endlinecolor\":\"#2a3f5f\",\"gridcolor\":\"white\",\"linecolor\":\"white\",\"minorgridcolor\":\"white\",\"startlinecolor\":\"#2a3f5f\"},\"type\":\"carpet\"}],\"table\":[{\"cells\":{\"fill\":{\"color\":\"#EBF0F8\"},\"line\":{\"color\":\"white\"}},\"header\":{\"fill\":{\"color\":\"#C8D4E3\"},\"line\":{\"color\":\"white\"}},\"type\":\"table\"}],\"barpolar\":[{\"marker\":{\"line\":{\"color\":\"#E5ECF6\",\"width\":0.5},\"pattern\":{\"fillmode\":\"overlay\",\"size\":10,\"solidity\":0.2}},\"type\":\"barpolar\"}],\"pie\":[{\"automargin\":true,\"type\":\"pie\"}]},\"layout\":{\"autotypenumbers\":\"strict\",\"colorway\":[\"#636efa\",\"#EF553B\",\"#00cc96\",\"#ab63fa\",\"#FFA15A\",\"#19d3f3\",\"#FF6692\",\"#B6E880\",\"#FF97FF\",\"#FECB52\"],\"font\":{\"color\":\"#2a3f5f\"},\"hovermode\":\"closest\",\"hoverlabel\":{\"align\":\"left\"},\"paper_bgcolor\":\"white\",\"plot_bgcolor\":\"#E5ECF6\",\"polar\":{\"bgcolor\":\"#E5ECF6\",\"angularaxis\":{\"gridcolor\":\"white\",\"linecolor\":\"white\",\"ticks\":\"\"},\"radialaxis\":{\"gridcolor\":\"white\",\"linecolor\":\"white\",\"ticks\":\"\"}},\"ternary\":{\"bgcolor\":\"#E5ECF6\",\"aaxis\":{\"gridcolor\":\"white\",\"linecolor\":\"white\",\"ticks\":\"\"},\"baxis\":{\"gridcolor\":\"white\",\"linecolor\":\"white\",\"ticks\":\"\"},\"caxis\":{\"gridcolor\":\"white\",\"linecolor\":\"white\",\"ticks\":\"\"}},\"coloraxis\":{\"colorbar\":{\"outlinewidth\":0,\"ticks\":\"\"}},\"colorscale\":{\"sequential\":[[0.0,\"#0d0887\"],[0.1111111111111111,\"#46039f\"],[0.2222222222222222,\"#7201a8\"],[0.3333333333333333,\"#9c179e\"],[0.4444444444444444,\"#bd3786\"],[0.5555555555555556,\"#d8576b\"],[0.6666666666666666,\"#ed7953\"],[0.7777777777777778,\"#fb9f3a\"],[0.8888888888888888,\"#fdca26\"],[1.0,\"#f0f921\"]],\"sequentialminus\":[[0.0,\"#0d0887\"],[0.1111111111111111,\"#46039f\"],[0.2222222222222222,\"#7201a8\"],[0.3333333333333333,\"#9c179e\"],[0.4444444444444444,\"#bd3786\"],[0.5555555555555556,\"#d8576b\"],[0.6666666666666666,\"#ed7953\"],[0.7777777777777778,\"#fb9f3a\"],[0.8888888888888888,\"#fdca26\"],[1.0,\"#f0f921\"]],\"diverging\":[[0,\"#8e0152\"],[0.1,\"#c51b7d\"],[0.2,\"#de77ae\"],[0.3,\"#f1b6da\"],[0.4,\"#fde0ef\"],[0.5,\"#f7f7f7\"],[0.6,\"#e6f5d0\"],[0.7,\"#b8e186\"],[0.8,\"#7fbc41\"],[0.9,\"#4d9221\"],[1,\"#276419\"]]},\"xaxis\":{\"gridcolor\":\"white\",\"linecolor\":\"white\",\"ticks\":\"\",\"title\":{\"standoff\":15},\"zerolinecolor\":\"white\",\"automargin\":true,\"zerolinewidth\":2},\"yaxis\":{\"gridcolor\":\"white\",\"linecolor\":\"white\",\"ticks\":\"\",\"title\":{\"standoff\":15},\"zerolinecolor\":\"white\",\"automargin\":true,\"zerolinewidth\":2},\"scene\":{\"xaxis\":{\"backgroundcolor\":\"#E5ECF6\",\"gridcolor\":\"white\",\"linecolor\":\"white\",\"showbackground\":true,\"ticks\":\"\",\"zerolinecolor\":\"white\",\"gridwidth\":2},\"yaxis\":{\"backgroundcolor\":\"#E5ECF6\",\"gridcolor\":\"white\",\"linecolor\":\"white\",\"showbackground\":true,\"ticks\":\"\",\"zerolinecolor\":\"white\",\"gridwidth\":2},\"zaxis\":{\"backgroundcolor\":\"#E5ECF6\",\"gridcolor\":\"white\",\"linecolor\":\"white\",\"showbackground\":true,\"ticks\":\"\",\"zerolinecolor\":\"white\",\"gridwidth\":2}},\"shapedefaults\":{\"line\":{\"color\":\"#2a3f5f\"}},\"annotationdefaults\":{\"arrowcolor\":\"#2a3f5f\",\"arrowhead\":0,\"arrowwidth\":1},\"geo\":{\"bgcolor\":\"white\",\"landcolor\":\"#E5ECF6\",\"subunitcolor\":\"white\",\"showland\":true,\"showlakes\":true,\"lakecolor\":\"white\"},\"title\":{\"x\":0.05},\"mapbox\":{\"style\":\"light\"}}},\"xaxis\":{\"anchor\":\"y\",\"domain\":[0.0,1.0],\"title\":{\"text\":\"x\"}},\"yaxis\":{\"anchor\":\"x\",\"domain\":[0.0,1.0],\"title\":{\"text\":\"y\"}},\"legend\":{\"tracegroupgap\":0},\"margin\":{\"t\":60},\"shapes\":[{\"line\":{\"color\":\"red\",\"dash\":\"dash\"},\"type\":\"line\",\"x0\":0,\"x1\":1,\"xref\":\"x domain\",\"y0\":5,\"y1\":5,\"yref\":\"y\"}]},                        {\"responsive\": true}                    ).then(function(){\n",
              "                            \n",
              "var gd = document.getElementById('ac646805-e857-4dd7-97ab-9b927d906832');\n",
              "var x = new MutationObserver(function (mutations, observer) {{\n",
              "        var display = window.getComputedStyle(gd).display;\n",
              "        if (!display || display === 'none') {{\n",
              "            console.log([gd, 'removed!']);\n",
              "            Plotly.purge(gd);\n",
              "            observer.disconnect();\n",
              "        }}\n",
              "}});\n",
              "\n",
              "// Listen for the removal of the full notebook cells\n",
              "var notebookContainer = gd.closest('#notebook-container');\n",
              "if (notebookContainer) {{\n",
              "    x.observe(notebookContainer, {childList: true});\n",
              "}}\n",
              "\n",
              "// Listen for the clearing of the current output cell\n",
              "var outputEl = gd.closest('.output');\n",
              "if (outputEl) {{\n",
              "    x.observe(outputEl, {childList: true});\n",
              "}}\n",
              "\n",
              "                        })                };                            </script>        </div>\n",
              "</body>\n",
              "</html>"
            ]
          },
          "metadata": {}
        }
      ],
      "source": [
        "toss_10_coins(1000, 5, 0.51)"
      ]
    },
    {
      "cell_type": "markdown",
      "source": [
        "## Learnings\n",
        "\n",
        "We saw how an experiment will tend to it's theoretical, expected value as we increase the number of trials. This will prove very useful later, when we look at real life scenarios and AB testing and we understand that having more data will allow us to draw sounder conclusions."
      ],
      "metadata": {
        "id": "JN5UF1utEPCT"
      },
      "id": "JN5UF1utEPCT"
    }
  ],
  "metadata": {
    "kernelspec": {
      "display_name": "Python 3 (ipykernel)",
      "language": "python",
      "name": "python3"
    },
    "language_info": {
      "codemirror_mode": {
        "name": "ipython",
        "version": 3
      },
      "file_extension": ".py",
      "mimetype": "text/x-python",
      "name": "python",
      "nbconvert_exporter": "python",
      "pygments_lexer": "ipython3",
      "version": "3.8.12"
    },
    "colab": {
      "provenance": [],
      "include_colab_link": true
    }
  },
  "nbformat": 4,
  "nbformat_minor": 5
}