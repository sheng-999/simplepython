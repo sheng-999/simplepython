{
  "nbformat": 4,
  "nbformat_minor": 0,
  "metadata": {
    "colab": {
      "provenance": [],
      "include_colab_link": true
    },
    "kernelspec": {
      "name": "python3",
      "display_name": "Python 3"
    },
    "language_info": {
      "name": "python"
    }
  },
  "cells": [
    {
      "cell_type": "markdown",
      "metadata": {
        "id": "view-in-github",
        "colab_type": "text"
      },
      "source": [
        "<a href=\"https://colab.research.google.com/github/sheng-999/simplepython/blob/main/Travel_agency_database_challenge.ipynb\" target=\"_parent\"><img src=\"https://colab.research.google.com/assets/colab-badge.svg\" alt=\"Open In Colab\"/></a>"
      ]
    },
    {
      "cell_type": "markdown",
      "source": [
        " ![Emil](data:image/png;base64,iVBORw0KGgoAAAANSUhEUgAAAbYAAABzCAMAAADDhdfxAAAAyVBMVEX////mDwUbGiHlAAAAAADmDQH5zszpS0npNC/+7ezvcm4ZGCAAAA4AAAn97+71qaYPDhfb29yenqDT09SzsrRfX2PZ2doVFBzwdnPnJyPwjIuMjI++vr4NCxXxgX7xhYKVlZf72tnt7e4EABD29vbk5OUzMjf4w8DLy8zw8PA8O0CpqatWVlr+9vX4ycdIR0spKC54eHtmZmntYV2Af4IiISdPT1PznpzpPTn3ubb72NdvbnH1rKrnHBTylJHuamXrSUTsYV7rVVIDzG+MAAARjUlEQVR4nO2dC1PiPBfHkQaVbeuWa1Rat0LBclEQAS+ou4/f/0O9Sdpcm3KtOvj2P7MzKw1pk19PcnJyWgqFXLlyfaXK7x8nn66P8+PvbufP0vOR8TU6/+6W/iQ9GqWjL1HJ+Lj97sb+GN18FTUk4893t/bH6Mn4MmrI3q6/u7k/RHdfaGy5uWWm9y80NoTt47vb+0N0/rXYnnKnJBP9+lpsp+XvbvDPUI7tIJVjO0jl2A5SObaDVI7tIJVjO0jl2A5SObaDVI7tIJVjO0jl2A5SObaDVI7tIJVjO0jl2A5SObaDVI7tIJVjO0jl2A5Sm2ArrcoQ3ypfL8eWkVZio7xO//335/Lx8fX5+fia6ub5+fHx8u/J2zbwcmwZKQ0bIXbxcf7n9fjs7DY9Te729uz4/fxpQ3KrsdUasabt7Bv6s6THVjLeTs6fr8ubZjWeXb//2wTcamw+cCKBWhZN+8nSYjPeXrdP1r/7a6ydJ1djq9rFSDm2ddJhKx2d7VTXy1pwObaMpMNm3Oxa28vT6pEyx5aRNNhKb3sk6r+vNLgcW0bSYbvYp8K7ixXccmwZKRXb8bks7KM8/xI/+fWIPjq7Qv+7fLzhTuf1igcdc2wZKRXblRINwQ8UKh+9Ic/lmP7x7536MWfp3HJsGWkFNrnDMbZSSS6HQL3ExfDy/E9sceXU+S3HlpGywkbIvcWvHrlO8ydzbBkpQ2yokPEc1fo7xdz2w1ZxW9MBUqNVb2bcDXp1Q3foD92wslHRemuzorghru/7VbcWbFLxEJX1lbKZYkMGF3P70HPbA1tQXxRty4NIjgXgwO+m1lMf0eCm0onBLCXo6dJvjHitzdZ47gFg2cAqDmY1qZhy7oo/nndQUQA683GLnNSnRRPh1dr9YA6AbaGKnV7D7avH6bW30P/bw8XcAhYuC3szoVeyxYa4RePki36Y3B3bcAAcs8hkQnvSSgs4D1lssyUfaAIvPlCVDyzjb3iAgq4sHRua7GyW3WjyoCmoi1+uLE2xqO0sEdWxFRdV7hx30ekIhR3Qqyrg4nNYi6DgTnijTdixlqzFGWNDYM7S6t0DW3cEYFERAufq62nTtsKBfKBlxd91GtLn/QlUPq92OqZ8Og8MC378fVvEVoVKUdNCF7aIawSSYTYbwFGbAQbSTVAA8aWMAl9pNKqYdkzW2I6MX6RevVeyI7aa56nQohb7+opGcd+Ynnyvj1k3AMlSXUA/jqwwuAdm4mwmqOqwTTVFoV0f6bDVLV07ILjXYIPjKUgWtZufhK0URzQftFsLO2Fzk6ZGe/JeWxHDYEuDYc1jPYxMR9A97U0QDViNZIdhWT0zgW1k60qa9pzWKGDT3QxRfT3B36Dnhqpdkg/n7c/BdmQ8kYq1zuRO2GowhRouOdNV1O7F34Bjbf1oyJuKxQdQ+nSpRYFp0G5m2BppRdkFcmwz/c1ATjzg1p9eCqsz/SRsR5E3Wc4KW3vAbzvkQyLZgnNiD3U1LZn5iINhj+M3TeFAjY2RBEdd7jjTTNgIw1ZVisJEUY5ttoqwNWL2pmCDyD0RqwXuZ2E7Iae/0Exuu2C7Z82F9qJVr1Vcv+GwOQKauoVASIcjcTCsdMTuFKanGT0AcN+1PaGTIPK8TQd4sr1TbE2BqOkBbzIxbUsuyrDJNwNaxUCJMR82pHKe3Vs0RgPe3qLXWIOtJCrCJn1mvJVxTLKUUPQeu7+6nbztsYUWbV2nxzzHSoP6hEVrqqlJHfbk6smBJT/ACpPPZqzqIrQGfq1Zabr3E0vsY4qtIfQmbNSb3W6l1urZEo4YW9sUTN3q9AaLcQ/awmc2bZyAzfQaIR4V+rWlxxcClVXYHpW48W/02T/5IzyJXeuS8J6jCjLBxoZIYRxBarHWaUMq1IBMwL80Fu0ATpiV1uiYS3quzXvdmzOT7LdEdyLGVuOev71gcZvAF2gwbEt+MzjgPiRXVfPnwi0yCFRspjBWDHl7h6uwbarbckJRRFnnk2yPLaSX643lSBDj5um8SWW6wmrLkwYI6QE/Pi2cB8JfyLoX4hlDgVuM7Z6NurZk8mGRc4uxVfjJgRCJEe4+Np7zT6TlIZuuydoy821SptdMsE3jqzXnyhwWjKkZAk1kL5AHPqn2+ADraVq0g6eXgK6T+e0fK0z0J/vAW8hnD4WVRldqBvrAV2qlRWGxoNQqxQSa9PLhpPCZ2G4ywcZWYC21tJs0KEF0ZQwn1GUcyesgSNdKzFPpYPursGGLm2OsGTeuunQBiVuq0GK3SIStwnwXNd5WcNmgHM9uHJt8AdQPNvHSTZtLkknqcCbYaNeYMOEwBj3RSlSxUYn2fpvVJFJCGtIxkqzx6uljb1dZt7Hh1EpcQHvOMJHrZgsFZ6EW5RG3TnRGttxWrJ3GBIhPos3c+vX6exc9X4u5Q5lgY/POOKyFkmohjR/BhW7/g42ScffTOR22OjJt6qlYLbFzksYmjHQRtgYNocHkNhJzRyNszNI1/hMbz01I/maEFReZjh+m00xLb91ZD78ZuUywsYkYgoSo2ZhF3VZAlQHvi33uNJrxesk0o16j3WQ1JRZWskoeMyPYWChmkNh84UZLsPX1URvKwxbLMmziEkWsktwl2T4ohVMTrsoZYlukx7W4gG7F3aWtjMyGLqLRREjrtMgBaoXOiEAcaxZ8VGyGirDRSUntX6y+hI0ty7UxnS6zTFfEZimzoLse28pHo9IUxVDQVx8zwxbMU4Kv67HJDiKjg9xOepqoX6g92z45If2W5Wv6lxoNwRasXIFI2ELqzHi6NWaf3ioR1J2xlYzTXURYl/DXH26zwlbcCJt23425GmTTjY6RC+w6RpUST7ofW6FptWUyGrtgpihj07pE1L4ibHRaMrU7u3RgjvYrdsVWMl7PdlG5/PL+QcAZJ2cZYUuGcTfG1qVzGL7Fu/FGKOlw6iDgnWfaGfEGKS23DbYNrC0eT/WzMDP4yMJ3xrbPuu34AWfbGR/Xt1lESTa0Nn3eDaWDh794PjdJ4Jn6APjupp5jHKPoD1ZgY5FOBZtmbgu0g6RmGYPLsgvda5Dcc7l982ZEvmiS2vbYBsxd7Fip0s9tzPXCg2HcM9GyiXor6C/m48WhlmCwYjHYnUguCZ134Ti5AHElbDUa7O8kVxXC7iD4TmyFMslKziYFiA77eN2WLn11fMCr0GSRKKDCBjvQprFL5jgu6AkHyQpr9PoibIuU1AesFtsL6kpX4muuk8dPCdQMsN1cnZYuTh7XPqN4/fsJOSSnccHb1MeltsZGA0o8RrWFmJM4dKOaaRSKjZJDuixm0yNbUmsinb6MjQW7OonJrT+no0Q0EtD7hMYdJfEVPvlzb2x35JFs/O/XyucUby+PsPuPS56T1fbZg6EfJbfGxvYr9G7HatGGwtEyHiPj4GyFHYj70wT0OxxNNVEfG7FteRc8GZP0lZgkD5okp8wmnb9jA98X2yN7GrtkXKwwuLMTZlwl4ynigl+koNkn3RQbmwLoNKSmyOFDLT9SKy3RlU4aPBxPg84UAM1S4V4FG7GSM5arhJLZkrrojeSSoansALA4P0wQLoxYyCy6UfbE9opgxMtu/DR3an/fnhh0fY59/ydumKfJ9KANsfGYPsv/6Kjmdg+oR6Kb56Mi1INTrcKXN3GKFqu8PWHDm6/UxlNR4o2bBdtTsKVhstLjmw0RNjabFr2FMtqzFBOzE13dfthwXjEa9G7u7n6f4v+epD1i+k6oXt7d3b0TH5L/AmnS3DbEJoQo2GfqfRqyHNZ5aoXCFhnpMmZTTfkAWXjHYlFQ05NvFGF/OsbmcvhAyC+ve8IWUezl8lwhayxyC3g6lxOb7M7Y3nCpB+PIeIg7GRue8arvmjI+dhkz/WOwdPLC9tjYRCZsb/RZEofTE7mFDptokpMQ6xRmOlEXcg5z6YDo7XPUUFy7BUuBNN12FnLKPDAj6fzd+ljKhoyxcR+l6EB+weGAkTeteNDYFZvxt0CyioXfyLsxaD5WQsjYjHf216VB05IL22PjPSbk6PMdRwiGdLrp3vP4v25zm32ZWwhuLy8pj5IdcQnBhz4TjOOu7A7nYtoXxRaK2T6ebYMisG3phmDxUiFxy7S9mdtsVly/J+TtWnQo2BFbyXgpkN8HNnAXXz/f4MnqCtmU3iv5iFKBCi+vx9jkkPN5Sg9ti63Lm+bd17pd8mxQn08ppt1b1sMwHI6KDIep8c24auJgKAahauJzIPJ2iit8x7F6jVnrfjGX0+hYkoeS+6gJxbFQwFTgbnYQXJybx8vzlKRdsb1dky4nk9QzcjSeriPj0/7cefnUIMPnJSr43y3+QvR9rP+2xMZjIsgArMkksjlXyHWDnpre2hmtqFDKaJXXEMKp1ISHkZioD52O5alZqwxbf6F9OEGHrS8P2ErSrMnjJztb212BGNEzglLCTsYD+pvl9qvY3khaJPllWuMSGR1av73Ex5IJrmtelSaNadCMYwotxe0TJU94SQl5P6YtjqbCKGl25ChH24G6UwniKVXdni5Tn2c+CJtKtWJ6taYwK+w8t50+Pr6/EesiUXySW4KM6un9MqlfyAwLxBeJsv/LFyXjv+jQybbrNjEtjfROhK0wTeUGzTWPCze5fyBHfJs8ucpRDdb19B0M5eV2xG2usTcIpywLgd9WYVGLWKG2+35btATD1kVSxckjaxellFQFdLwc57JiHwZZ3xE/tCU2IXFcxFbQPDJE1JmvfeaWD01KghffN1efUcT+g46b06MwxATGIPnonee4cig5VqWnv//kxxz32N0mXYyGPDzFkYTk8oqXMuHR9PYCF3xZ9zvea98nORHvXR549RNP8xWxZzlKJnGoGrLVLJAP+PxAMtxZm1uJ01mTblX3WGKhPgDCYwOmBxrtghYbfm4u2Q4IxtJAvyc2Mvjdvn884NRwXWY4Y4HnvvL5x1/ss2gfa9scW3ch3LtCvLw2kp4BJq2d6PIjVVUgNInU5JCKbeoPELWXIgqcLgWmbYQ6+opiuEF96gC743lexwbzZVhQN264wrFcL2pGryqvYEB8XUls8YHUzK24j7G5FchCOvWNFVHBZ1bweXVG0fq3twb+HHi4qyF0xPBS4DY6tgOx/4WOORYYVzfbExjRh6iV4FjADujph9MivhCILgT5r14Df13/7DZWO/Rn99P7WTWMrooZuboXGMT1mriFaKk3Vh/dLqQ9eO7S58u9lDzJWCUWGFn1PiZc8O0uLniz5lWgm7x0tzucDnrzSW8wmskzV6U6GkyKnc583lu0wg3eDUHUblYiqV/oxp+nviujW1+Oe715rzeeVptSXc21J+dJjUlPt+uieueoFbjeZE0Vel3KbRnQhqQ8cSNw+w/bUXn1W+swDeMKg3u5WvcC103fldyvdPu6rgm6zTCsVNZPaVmp3660dzkbjWzCnn5MCLr7tWJ1niTdb1sNI9oAKOnzEHbCdmAKVALsXQ3OaNNRYTutTW8trWVGy21Q8EdiC4ammmzMIgSqX5GV8p9v2FfDng2VXYiQRcPS9wL3U45tLwXuGL8BiD/Ci9VkkVA4+ZwxMse2l0IaIoEeX33VTb7r7X/SiXNs+4hH3Uy0kMSrhHZ9xMOgugBMNsqx7aOKuGNmAzAHQAxfpb1can/l2PaSr7xPRvrL0z3Nlo1ybPupkYw5M/MrbvRO0J2UY9tP/UHa/rYz/yTnHyvHtqf6A0v7VJA3+URqOba9Fcy0m2ij1dkSeyrHtr/Q6k3eRHOAtyqfLAPl2LJQ7R7vkzoOhI5nATDaZAN3L+XYslEQVmeNxmDQWLbqX/Bbjzm2LBUEnxSDVJVjO0jl2A5SObaDVI7tIJVjO0idfzG23X5jOJei96/F9u+72/tDpHsz1idi+/vd7f0hKut+ZeHzsD1/d3t/ii6/0NyMpz1+0TuXqFvN04OfRc14WX89uTYTftNS8gdPspfBfnE2Vxa6fX3a6SW7W+riKl+zZayX40/XS75iy/X/rf8BQ/rgVIRtUc4AAAAASUVORK5CYII=)"
      ],
      "metadata": {
        "id": "b-gD-sAz7tXO"
      }
    },
    {
      "cell_type": "markdown",
      "source": [
        "# Travel agency\n",
        "\n"
      ],
      "metadata": {
        "id": "-GZaVHIylfhC"
      }
    },
    {
      "cell_type": "markdown",
      "source": [
        "Today, you are working at a travel agency. All the cities covered by this agency are stored in a Python dictionary.\n",
        "\n",
        "\n",
        "They require your newly acquired Python skills to develop useful functions!"
      ],
      "metadata": {
        "id": "OXuaW1Ey74eO"
      }
    },
    {
      "cell_type": "markdown",
      "source": [
        "## Discover the information for one city"
      ],
      "metadata": {
        "id": "Ot9XlCT-8d5w"
      }
    },
    {
      "cell_type": "markdown",
      "source": [
        "\n",
        "\n",
        "```\n",
        "# This text is in code format\n",
        "```\n",
        "\n",
        "The information pertaining to a city is provided in a single dictionary. Let's take a look at an example below.\n",
        "\n",
        "Please note that:\n",
        "- location corresponds to latitude and longitude\n",
        "- prefecture_level is measured in km2 (square kilometers)"
      ],
      "metadata": {
        "id": "0TklkrRAl8iD"
      }
    },
    {
      "cell_type": "code",
      "source": [
        "paris_city = {\"name\": \"Paris\",\n",
        "              \"total_population\": 2102650,\n",
        "              \"continent\": \"Europe\",\n",
        "              \"location\": [48.8566, 2.3522],\n",
        "              \"area\": {\n",
        "                  \"prefecture_level\": 105.4\n",
        "              }}"
      ],
      "metadata": {
        "id": "L4hhUpgFl9Q1"
      },
      "execution_count": 2,
      "outputs": []
    },
    {
      "cell_type": "markdown",
      "source": [
        "1) What is the data type of the key value `location`? What about `area`?"
      ],
      "metadata": {
        "id": "x6Xa65XVAw_4"
      }
    },
    {
      "cell_type": "code",
      "source": [
        "print(type(paris_city['location']))\n",
        "print(type(paris_city[\"area\"]))"
      ],
      "metadata": {
        "id": "GE7GFCX4EIkX",
        "colab": {
          "base_uri": "https://localhost:8080/"
        },
        "outputId": "1cb79b7d-ac14-461d-94d6-fa909b011b1a"
      },
      "execution_count": 5,
      "outputs": [
        {
          "output_type": "stream",
          "name": "stdout",
          "text": [
            "<class 'list'>\n",
            "<class 'dict'>\n"
          ]
        }
      ]
    },
    {
      "cell_type": "markdown",
      "source": [
        "2) How do we get `prefecture_level` value from `paris_city` variable?"
      ],
      "metadata": {
        "id": "FTD6Z3lPEStU"
      }
    },
    {
      "cell_type": "code",
      "source": [
        "paris_city[\"area\"]['prefecture_level']"
      ],
      "metadata": {
        "id": "0x7cIrUUEcpK",
        "colab": {
          "base_uri": "https://localhost:8080/"
        },
        "outputId": "196e960a-641a-47bf-a100-5c17bdc79e96"
      },
      "execution_count": 6,
      "outputs": [
        {
          "output_type": "execute_result",
          "data": {
            "text/plain": [
              "105.4"
            ]
          },
          "metadata": {},
          "execution_count": 6
        }
      ]
    },
    {
      "cell_type": "markdown",
      "source": [
        "3) How do we get longitude value from `paris_city` variable?"
      ],
      "metadata": {
        "id": "0gbqOyRiEcYX"
      }
    },
    {
      "cell_type": "code",
      "source": [
        "paris_city['location'][1]"
      ],
      "metadata": {
        "id": "ncyiUMxsEwPZ",
        "colab": {
          "base_uri": "https://localhost:8080/"
        },
        "outputId": "8c256133-05ac-4d62-d2ad-5ba301b69813"
      },
      "execution_count": 7,
      "outputs": [
        {
          "output_type": "execute_result",
          "data": {
            "text/plain": [
              "2.3522"
            ]
          },
          "metadata": {},
          "execution_count": 7
        }
      ]
    },
    {
      "cell_type": "markdown",
      "source": [
        "4) Create a function `get_key_value_from_city` that takes two arguments `city` and `key` and outputs the key value from the city.\n",
        "\n",
        "Eg: `get_key_value_from_city(city=paris_city, key=\"total_population\")` will output 2102650\n",
        "\n",
        "\n",
        "If a property doesn't exist, please return \"not defined\""
      ],
      "metadata": {
        "id": "CRhMbQ-GlfXC"
      }
    },
    {
      "cell_type": "code",
      "source": [
        "# create the function with the selected arguments\n",
        "\n",
        " # set default output\n",
        "def get_key_value_from_city(city=None, key=None):\n",
        "\n",
        "  # set the output if the required key exists in the selected city\n",
        "  if key in city:\n",
        "    print(city[key])\n",
        "  else:\n",
        "    return 'not defined'\n",
        "\n",
        "# test the function with the given example\n",
        "get_key_value_from_city(city=paris_city, key=\"total_population\")"
      ],
      "metadata": {
        "id": "Rgqzj8y8FYjU",
        "colab": {
          "base_uri": "https://localhost:8080/"
        },
        "outputId": "f68c8154-4bc4-4b31-c258-425367d725cc"
      },
      "execution_count": 10,
      "outputs": [
        {
          "output_type": "stream",
          "name": "stdout",
          "text": [
            "2102650\n"
          ]
        }
      ]
    },
    {
      "cell_type": "markdown",
      "source": [
        "## Discovering all cities"
      ],
      "metadata": {
        "id": "T_pIQ8wW_S5k"
      }
    },
    {
      "cell_type": "markdown",
      "source": [
        "As a travel agency, they have collected multiple cities information where they manage accommodations. All of these cities are stored in a Python list called `cities`."
      ],
      "metadata": {
        "id": "E6npEinSHZOr"
      }
    },
    {
      "cell_type": "markdown",
      "source": [
        "1) Execute the cell below to load data. How many cities do they have?"
      ],
      "metadata": {
        "id": "2BSHTaHyBB9g"
      }
    },
    {
      "cell_type": "code",
      "source": [
        "cities = [\n",
        "    {\n",
        "        \"name\": \"Paris\",\n",
        "        \"total_population\": 2102650,\n",
        "        \"continent\": \"Europe\",\n",
        "        \"location\": [48.8566, 2.3522],\n",
        "        \"area\": {\n",
        "            \"prefecture_level\": 105.4\n",
        "        }\n",
        "    },\n",
        "    {\n",
        "        \"name\": \"Xi’an\",\n",
        "        \"total_population\": 12328000,\n",
        "        \"continent\": \"Asia\",\n",
        "        \"location\": [34.2667, 108.9000],\n",
        "        \"area\": {\n",
        "            \"prefecture_level\": 10762\n",
        "        }\n",
        "    },\n",
        "    {\n",
        "        \"name\": \"Chengdu\",\n",
        "        \"total_population\": 14645000,\n",
        "        \"continent\": \"Asia\",\n",
        "        \"location\": [30.6600, 104.0633],\n",
        "        \"area\": {\n",
        "            \"prefecture_level\": 14378\n",
        "        }\n",
        "    },\n",
        "    {\n",
        "        \"name\": \"Los Angeles\",\n",
        "        \"total_population\": 12121244,\n",
        "        \"continent\": \"North America\",\n",
        "        \"location\": [34.1141, -118.4068],\n",
        "        \"area\": {\n",
        "            \"prefecture_level\": 1299\n",
        "        }\n",
        "    },\n",
        "    {\n",
        "        \"name\": \"Brooklyn\",\n",
        "        \"total_population\": 2736074,\n",
        "        \"continent\": \"North America\",\n",
        "        \"location\": [40.6501, -73.9496],\n",
        "        \"area\": {\n",
        "            \"prefecture_level\": 180\n",
        "        }\n",
        "    }\n",
        "]"
      ],
      "metadata": {
        "id": "0bj29sWQH7Vw"
      },
      "execution_count": 25,
      "outputs": []
    },
    {
      "cell_type": "markdown",
      "source": [
        "There are 5 cities."
      ],
      "metadata": {
        "id": "J5gkqrixBHuD"
      }
    },
    {
      "cell_type": "markdown",
      "source": [
        "2) By utilizing your previous function `get_key_value_from_city` create a new one that accepts two arguments: `city_name` and `key` from which we desire the value.\n",
        "\n",
        "If the city doesn't exist then return \"City doesn't exist or is not covered\".\n",
        "\n",
        "Test your function with multiple examples."
      ],
      "metadata": {
        "id": "khUbLMYTL-CN"
      }
    },
    {
      "cell_type": "code",
      "source": [
        "# create the function with the selected arguments\n",
        "def retrieve_city_key_value_database(city_name=None, key=None):\n",
        "    # set default output\n",
        "    # start the loop over cities\n",
        "  output = \"City doesn't exist or is not covered\"\n",
        "  for city in cities:\n",
        "    if city_name == city[\"name\"]:\n",
        "      if key in city:\n",
        "        return city[key]\n",
        "      else:\n",
        "   # set the output if the required key exists in the selected city\n",
        "        return output\n",
        "  return output\n",
        "\n",
        "\n",
        "\n",
        "# test the function with examples\n",
        "print(retrieve_city_key_value_database(city_name ='shang hai',key='location'))"
      ],
      "metadata": {
        "id": "Xzd3iPOoMSzQ",
        "colab": {
          "base_uri": "https://localhost:8080/"
        },
        "outputId": "748e004f-46f4-4e39-e3fd-1ba6e5dd06e9"
      },
      "execution_count": 34,
      "outputs": [
        {
          "output_type": "stream",
          "name": "stdout",
          "text": [
            "City doesn't exist or is not covered\n"
          ]
        }
      ]
    },
    {
      "cell_type": "code",
      "source": [
        "retrieve_city_key_value_database(city_name ='Paris', key='location')"
      ],
      "metadata": {
        "colab": {
          "base_uri": "https://localhost:8080/"
        },
        "id": "UB1GITWhZVwk",
        "outputId": "3f24538c-0fec-4370-eaa9-17ab73cd7ccd"
      },
      "execution_count": 36,
      "outputs": [
        {
          "output_type": "execute_result",
          "data": {
            "text/plain": [
              "[48.8566, 2.3522]"
            ]
          },
          "metadata": {},
          "execution_count": 36
        }
      ]
    },
    {
      "cell_type": "code",
      "source": [
        "retrieve_city_key_value_database(city_name = 'Chengdu', key = 'area')"
      ],
      "metadata": {
        "colab": {
          "base_uri": "https://localhost:8080/"
        },
        "id": "5TePLZZLZ_vN",
        "outputId": "ccc5f337-c58c-42da-8195-ab81d728d8bc"
      },
      "execution_count": 38,
      "outputs": [
        {
          "output_type": "execute_result",
          "data": {
            "text/plain": [
              "{'prefecture_level': 14378}"
            ]
          },
          "metadata": {},
          "execution_count": 38
        }
      ]
    },
    {
      "cell_type": "markdown",
      "source": [
        "3) Sometimes, city information can be incorrect or require updates.\n",
        "\n",
        "Create a function `modify_city_key_value` that replaces an existing key's value by a new one provided. It takes three arguments `city_name`, `key` and `value`.\n",
        "\n",
        "The function will generate a text message indicating one of the following scenarios:\n",
        "\n",
        "- If the city doesn't exist or is not covered: \"City doesn't exist or is not covered.\"\n",
        "- If the provided key doesn't exist: \"Key provided doesn't exist.\"\n",
        "- If the key has been successfully updated for the city: \"`key` has been updated for `city_name.\""
      ],
      "metadata": {
        "id": "co-Z53zYCnAN"
      }
    },
    {
      "cell_type": "code",
      "source": [
        "# create the function with the selected arguments\n",
        "\n",
        "def modify_city_key_value(city_name=None,key=None,Value=None):\n",
        "  # set default output\n",
        "  city_found = False\n",
        "\n",
        "  # start the loop over cities\n",
        "  for city in cities:\n",
        "    if city[\"name\"] == city_name:\n",
        "      city_found = True\n",
        "\n",
        "# set the different outputs depending on whether the key exists\n",
        "      if key in city:\n",
        "        city[key]= Value\n",
        "        return f\"{key} has been updated for {city_name}.\"\n",
        "      else:\n",
        "        return \"Key provided doesn't exist.\"\n",
        "  if not city_found:\n",
        "    return \"City doesn't exist or is not covered.\"\n",
        "\n",
        "\n",
        "\n",
        "# to be completed\n",
        "# test the function with examples\n",
        "modify_city_key_value(city_name = \"Chengdu\",key=\"continent\",Value=\"aisa\")"
      ],
      "metadata": {
        "id": "9SfhtUrPNNtr",
        "colab": {
          "base_uri": "https://localhost:8080/",
          "height": 35
        },
        "outputId": "9bd80d7e-150a-41e7-9be0-a2b13e27315f"
      },
      "execution_count": 52,
      "outputs": [
        {
          "output_type": "execute_result",
          "data": {
            "text/plain": [
              "'continent has been updated for Chengdu.'"
            ],
            "application/vnd.google.colaboratory.intrinsic+json": {
              "type": "string"
            }
          },
          "metadata": {},
          "execution_count": 52
        }
      ]
    },
    {
      "cell_type": "code",
      "source": [
        "modify_city_key_value(city_name = \"Paris\", key=\"rive gauche\", Value = \"cafe\")"
      ],
      "metadata": {
        "colab": {
          "base_uri": "https://localhost:8080/",
          "height": 35
        },
        "id": "2UtNSVPHbczG",
        "outputId": "4b5d0fe0-5b50-45a7-86cc-2be4a640ef06"
      },
      "execution_count": 53,
      "outputs": [
        {
          "output_type": "execute_result",
          "data": {
            "text/plain": [
              "\"Key provided doesn't exist.\""
            ],
            "application/vnd.google.colaboratory.intrinsic+json": {
              "type": "string"
            }
          },
          "metadata": {},
          "execution_count": 53
        }
      ]
    },
    {
      "cell_type": "code",
      "source": [
        "modify_city_key_value(city_name = \"London\", key=\"location\", Value= [3.3,5.5])"
      ],
      "metadata": {
        "colab": {
          "base_uri": "https://localhost:8080/",
          "height": 35
        },
        "id": "yO0Rju9hbGQf",
        "outputId": "700f6d24-580d-446b-df3b-14afdb2ae095"
      },
      "execution_count": 54,
      "outputs": [
        {
          "output_type": "execute_result",
          "data": {
            "text/plain": [
              "\"City doesn't exist or is not covered.\""
            ],
            "application/vnd.google.colaboratory.intrinsic+json": {
              "type": "string"
            }
          },
          "metadata": {},
          "execution_count": 54
        }
      ]
    },
    {
      "cell_type": "markdown",
      "source": [
        "## Search engine"
      ],
      "metadata": {
        "id": "YfHEZCpEFMi9"
      }
    },
    {
      "cell_type": "markdown",
      "source": [
        "It is quite common for customers to seek destinations that are not far from their current location in order to minimize transportation costs.\n",
        "\n",
        "\n",
        "The travel agency requires your assistance in developing a function that can provide a list of nearby cities."
      ],
      "metadata": {
        "id": "3pKSC0beFRch"
      }
    },
    {
      "cell_type": "markdown",
      "source": [
        "1) Execute the code provided below to see to observe how we can calculate the distance between two locations.\n",
        "\n",
        "Thanks to the [Geopy](https://geopy.readthedocs.io/en/stable/#) library,  this process is quite straightforward."
      ],
      "metadata": {
        "id": "8RKP69p-FrXb"
      }
    },
    {
      "cell_type": "code",
      "execution_count": 63,
      "metadata": {
        "id": "d9Y-n4mUlL2Q",
        "colab": {
          "base_uri": "https://localhost:8080/"
        },
        "outputId": "2b23bcbb-4220-4495-8e2e-0625e7a95ca1"
      },
      "outputs": [
        {
          "output_type": "stream",
          "name": "stdout",
          "text": [
            "866.4554329098685\n"
          ]
        }
      ],
      "source": [
        "from geopy import distance\n",
        "\n",
        "newport_ri = [41.49008, -71.312796]\n",
        "cleveland_oh = [41.499498, -81.695391]\n",
        "\n",
        "print(distance.distance(newport_ri, cleveland_oh).km)"
      ]
    },
    {
      "cell_type": "markdown",
      "source": [
        "2) What is the data type of `distance.distance(newport_ri, cleveland_oh)`?\n",
        "\n",
        "What is \"km\" then ?"
      ],
      "metadata": {
        "id": "jAqwumfvG97A"
      }
    },
    {
      "cell_type": "code",
      "source": [
        "print(type(distance.distance(newport_ri,cleveland_oh)))"
      ],
      "metadata": {
        "id": "AneA6YqQHXrF",
        "colab": {
          "base_uri": "https://localhost:8080/"
        },
        "outputId": "4effcb26-20a1-447f-a9bf-4700e3be79c4"
      },
      "execution_count": 62,
      "outputs": [
        {
          "output_type": "stream",
          "name": "stdout",
          "text": [
            "<class 'geopy.distance.geodesic'>\n"
          ]
        }
      ]
    },
    {
      "cell_type": "markdown",
      "source": [
        "It's a geopy.distance.geodesic object.\n",
        "\n",
        "You can see it with the \"class\" displayed."
      ],
      "metadata": {
        "id": "OZtnw0L9HXNP"
      }
    },
    {
      "cell_type": "markdown",
      "source": [
        "3) Create a function `get_cities_near_by` that takes two arguments:\n",
        "- customer_location: a list [lat, long]\n",
        "- radius: threshold in km\n",
        "\n",
        "if no city has been found, please return an empty list."
      ],
      "metadata": {
        "id": "pk29PbbTO63S"
      }
    },
    {
      "cell_type": "markdown",
      "source": [
        "Note that you can use Guangyan city in China ([32.4355, 105.8436]) and a radius of 500km to test your function.\n",
        "\n",
        "Xi'an and Chengdu are not very far..."
      ],
      "metadata": {
        "id": "Lk7-sNiCIyWA"
      }
    },
    {
      "cell_type": "code",
      "source": [
        "# create the function with the selected arguments\n",
        "\n",
        "def get_cities_near_by(customer_location,radius):\n",
        "  # start a list\n",
        "  nearby_cities = []\n",
        "\n",
        "  # start the loop over cities\n",
        "  for city in cities:\n",
        "    # define the condition on customer_location\n",
        "    city_location = city['location']\n",
        "    # define the condition on radius\n",
        "    dist = distance.distance(customer_location, city_location).km\n",
        "    if dist <= radius:\n",
        "      # append the list of close cities\n",
        "      nearby_cities.append(city)\n",
        "  return nearby_cities\n",
        "\n",
        "\n",
        "# test the function with the example\n",
        "\n",
        "get_cities_near_by(customer_location=[32.4355, 105.8436],radius=1000)"
      ],
      "metadata": {
        "id": "Gt9JDf46PRqb",
        "colab": {
          "base_uri": "https://localhost:8080/"
        },
        "outputId": "64606fb1-a66e-4858-c1ca-810280aa9f70"
      },
      "execution_count": 64,
      "outputs": [
        {
          "output_type": "execute_result",
          "data": {
            "text/plain": [
              "[{'name': 'Xi’an',\n",
              "  'total_population': 12328000,\n",
              "  'continent': 'Asia',\n",
              "  'location': [34.2667, 108.9],\n",
              "  'area': {'prefecture_level': 10762}},\n",
              " {'name': 'Chengdu',\n",
              "  'total_population': 14645000,\n",
              "  'continent': 'aisa',\n",
              "  'location': [30.66, 104.0633],\n",
              "  'area': {'prefecture_level': 14378}}]"
            ]
          },
          "metadata": {},
          "execution_count": 64
        }
      ]
    },
    {
      "cell_type": "markdown",
      "source": [
        "Congratulations ! You have now a search function ready for the travel agents to use !"
      ],
      "metadata": {
        "id": "iVqYzYlDJN9q"
      }
    }
  ]
}