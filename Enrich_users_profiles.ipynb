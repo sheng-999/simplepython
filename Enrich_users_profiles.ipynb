{
  "nbformat": 4,
  "nbformat_minor": 0,
  "metadata": {
    "kernelspec": {
      "display_name": "Python 3",
      "language": "python",
      "name": "python3"
    },
    "language_info": {
      "codemirror_mode": {
        "name": "ipython",
        "version": 3
      },
      "file_extension": ".py",
      "mimetype": "text/x-python",
      "name": "python",
      "nbconvert_exporter": "python",
      "pygments_lexer": "ipython3",
      "version": "3.8.0"
    },
    "colab": {
      "provenance": [],
      "toc_visible": true,
      "include_colab_link": true
    }
  },
  "cells": [
    {
      "cell_type": "markdown",
      "metadata": {
        "id": "view-in-github",
        "colab_type": "text"
      },
      "source": [
        "<a href=\"https://colab.research.google.com/github/sheng-999/simplepython/blob/main/Enrich_users_profiles.ipynb\" target=\"_parent\"><img src=\"https://colab.research.google.com/assets/colab-badge.svg\" alt=\"Open In Colab\"/></a>"
      ]
    },
    {
      "cell_type": "markdown",
      "metadata": {
        "id": "fhlLb9BKgfgp"
      },
      "source": [
        " ![Emil](data:image/png;base64,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)"
      ]
    },
    {
      "cell_type": "markdown",
      "metadata": {
        "id": "b8BkIRvbgfgq"
      },
      "source": [
        "# Enrich users profiles"
      ]
    },
    {
      "cell_type": "markdown",
      "metadata": {
        "id": "EtDz6lJigfig"
      },
      "source": [
        "a) Import the [`microsoft_companies.json`](https://drive.google.com/file/d/1Zrja9KY-05u8XsGfK-P97zGa-NyipS49/view?usp=sharing) file into Colab.\n",
        "\n",
        "Run the code below to get the results in the `microsoft_companies` variable. We will study tomorrow how to load data in Python."
      ]
    },
    {
      "cell_type": "code",
      "metadata": {
        "id": "dphPiTGhgfih"
      },
      "source": [
        "import json\n",
        "\n",
        "with open('microsoft_companies.json') as json_file:\n",
        "    microsoft_companies = json.load(json_file)"
      ],
      "execution_count": 4,
      "outputs": []
    },
    {
      "cell_type": "markdown",
      "metadata": {
        "id": "b2YGCtehgfij"
      },
      "source": [
        "b) What is the type of the `microsoft_companies` variable?"
      ]
    },
    {
      "cell_type": "code",
      "metadata": {
        "id": "kUrUC6dZgfik",
        "colab": {
          "base_uri": "https://localhost:8080/"
        },
        "outputId": "d48f57bb-882d-46c2-be6c-adb6254c7e4c"
      },
      "source": [
        "type(microsoft_companies)"
      ],
      "execution_count": 5,
      "outputs": [
        {
          "output_type": "execute_result",
          "data": {
            "text/plain": [
              "list"
            ]
          },
          "metadata": {},
          "execution_count": 5
        }
      ]
    },
    {
      "cell_type": "markdown",
      "metadata": {
        "id": "m1Pr0zNcgfil"
      },
      "source": [
        "c) How many companies are in this list?"
      ]
    },
    {
      "cell_type": "code",
      "metadata": {
        "id": "DmuqK9XVgfim",
        "colab": {
          "base_uri": "https://localhost:8080/"
        },
        "outputId": "09cc9123-6284-4ffe-9139-8bcb4000f85d"
      },
      "source": [
        "len(microsoft_companies)"
      ],
      "execution_count": 6,
      "outputs": [
        {
          "output_type": "execute_result",
          "data": {
            "text/plain": [
              "301"
            ]
          },
          "metadata": {},
          "execution_count": 6
        }
      ]
    },
    {
      "cell_type": "markdown",
      "metadata": {
        "id": "Ar3vnEkygfin"
      },
      "source": [
        "d) Look at the first item on this list. What type is it?"
      ]
    },
    {
      "cell_type": "code",
      "metadata": {
        "id": "79SP7qe4gfin",
        "colab": {
          "base_uri": "https://localhost:8080/"
        },
        "outputId": "7282981c-1ae4-4f39-8a07-c6c7ca31be0b"
      },
      "source": [
        "microsoft_companies[0]"
      ],
      "execution_count": 7,
      "outputs": [
        {
          "output_type": "execute_result",
          "data": {
            "text/plain": [
              "{'datasetid': 'companies-on-linkedin',\n",
              " 'recordid': 'c4d310fc0f0f277e574e20f5e2185d4765a1ab3f',\n",
              " 'fields': {'total_employee_estimate': 44,\n",
              "  'size_range': '11 - 50',\n",
              "  'industry': 'computer games',\n",
              "  'linkedin_url': 'https://www.linkedin.com/company/develop-magazine',\n",
              "  'domain0': 'https://www.develop-online.net',\n",
              "  'current_employee_estimate': 6,\n",
              "  'name': 'microsoft'},\n",
              " 'record_timestamp': '2019-06-03T09:35:00+02:00'}"
            ]
          },
          "metadata": {},
          "execution_count": 7
        }
      ]
    },
    {
      "cell_type": "code",
      "source": [
        "type(microsoft_companies[0])"
      ],
      "metadata": {
        "colab": {
          "base_uri": "https://localhost:8080/"
        },
        "id": "OQT6UWPKh1xu",
        "outputId": "d6f7eef7-5544-437b-e253-6994684b832c"
      },
      "execution_count": 8,
      "outputs": [
        {
          "output_type": "execute_result",
          "data": {
            "text/plain": [
              "dict"
            ]
          },
          "metadata": {},
          "execution_count": 8
        }
      ]
    },
    {
      "cell_type": "markdown",
      "metadata": {
        "id": "3J2GJQBzgfip"
      },
      "source": [
        "e) For this first item, display the company name, industry, field and total number of employees."
      ]
    },
    {
      "cell_type": "code",
      "metadata": {
        "id": "OwKpRvL5gfiq",
        "colab": {
          "base_uri": "https://localhost:8080/"
        },
        "outputId": "a053cd2a-4c57-49a0-cfc7-13bc8cba4899"
      },
      "source": [
        "# to get the main keys first\n",
        "microsoft_companies[0].keys()"
      ],
      "execution_count": 23,
      "outputs": [
        {
          "output_type": "execute_result",
          "data": {
            "text/plain": [
              "dict_keys(['datasetid', 'recordid', 'fields', 'record_timestamp'])"
            ]
          },
          "metadata": {},
          "execution_count": 23
        }
      ]
    },
    {
      "cell_type": "code",
      "source": [
        "company_name = microsoft_companies[0]['fields']['name']\n",
        "industry = microsoft_companies[0]['fields']['industry']\n",
        "field = microsoft_companies[0]['fields']['domain0']\n",
        "total_employees = microsoft_companies[0]['fields']['total_employee_estimate']\n",
        "\n",
        "print(f\"{company_name}, \\n{industry}, \\n{field}, \\n{total_employees}\")"
      ],
      "metadata": {
        "colab": {
          "base_uri": "https://localhost:8080/"
        },
        "id": "4EU5SGDfj3PC",
        "outputId": "d2ba54e1-5313-4985-ca98-9c7a638363da"
      },
      "execution_count": 24,
      "outputs": [
        {
          "output_type": "stream",
          "name": "stdout",
          "text": [
            "microsoft, \n",
            "computer games, \n",
            "https://www.develop-online.net, \n",
            "44\n"
          ]
        }
      ]
    },
    {
      "cell_type": "markdown",
      "metadata": {
        "id": "qz7QgDnbgfir"
      },
      "source": [
        "f) Do you think that this company \"microsoft\" is the giant American company?"
      ]
    },
    {
      "cell_type": "markdown",
      "metadata": {
        "id": "IpUUDBn8gfir"
      },
      "source": [
        "It's not a giant company if we only consider the number of employees."
      ]
    },
    {
      "cell_type": "markdown",
      "metadata": {
        "id": "hPQFh5_rgfis"
      },
      "source": [
        "g) So it looks like there are homonyms.\n",
        "\n",
        "Create a new empty list and add all the companies whose names are exactly \"microsoft\".\n",
        "\n",
        "To do this, you will need to loop through all the companies and use a condition to check that their names are indeed \"microsoft\". If this is the case, the company information will be added to the empty list.\n",
        "\n",
        "How many are there?"
      ]
    },
    {
      "cell_type": "code",
      "metadata": {
        "id": "aPt7PEYugfit",
        "colab": {
          "base_uri": "https://localhost:8080/"
        },
        "outputId": "f45e0749-c5a5-400f-e2ca-fad734b70ff9"
      },
      "source": [
        "exact_microsoft_companies = []\n",
        "\n",
        "# iterate through all companies\n",
        "for company_info in microsoft_companies:\n",
        "    # if statement: Check if the company name is \"microsoft\", get value 'name' in lower.()\n",
        "    if company_info['fields'].get('name', '').lower() == \"microsoft\":\n",
        "      exact_microsoft_companies.append(company_info)\n",
        "\n",
        "\n",
        "print(exact_microsoft_companies)"
      ],
      "execution_count": 50,
      "outputs": [
        {
          "output_type": "stream",
          "name": "stdout",
          "text": [
            "[{'datasetid': 'companies-on-linkedin', 'recordid': 'c4d310fc0f0f277e574e20f5e2185d4765a1ab3f', 'fields': {'total_employee_estimate': 44, 'size_range': '11 - 50', 'industry': 'computer games', 'linkedin_url': 'https://www.linkedin.com/company/develop-magazine', 'domain0': 'https://www.develop-online.net', 'current_employee_estimate': 6, 'name': 'microsoft'}, 'record_timestamp': '2019-06-03T09:35:00+02:00'}, {'datasetid': 'companies-on-linkedin', 'recordid': 'd8611a51def434f1049b899a99d8a589fbb7b9c1', 'fields': {'total_employee_estimate': 276983, 'size_range': '10001+', 'year_founded': '1975', 'industry': 'computer software', 'locality': 'redmond,washington,united states', 'linkedin_url': 'https://www.linkedin.com/company/microsoft', 'country': 'united states', 'domain0': 'https://www.microsoft.com', 'current_employee_estimate': 116196, 'name': 'microsoft'}, 'record_timestamp': '2019-06-03T09:35:00+02:00'}, {'datasetid': 'companies-on-linkedin', 'recordid': 'a5140838fb9ffcda43fa4b8f35cd13ed2abe67f7', 'fields': {'total_employee_estimate': 5, 'size_range': '1 - 10', 'year_founded': '1975', 'industry': 'computer software', 'linkedin_url': 'https://www.linkedin.com/company/microsoft-cyprus', 'domain0': 'https://www.', 'current_employee_estimate': 1, 'name': 'microsoft'}, 'record_timestamp': '2019-06-03T09:35:00+02:00'}, {'datasetid': 'companies-on-linkedin', 'recordid': 'be50e923df54801d559eb644eac1580f92052573', 'fields': {'total_employee_estimate': 9, 'size_range': '11 - 50', 'industry': 'computer software', 'linkedin_url': 'https://www.linkedin.com/company/microsoft-2', 'domain0': 'https://www.', 'current_employee_estimate': 6, 'name': 'microsoft'}, 'record_timestamp': '2019-06-03T09:35:00+02:00'}, {'datasetid': 'companies-on-linkedin', 'recordid': '998d5e4e4bebfdb1a2af75f3b3014ddb1377c736', 'fields': {'total_employee_estimate': 3, 'size_range': '1 - 10', 'year_founded': '2012', 'industry': 'management consulting', 'linkedin_url': 'https://www.linkedin.com/company/microsoft-alliance-as-a-service', 'domain0': 'https://www.microsoftaaas.com', 'current_employee_estimate': 0, 'name': 'microsoft'}, 'record_timestamp': '2019-06-03T09:35:00+02:00'}, {'datasetid': 'companies-on-linkedin', 'recordid': '694e5569ffadbee848f1c3ab7a180f158a5506be', 'fields': {'total_employee_estimate': 4, 'size_range': '1 - 10', 'year_founded': '2010', 'industry': 'information technology and services', 'linkedin_url': 'https://www.linkedin.com/company/mazik-solutions-pvt-ltd', 'country': 'india', 'domain0': 'https://www.maziksolutions.com', 'current_employee_estimate': 1, 'name': 'microsoft'}, 'record_timestamp': '2019-06-03T09:35:00+02:00'}]\n"
          ]
        }
      ]
    },
    {
      "cell_type": "code",
      "source": [
        "len(exact_microsoft_companies)"
      ],
      "metadata": {
        "colab": {
          "base_uri": "https://localhost:8080/"
        },
        "id": "qlprNDV75shD",
        "outputId": "b03264d2-f2e1-4e12-9c26-a8ed0ebd8402"
      },
      "execution_count": 51,
      "outputs": [
        {
          "output_type": "execute_result",
          "data": {
            "text/plain": [
              "6"
            ]
          },
          "metadata": {},
          "execution_count": 51
        }
      ]
    },
    {
      "cell_type": "markdown",
      "metadata": {
        "id": "V6lW98xtgfiw"
      },
      "source": [
        "h) Among the results obtained, do you see the giant American company?\n",
        "\n",
        "You can run the code below and then use the `pprint` function to indent the results.\n",
        "\n",
        "You can use it like print function."
      ]
    },
    {
      "cell_type": "code",
      "metadata": {
        "id": "GD1Ysk9yeY7T"
      },
      "source": [
        "from pprint import pprint"
      ],
      "execution_count": 52,
      "outputs": []
    },
    {
      "cell_type": "code",
      "metadata": {
        "colab": {
          "base_uri": "https://localhost:8080/"
        },
        "id": "8wE5QkZpd07w",
        "outputId": "c240dc9c-43c8-4b1f-d6b1-60c6997c24ed"
      },
      "source": [
        "pprint(exact_microsoft_companies)"
      ],
      "execution_count": 53,
      "outputs": [
        {
          "output_type": "stream",
          "name": "stdout",
          "text": [
            "[{'datasetid': 'companies-on-linkedin',\n",
            "  'fields': {'current_employee_estimate': 6,\n",
            "             'domain0': 'https://www.develop-online.net',\n",
            "             'industry': 'computer games',\n",
            "             'linkedin_url': 'https://www.linkedin.com/company/develop-magazine',\n",
            "             'name': 'microsoft',\n",
            "             'size_range': '11 - 50',\n",
            "             'total_employee_estimate': 44},\n",
            "  'record_timestamp': '2019-06-03T09:35:00+02:00',\n",
            "  'recordid': 'c4d310fc0f0f277e574e20f5e2185d4765a1ab3f'},\n",
            " {'datasetid': 'companies-on-linkedin',\n",
            "  'fields': {'country': 'united states',\n",
            "             'current_employee_estimate': 116196,\n",
            "             'domain0': 'https://www.microsoft.com',\n",
            "             'industry': 'computer software',\n",
            "             'linkedin_url': 'https://www.linkedin.com/company/microsoft',\n",
            "             'locality': 'redmond,washington,united states',\n",
            "             'name': 'microsoft',\n",
            "             'size_range': '10001+',\n",
            "             'total_employee_estimate': 276983,\n",
            "             'year_founded': '1975'},\n",
            "  'record_timestamp': '2019-06-03T09:35:00+02:00',\n",
            "  'recordid': 'd8611a51def434f1049b899a99d8a589fbb7b9c1'},\n",
            " {'datasetid': 'companies-on-linkedin',\n",
            "  'fields': {'current_employee_estimate': 1,\n",
            "             'domain0': 'https://www.',\n",
            "             'industry': 'computer software',\n",
            "             'linkedin_url': 'https://www.linkedin.com/company/microsoft-cyprus',\n",
            "             'name': 'microsoft',\n",
            "             'size_range': '1 - 10',\n",
            "             'total_employee_estimate': 5,\n",
            "             'year_founded': '1975'},\n",
            "  'record_timestamp': '2019-06-03T09:35:00+02:00',\n",
            "  'recordid': 'a5140838fb9ffcda43fa4b8f35cd13ed2abe67f7'},\n",
            " {'datasetid': 'companies-on-linkedin',\n",
            "  'fields': {'current_employee_estimate': 6,\n",
            "             'domain0': 'https://www.',\n",
            "             'industry': 'computer software',\n",
            "             'linkedin_url': 'https://www.linkedin.com/company/microsoft-2',\n",
            "             'name': 'microsoft',\n",
            "             'size_range': '11 - 50',\n",
            "             'total_employee_estimate': 9},\n",
            "  'record_timestamp': '2019-06-03T09:35:00+02:00',\n",
            "  'recordid': 'be50e923df54801d559eb644eac1580f92052573'},\n",
            " {'datasetid': 'companies-on-linkedin',\n",
            "  'fields': {'current_employee_estimate': 0,\n",
            "             'domain0': 'https://www.microsoftaaas.com',\n",
            "             'industry': 'management consulting',\n",
            "             'linkedin_url': 'https://www.linkedin.com/company/microsoft-alliance-as-a-service',\n",
            "             'name': 'microsoft',\n",
            "             'size_range': '1 - 10',\n",
            "             'total_employee_estimate': 3,\n",
            "             'year_founded': '2012'},\n",
            "  'record_timestamp': '2019-06-03T09:35:00+02:00',\n",
            "  'recordid': '998d5e4e4bebfdb1a2af75f3b3014ddb1377c736'},\n",
            " {'datasetid': 'companies-on-linkedin',\n",
            "  'fields': {'country': 'india',\n",
            "             'current_employee_estimate': 1,\n",
            "             'domain0': 'https://www.maziksolutions.com',\n",
            "             'industry': 'information technology and services',\n",
            "             'linkedin_url': 'https://www.linkedin.com/company/mazik-solutions-pvt-ltd',\n",
            "             'name': 'microsoft',\n",
            "             'size_range': '1 - 10',\n",
            "             'total_employee_estimate': 4,\n",
            "             'year_founded': '2010'},\n",
            "  'record_timestamp': '2019-06-03T09:35:00+02:00',\n",
            "  'recordid': '694e5569ffadbee848f1c3ab7a180f158a5506be'}]\n"
          ]
        }
      ]
    },
    {
      "cell_type": "markdown",
      "metadata": {
        "id": "Aj6R6G-Ggfiw"
      },
      "source": [
        "Yes, the one with 276983 employees."
      ]
    },
    {
      "cell_type": "markdown",
      "metadata": {
        "id": "GbBprzd6gfiw"
      },
      "source": [
        "i) To facilitate the work of the other teams, we will translate the number of employees into categories. To do this, we will use the following correspondences:\n",
        "   - less than 5: \"small business\n",
        "   - from 5 to 30: \"startup\n",
        "   - from 30 to 200: \"scaleup\n",
        "   - from 200 to 1000: \"big companies\n",
        "   - more than 1000: \"very large companies\n",
        "\n",
        "\n",
        "Write a function with one parameter, representing the number of employees, and returns its corresponding category.\n",
        "\n",
        "Don't forget to return the corresponding category at the end of your function using the **return** keyword. Look carefully at the syntax of the functions in your course."
      ]
    },
    {
      "cell_type": "code",
      "metadata": {
        "id": "Qbm_ZwkGgfiw",
        "colab": {
          "base_uri": "https://localhost:8080/"
        },
        "outputId": "fa636d37-25bf-4d51-8b57-ccaec31eb580"
      },
      "source": [
        "def from_nb_employee_to_category(total_employee):\n",
        "\n",
        "    category = \"\"\n",
        "    if total_employee < 5:\n",
        "      category = \"small business\"\n",
        "    elif total_employee in range(5,31):\n",
        "      category = \"startup\"\n",
        "    elif total_employee in range(31, 201):\n",
        "      category = \"scaleup\"\n",
        "    elif total_employee in range(201,1001):\n",
        "      category = \"big companies\"\n",
        "    elif total_employee > 1000:\n",
        "      category = \"very large companies\"\n",
        "    return category\n",
        "\n",
        "print(from_nb_employee_to_category(23))"
      ],
      "execution_count": 54,
      "outputs": [
        {
          "output_type": "stream",
          "name": "stdout",
          "text": [
            "startup\n"
          ]
        }
      ]
    },
    {
      "cell_type": "code",
      "source": [
        "from_nb_employee_to_category(200)"
      ],
      "metadata": {
        "colab": {
          "base_uri": "https://localhost:8080/",
          "height": 35
        },
        "id": "3_Lhd--_7Y8d",
        "outputId": "d7ccae05-e5a5-43d7-f6bc-373e21528934"
      },
      "execution_count": 55,
      "outputs": [
        {
          "output_type": "execute_result",
          "data": {
            "text/plain": [
              "'scaleup'"
            ],
            "application/vnd.google.colaboratory.intrinsic+json": {
              "type": "string"
            }
          },
          "metadata": {},
          "execution_count": 55
        }
      ]
    },
    {
      "cell_type": "code",
      "source": [
        "from_nb_employee_to_category(666)"
      ],
      "metadata": {
        "colab": {
          "base_uri": "https://localhost:8080/",
          "height": 35
        },
        "id": "g8oAv-VI7c8Y",
        "outputId": "8a31a991-5e64-400d-e393-961ab58ef67b"
      },
      "execution_count": 56,
      "outputs": [
        {
          "output_type": "execute_result",
          "data": {
            "text/plain": [
              "'big companies'"
            ],
            "application/vnd.google.colaboratory.intrinsic+json": {
              "type": "string"
            }
          },
          "metadata": {},
          "execution_count": 56
        }
      ]
    },
    {
      "cell_type": "code",
      "source": [
        "exact_microsoft_companies"
      ],
      "metadata": {
        "colab": {
          "base_uri": "https://localhost:8080/"
        },
        "id": "AaeYUT2x-dDg",
        "outputId": "704bc76e-0b4f-498b-ed8c-3ccd35c5d410"
      },
      "execution_count": 58,
      "outputs": [
        {
          "output_type": "execute_result",
          "data": {
            "text/plain": [
              "[{'datasetid': 'companies-on-linkedin',\n",
              "  'recordid': 'c4d310fc0f0f277e574e20f5e2185d4765a1ab3f',\n",
              "  'fields': {'total_employee_estimate': 44,\n",
              "   'size_range': '11 - 50',\n",
              "   'industry': 'computer games',\n",
              "   'linkedin_url': 'https://www.linkedin.com/company/develop-magazine',\n",
              "   'domain0': 'https://www.develop-online.net',\n",
              "   'current_employee_estimate': 6,\n",
              "   'name': 'microsoft'},\n",
              "  'record_timestamp': '2019-06-03T09:35:00+02:00'},\n",
              " {'datasetid': 'companies-on-linkedin',\n",
              "  'recordid': 'd8611a51def434f1049b899a99d8a589fbb7b9c1',\n",
              "  'fields': {'total_employee_estimate': 276983,\n",
              "   'size_range': '10001+',\n",
              "   'year_founded': '1975',\n",
              "   'industry': 'computer software',\n",
              "   'locality': 'redmond,washington,united states',\n",
              "   'linkedin_url': 'https://www.linkedin.com/company/microsoft',\n",
              "   'country': 'united states',\n",
              "   'domain0': 'https://www.microsoft.com',\n",
              "   'current_employee_estimate': 116196,\n",
              "   'name': 'microsoft'},\n",
              "  'record_timestamp': '2019-06-03T09:35:00+02:00'},\n",
              " {'datasetid': 'companies-on-linkedin',\n",
              "  'recordid': 'a5140838fb9ffcda43fa4b8f35cd13ed2abe67f7',\n",
              "  'fields': {'total_employee_estimate': 5,\n",
              "   'size_range': '1 - 10',\n",
              "   'year_founded': '1975',\n",
              "   'industry': 'computer software',\n",
              "   'linkedin_url': 'https://www.linkedin.com/company/microsoft-cyprus',\n",
              "   'domain0': 'https://www.',\n",
              "   'current_employee_estimate': 1,\n",
              "   'name': 'microsoft'},\n",
              "  'record_timestamp': '2019-06-03T09:35:00+02:00'},\n",
              " {'datasetid': 'companies-on-linkedin',\n",
              "  'recordid': 'be50e923df54801d559eb644eac1580f92052573',\n",
              "  'fields': {'total_employee_estimate': 9,\n",
              "   'size_range': '11 - 50',\n",
              "   'industry': 'computer software',\n",
              "   'linkedin_url': 'https://www.linkedin.com/company/microsoft-2',\n",
              "   'domain0': 'https://www.',\n",
              "   'current_employee_estimate': 6,\n",
              "   'name': 'microsoft'},\n",
              "  'record_timestamp': '2019-06-03T09:35:00+02:00'},\n",
              " {'datasetid': 'companies-on-linkedin',\n",
              "  'recordid': '998d5e4e4bebfdb1a2af75f3b3014ddb1377c736',\n",
              "  'fields': {'total_employee_estimate': 3,\n",
              "   'size_range': '1 - 10',\n",
              "   'year_founded': '2012',\n",
              "   'industry': 'management consulting',\n",
              "   'linkedin_url': 'https://www.linkedin.com/company/microsoft-alliance-as-a-service',\n",
              "   'domain0': 'https://www.microsoftaaas.com',\n",
              "   'current_employee_estimate': 0,\n",
              "   'name': 'microsoft'},\n",
              "  'record_timestamp': '2019-06-03T09:35:00+02:00'},\n",
              " {'datasetid': 'companies-on-linkedin',\n",
              "  'recordid': '694e5569ffadbee848f1c3ab7a180f158a5506be',\n",
              "  'fields': {'total_employee_estimate': 4,\n",
              "   'size_range': '1 - 10',\n",
              "   'year_founded': '2010',\n",
              "   'industry': 'information technology and services',\n",
              "   'linkedin_url': 'https://www.linkedin.com/company/mazik-solutions-pvt-ltd',\n",
              "   'country': 'india',\n",
              "   'domain0': 'https://www.maziksolutions.com',\n",
              "   'current_employee_estimate': 1,\n",
              "   'name': 'microsoft'},\n",
              "  'record_timestamp': '2019-06-03T09:35:00+02:00'}]"
            ]
          },
          "metadata": {},
          "execution_count": 58
        }
      ]
    },
    {
      "cell_type": "markdown",
      "metadata": {
        "id": "PXVr563egfiy"
      },
      "source": [
        "j) We will go through all the companies in the initial file.\n",
        "\n",
        "We will create an empty list that will record all the information about each company as we go along.\n",
        "\n",
        "For each company, store its name, industry, domain and company category in relation to its number of employees (using your previous function) in a **dictionary**. Then add this dictionary to your list.\n",
        "\n",
        "In the end, your list will contain all the dictionaries of all the companies."
      ]
    },
    {
      "cell_type": "code",
      "metadata": {
        "id": "uvyBEc4Mgfiy",
        "colab": {
          "base_uri": "https://localhost:8080/"
        },
        "outputId": "206ecc98-f115-488f-bbca-f4abf730952f"
      },
      "source": [
        "from unicodedata import category\n",
        "microsoft_companies_clean = []\n",
        "\n",
        "# for each company in the list\n",
        "for company_info in microsoft_companies:\n",
        "  # set the main key from main list as a new list in order to faciliate find values :\n",
        "  fields = company_info['fields']\n",
        "\n",
        "  # get value from list fields\n",
        "  name = fields.get('name','')\n",
        "  industry = fields.get('industry', '')\n",
        "  domain = fields.get('domain0',None)\n",
        "  total_employees = fields.get('total_employee_estimate', 0)\n",
        "\n",
        "    # create new dictionnary with required infos\n",
        "\n",
        "  dict_company = {\n",
        "    'name': name,\n",
        "    'industry': industry,\n",
        "    'domain': domain,\n",
        "\n",
        "    # recall the function & set the default value with variable total_employees\n",
        "    'category': from_nb_employee_to_category(total_employees)\n",
        "\n",
        "    }\n",
        "\n",
        "  microsoft_companies_clean.append(dict_company)\n",
        "    # add dict_company to microsoft_companies_clean list\n",
        "\n",
        "\n",
        "microsoft_companies_clean[0]"
      ],
      "execution_count": 68,
      "outputs": [
        {
          "output_type": "execute_result",
          "data": {
            "text/plain": [
              "{'name': 'microsoft',\n",
              " 'industry': 'computer games',\n",
              " 'domain': 'https://www.develop-online.net',\n",
              " 'category': 'scaleup'}"
            ]
          },
          "metadata": {},
          "execution_count": 68
        }
      ]
    },
    {
      "cell_type": "code",
      "source": [
        "microsoft_companies_clean[4]"
      ],
      "metadata": {
        "colab": {
          "base_uri": "https://localhost:8080/"
        },
        "id": "hFfaXlskAPfb",
        "outputId": "bc2d595e-1cc7-482d-84fd-6523fbe7eaed"
      },
      "execution_count": 69,
      "outputs": [
        {
          "output_type": "execute_result",
          "data": {
            "text/plain": [
              "{'name': 'locatelli mcc - designing domotica (voip) solutions combined with microsoft lync services!',\n",
              " 'industry': 'information technology and services',\n",
              " 'domain': 'https://www.locatelli-mcc.com',\n",
              " 'category': 'small business'}"
            ]
          },
          "metadata": {},
          "execution_count": 69
        }
      ]
    },
    {
      "cell_type": "markdown",
      "metadata": {
        "id": "Sj21qz_Ngfi2"
      },
      "source": [
        "k) Use the code below to create a DataFrame from it."
      ]
    },
    {
      "cell_type": "code",
      "metadata": {
        "id": "OoQHcdsagfi2",
        "colab": {
          "base_uri": "https://localhost:8080/",
          "height": 424
        },
        "outputId": "fb2c6823-a794-4bcb-cb1b-32f06d319f04"
      },
      "source": [
        "import pandas as pd\n",
        "\n",
        "df_microsoft_companies_clean = pd.DataFrame(microsoft_companies_clean)\n",
        "df_microsoft_companies_clean\n"
      ],
      "execution_count": 65,
      "outputs": [
        {
          "output_type": "execute_result",
          "data": {
            "text/plain": [
              "                                                  name  \\\n",
              "0                                            microsoft   \n",
              "1                     omaha microsoft technology group   \n",
              "2                 microsoft alumni network ambassadors   \n",
              "3    scbn | microsoft certified professional - goog...   \n",
              "4    locatelli mcc - designing domotica (voip) solu...   \n",
              "..                                                 ...   \n",
              "296  pmx dynamics-business software for the real es...   \n",
              "297                             microsoft game studios   \n",
              "298                        microsoft alumni foundation   \n",
              "299  naveksa a/s - manufacturing solutions for micr...   \n",
              "300               f-keys ltd microsoft training centre   \n",
              "\n",
              "                                industry                           domain  \\\n",
              "0                         computer games   https://www.develop-online.net   \n",
              "1    information technology and services         https://www.omahamtg.com   \n",
              "2     non-profit organization management                     https://www.   \n",
              "3                               internet             https://www.scbn.biz   \n",
              "4    information technology and services    https://www.locatelli-mcc.com   \n",
              "..                                   ...                              ...   \n",
              "296  information technology and services      https://www.pmxdynamics.com   \n",
              "297                    computer software                     https://www.   \n",
              "298                         philanthropy  https://www.microsoftalumni.org   \n",
              "299                    computer software                     https://www.   \n",
              "300  information technology and services         https://www.f-keys.co.uk   \n",
              "\n",
              "           category  \n",
              "0           scaleup  \n",
              "1    small business  \n",
              "2    small business  \n",
              "3           startup  \n",
              "4    small business  \n",
              "..              ...  \n",
              "296         startup  \n",
              "297         startup  \n",
              "298         startup  \n",
              "299  small business  \n",
              "300         startup  \n",
              "\n",
              "[301 rows x 4 columns]"
            ],
            "text/html": [
              "\n",
              "\n",
              "  <div id=\"df-76ab586b-205f-4bfd-925f-8f3df14af004\">\n",
              "    <div class=\"colab-df-container\">\n",
              "      <div>\n",
              "<style scoped>\n",
              "    .dataframe tbody tr th:only-of-type {\n",
              "        vertical-align: middle;\n",
              "    }\n",
              "\n",
              "    .dataframe tbody tr th {\n",
              "        vertical-align: top;\n",
              "    }\n",
              "\n",
              "    .dataframe thead th {\n",
              "        text-align: right;\n",
              "    }\n",
              "</style>\n",
              "<table border=\"1\" class=\"dataframe\">\n",
              "  <thead>\n",
              "    <tr style=\"text-align: right;\">\n",
              "      <th></th>\n",
              "      <th>name</th>\n",
              "      <th>industry</th>\n",
              "      <th>domain</th>\n",
              "      <th>category</th>\n",
              "    </tr>\n",
              "  </thead>\n",
              "  <tbody>\n",
              "    <tr>\n",
              "      <th>0</th>\n",
              "      <td>microsoft</td>\n",
              "      <td>computer games</td>\n",
              "      <td>https://www.develop-online.net</td>\n",
              "      <td>scaleup</td>\n",
              "    </tr>\n",
              "    <tr>\n",
              "      <th>1</th>\n",
              "      <td>omaha microsoft technology group</td>\n",
              "      <td>information technology and services</td>\n",
              "      <td>https://www.omahamtg.com</td>\n",
              "      <td>small business</td>\n",
              "    </tr>\n",
              "    <tr>\n",
              "      <th>2</th>\n",
              "      <td>microsoft alumni network ambassadors</td>\n",
              "      <td>non-profit organization management</td>\n",
              "      <td>https://www.</td>\n",
              "      <td>small business</td>\n",
              "    </tr>\n",
              "    <tr>\n",
              "      <th>3</th>\n",
              "      <td>scbn | microsoft certified professional - goog...</td>\n",
              "      <td>internet</td>\n",
              "      <td>https://www.scbn.biz</td>\n",
              "      <td>startup</td>\n",
              "    </tr>\n",
              "    <tr>\n",
              "      <th>4</th>\n",
              "      <td>locatelli mcc - designing domotica (voip) solu...</td>\n",
              "      <td>information technology and services</td>\n",
              "      <td>https://www.locatelli-mcc.com</td>\n",
              "      <td>small business</td>\n",
              "    </tr>\n",
              "    <tr>\n",
              "      <th>...</th>\n",
              "      <td>...</td>\n",
              "      <td>...</td>\n",
              "      <td>...</td>\n",
              "      <td>...</td>\n",
              "    </tr>\n",
              "    <tr>\n",
              "      <th>296</th>\n",
              "      <td>pmx dynamics-business software for the real es...</td>\n",
              "      <td>information technology and services</td>\n",
              "      <td>https://www.pmxdynamics.com</td>\n",
              "      <td>startup</td>\n",
              "    </tr>\n",
              "    <tr>\n",
              "      <th>297</th>\n",
              "      <td>microsoft game studios</td>\n",
              "      <td>computer software</td>\n",
              "      <td>https://www.</td>\n",
              "      <td>startup</td>\n",
              "    </tr>\n",
              "    <tr>\n",
              "      <th>298</th>\n",
              "      <td>microsoft alumni foundation</td>\n",
              "      <td>philanthropy</td>\n",
              "      <td>https://www.microsoftalumni.org</td>\n",
              "      <td>startup</td>\n",
              "    </tr>\n",
              "    <tr>\n",
              "      <th>299</th>\n",
              "      <td>naveksa a/s - manufacturing solutions for micr...</td>\n",
              "      <td>computer software</td>\n",
              "      <td>https://www.</td>\n",
              "      <td>small business</td>\n",
              "    </tr>\n",
              "    <tr>\n",
              "      <th>300</th>\n",
              "      <td>f-keys ltd microsoft training centre</td>\n",
              "      <td>information technology and services</td>\n",
              "      <td>https://www.f-keys.co.uk</td>\n",
              "      <td>startup</td>\n",
              "    </tr>\n",
              "  </tbody>\n",
              "</table>\n",
              "<p>301 rows × 4 columns</p>\n",
              "</div>\n",
              "      <button class=\"colab-df-convert\" onclick=\"convertToInteractive('df-76ab586b-205f-4bfd-925f-8f3df14af004')\"\n",
              "              title=\"Convert this dataframe to an interactive table.\"\n",
              "              style=\"display:none;\">\n",
              "\n",
              "  <svg xmlns=\"http://www.w3.org/2000/svg\" height=\"24px\"viewBox=\"0 0 24 24\"\n",
              "       width=\"24px\">\n",
              "    <path d=\"M0 0h24v24H0V0z\" fill=\"none\"/>\n",
              "    <path d=\"M18.56 5.44l.94 2.06.94-2.06 2.06-.94-2.06-.94-.94-2.06-.94 2.06-2.06.94zm-11 1L8.5 8.5l.94-2.06 2.06-.94-2.06-.94L8.5 2.5l-.94 2.06-2.06.94zm10 10l.94 2.06.94-2.06 2.06-.94-2.06-.94-.94-2.06-.94 2.06-2.06.94z\"/><path d=\"M17.41 7.96l-1.37-1.37c-.4-.4-.92-.59-1.43-.59-.52 0-1.04.2-1.43.59L10.3 9.45l-7.72 7.72c-.78.78-.78 2.05 0 2.83L4 21.41c.39.39.9.59 1.41.59.51 0 1.02-.2 1.41-.59l7.78-7.78 2.81-2.81c.8-.78.8-2.07 0-2.86zM5.41 20L4 18.59l7.72-7.72 1.47 1.35L5.41 20z\"/>\n",
              "  </svg>\n",
              "      </button>\n",
              "\n",
              "\n",
              "\n",
              "    <div id=\"df-7ac12063-e8de-4fc8-b0ba-9d771b457aae\">\n",
              "      <button class=\"colab-df-quickchart\" onclick=\"quickchart('df-7ac12063-e8de-4fc8-b0ba-9d771b457aae')\"\n",
              "              title=\"Suggest charts.\"\n",
              "              style=\"display:none;\">\n",
              "\n",
              "<svg xmlns=\"http://www.w3.org/2000/svg\" height=\"24px\"viewBox=\"0 0 24 24\"\n",
              "     width=\"24px\">\n",
              "    <g>\n",
              "        <path d=\"M19 3H5c-1.1 0-2 .9-2 2v14c0 1.1.9 2 2 2h14c1.1 0 2-.9 2-2V5c0-1.1-.9-2-2-2zM9 17H7v-7h2v7zm4 0h-2V7h2v10zm4 0h-2v-4h2v4z\"/>\n",
              "    </g>\n",
              "</svg>\n",
              "      </button>\n",
              "    </div>\n",
              "\n",
              "<style>\n",
              "  .colab-df-quickchart {\n",
              "    background-color: #E8F0FE;\n",
              "    border: none;\n",
              "    border-radius: 50%;\n",
              "    cursor: pointer;\n",
              "    display: none;\n",
              "    fill: #1967D2;\n",
              "    height: 32px;\n",
              "    padding: 0 0 0 0;\n",
              "    width: 32px;\n",
              "  }\n",
              "\n",
              "  .colab-df-quickchart:hover {\n",
              "    background-color: #E2EBFA;\n",
              "    box-shadow: 0px 1px 2px rgba(60, 64, 67, 0.3), 0px 1px 3px 1px rgba(60, 64, 67, 0.15);\n",
              "    fill: #174EA6;\n",
              "  }\n",
              "\n",
              "  [theme=dark] .colab-df-quickchart {\n",
              "    background-color: #3B4455;\n",
              "    fill: #D2E3FC;\n",
              "  }\n",
              "\n",
              "  [theme=dark] .colab-df-quickchart:hover {\n",
              "    background-color: #434B5C;\n",
              "    box-shadow: 0px 1px 3px 1px rgba(0, 0, 0, 0.15);\n",
              "    filter: drop-shadow(0px 1px 2px rgba(0, 0, 0, 0.3));\n",
              "    fill: #FFFFFF;\n",
              "  }\n",
              "</style>\n",
              "\n",
              "    <script>\n",
              "      async function quickchart(key) {\n",
              "        const containerElement = document.querySelector('#' + key);\n",
              "        const charts = await google.colab.kernel.invokeFunction(\n",
              "            'suggestCharts', [key], {});\n",
              "      }\n",
              "    </script>\n",
              "\n",
              "      <script>\n",
              "\n",
              "function displayQuickchartButton(domScope) {\n",
              "  let quickchartButtonEl =\n",
              "    domScope.querySelector('#df-7ac12063-e8de-4fc8-b0ba-9d771b457aae button.colab-df-quickchart');\n",
              "  quickchartButtonEl.style.display =\n",
              "    google.colab.kernel.accessAllowed ? 'block' : 'none';\n",
              "}\n",
              "\n",
              "        displayQuickchartButton(document);\n",
              "      </script>\n",
              "      <style>\n",
              "    .colab-df-container {\n",
              "      display:flex;\n",
              "      flex-wrap:wrap;\n",
              "      gap: 12px;\n",
              "    }\n",
              "\n",
              "    .colab-df-convert {\n",
              "      background-color: #E8F0FE;\n",
              "      border: none;\n",
              "      border-radius: 50%;\n",
              "      cursor: pointer;\n",
              "      display: none;\n",
              "      fill: #1967D2;\n",
              "      height: 32px;\n",
              "      padding: 0 0 0 0;\n",
              "      width: 32px;\n",
              "    }\n",
              "\n",
              "    .colab-df-convert:hover {\n",
              "      background-color: #E2EBFA;\n",
              "      box-shadow: 0px 1px 2px rgba(60, 64, 67, 0.3), 0px 1px 3px 1px rgba(60, 64, 67, 0.15);\n",
              "      fill: #174EA6;\n",
              "    }\n",
              "\n",
              "    [theme=dark] .colab-df-convert {\n",
              "      background-color: #3B4455;\n",
              "      fill: #D2E3FC;\n",
              "    }\n",
              "\n",
              "    [theme=dark] .colab-df-convert:hover {\n",
              "      background-color: #434B5C;\n",
              "      box-shadow: 0px 1px 3px 1px rgba(0, 0, 0, 0.15);\n",
              "      filter: drop-shadow(0px 1px 2px rgba(0, 0, 0, 0.3));\n",
              "      fill: #FFFFFF;\n",
              "    }\n",
              "  </style>\n",
              "\n",
              "      <script>\n",
              "        const buttonEl =\n",
              "          document.querySelector('#df-76ab586b-205f-4bfd-925f-8f3df14af004 button.colab-df-convert');\n",
              "        buttonEl.style.display =\n",
              "          google.colab.kernel.accessAllowed ? 'block' : 'none';\n",
              "\n",
              "        async function convertToInteractive(key) {\n",
              "          const element = document.querySelector('#df-76ab586b-205f-4bfd-925f-8f3df14af004');\n",
              "          const dataTable =\n",
              "            await google.colab.kernel.invokeFunction('convertToInteractive',\n",
              "                                                     [key], {});\n",
              "          if (!dataTable) return;\n",
              "\n",
              "          const docLinkHtml = 'Like what you see? Visit the ' +\n",
              "            '<a target=\"_blank\" href=https://colab.research.google.com/notebooks/data_table.ipynb>data table notebook</a>'\n",
              "            + ' to learn more about interactive tables.';\n",
              "          element.innerHTML = '';\n",
              "          dataTable['output_type'] = 'display_data';\n",
              "          await google.colab.output.renderOutput(dataTable, element);\n",
              "          const docLink = document.createElement('div');\n",
              "          docLink.innerHTML = docLinkHtml;\n",
              "          element.appendChild(docLink);\n",
              "        }\n",
              "      </script>\n",
              "    </div>\n",
              "  </div>\n"
            ]
          },
          "metadata": {},
          "execution_count": 65
        }
      ]
    },
    {
      "cell_type": "markdown",
      "metadata": {
        "id": "ubSWlCXKgfi5"
      },
      "source": [
        "Congratulations! This is your first DataFrame."
      ]
    },
    {
      "cell_type": "markdown",
      "source": [
        "l) What do you notice about domains column ?\n",
        "\n",
        "When no domain has been found API outputs \"https://www.\".\n",
        "\n",
        "This piece of information is not relevant to other teams. Change your code to delete that.\n",
        "\n",
        "One way to do so is to not store this key/value pair when iterating over all companies."
      ],
      "metadata": {
        "id": "uf46hSSFN-Rb"
      }
    },
    {
      "cell_type": "code",
      "source": [
        "microsoft_companies_clean = []\n",
        "\n",
        "# for each company in the list\n",
        "for company_info in microsoft_companies:\n",
        "    fields = company_info['fields']\n",
        "    name = fields.get('name','')\n",
        "    industry = fields.get('industry', '')\n",
        "    domain = fields.get('domain0',None)\n",
        "    total_employees = fields.get('total_employee_estimate', 0)\n",
        "\n",
        "\n",
        " # test domain and add the key to dictionnary if needed\n",
        "    # check domain values to avoid invalid values like :\n",
        "    if domain == 'https://www.':\n",
        "      domain = None\n",
        "\n",
        "    # create new dictionnary\n",
        "    dic_company = {\n",
        "    'name': name,\n",
        "    'industry': industry,\n",
        "    'domain': domain,\n",
        "    'category': from_nb_employee_to_category(total_employees)\n",
        "    }\n",
        "\n",
        "    # add dictionary result to microsoft_companies_clean list\n",
        "    microsoft_companies_clean.append(dic_company)\n",
        "\n",
        "\n",
        "df_microsoft_companies_clean = pd.DataFrame(microsoft_companies_clean)\n",
        "df_microsoft_companies_clean"
      ],
      "metadata": {
        "colab": {
          "base_uri": "https://localhost:8080/",
          "height": 1096
        },
        "id": "y9uoaNcTO-GV",
        "outputId": "ee7d08c8-6cad-44e0-d257-4db204015298"
      },
      "execution_count": 80,
      "outputs": [
        {
          "output_type": "execute_result",
          "data": {
            "text/plain": [
              "                                                  name  \\\n",
              "0                                            microsoft   \n",
              "1                     omaha microsoft technology group   \n",
              "2                 microsoft alumni network ambassadors   \n",
              "3    scbn | microsoft certified professional - goog...   \n",
              "4    locatelli mcc - designing domotica (voip) solu...   \n",
              "..                                                 ...   \n",
              "296  pmx dynamics-business software for the real es...   \n",
              "297                             microsoft game studios   \n",
              "298                        microsoft alumni foundation   \n",
              "299  naveksa a/s - manufacturing solutions for micr...   \n",
              "300               f-keys ltd microsoft training centre   \n",
              "\n",
              "                                industry                           domain  \\\n",
              "0                         computer games   https://www.develop-online.net   \n",
              "1    information technology and services         https://www.omahamtg.com   \n",
              "2     non-profit organization management                             None   \n",
              "3                               internet             https://www.scbn.biz   \n",
              "4    information technology and services    https://www.locatelli-mcc.com   \n",
              "..                                   ...                              ...   \n",
              "296  information technology and services      https://www.pmxdynamics.com   \n",
              "297                    computer software                             None   \n",
              "298                         philanthropy  https://www.microsoftalumni.org   \n",
              "299                    computer software                             None   \n",
              "300  information technology and services         https://www.f-keys.co.uk   \n",
              "\n",
              "           category  \n",
              "0           scaleup  \n",
              "1    small business  \n",
              "2    small business  \n",
              "3           startup  \n",
              "4    small business  \n",
              "..              ...  \n",
              "296         startup  \n",
              "297         startup  \n",
              "298         startup  \n",
              "299  small business  \n",
              "300         startup  \n",
              "\n",
              "[301 rows x 4 columns]"
            ],
            "text/html": [
              "\n",
              "\n",
              "  <div id=\"df-a55512b3-5fcc-4aba-93a2-ce9dac9162ff\">\n",
              "    <div class=\"colab-df-container\">\n",
              "      <div>\n",
              "<style scoped>\n",
              "    .dataframe tbody tr th:only-of-type {\n",
              "        vertical-align: middle;\n",
              "    }\n",
              "\n",
              "    .dataframe tbody tr th {\n",
              "        vertical-align: top;\n",
              "    }\n",
              "\n",
              "    .dataframe thead th {\n",
              "        text-align: right;\n",
              "    }\n",
              "</style>\n",
              "<table border=\"1\" class=\"dataframe\">\n",
              "  <thead>\n",
              "    <tr style=\"text-align: right;\">\n",
              "      <th></th>\n",
              "      <th>name</th>\n",
              "      <th>industry</th>\n",
              "      <th>domain</th>\n",
              "      <th>category</th>\n",
              "    </tr>\n",
              "  </thead>\n",
              "  <tbody>\n",
              "    <tr>\n",
              "      <th>0</th>\n",
              "      <td>microsoft</td>\n",
              "      <td>computer games</td>\n",
              "      <td>https://www.develop-online.net</td>\n",
              "      <td>scaleup</td>\n",
              "    </tr>\n",
              "    <tr>\n",
              "      <th>1</th>\n",
              "      <td>omaha microsoft technology group</td>\n",
              "      <td>information technology and services</td>\n",
              "      <td>https://www.omahamtg.com</td>\n",
              "      <td>small business</td>\n",
              "    </tr>\n",
              "    <tr>\n",
              "      <th>2</th>\n",
              "      <td>microsoft alumni network ambassadors</td>\n",
              "      <td>non-profit organization management</td>\n",
              "      <td>None</td>\n",
              "      <td>small business</td>\n",
              "    </tr>\n",
              "    <tr>\n",
              "      <th>3</th>\n",
              "      <td>scbn | microsoft certified professional - goog...</td>\n",
              "      <td>internet</td>\n",
              "      <td>https://www.scbn.biz</td>\n",
              "      <td>startup</td>\n",
              "    </tr>\n",
              "    <tr>\n",
              "      <th>4</th>\n",
              "      <td>locatelli mcc - designing domotica (voip) solu...</td>\n",
              "      <td>information technology and services</td>\n",
              "      <td>https://www.locatelli-mcc.com</td>\n",
              "      <td>small business</td>\n",
              "    </tr>\n",
              "    <tr>\n",
              "      <th>...</th>\n",
              "      <td>...</td>\n",
              "      <td>...</td>\n",
              "      <td>...</td>\n",
              "      <td>...</td>\n",
              "    </tr>\n",
              "    <tr>\n",
              "      <th>296</th>\n",
              "      <td>pmx dynamics-business software for the real es...</td>\n",
              "      <td>information technology and services</td>\n",
              "      <td>https://www.pmxdynamics.com</td>\n",
              "      <td>startup</td>\n",
              "    </tr>\n",
              "    <tr>\n",
              "      <th>297</th>\n",
              "      <td>microsoft game studios</td>\n",
              "      <td>computer software</td>\n",
              "      <td>None</td>\n",
              "      <td>startup</td>\n",
              "    </tr>\n",
              "    <tr>\n",
              "      <th>298</th>\n",
              "      <td>microsoft alumni foundation</td>\n",
              "      <td>philanthropy</td>\n",
              "      <td>https://www.microsoftalumni.org</td>\n",
              "      <td>startup</td>\n",
              "    </tr>\n",
              "    <tr>\n",
              "      <th>299</th>\n",
              "      <td>naveksa a/s - manufacturing solutions for micr...</td>\n",
              "      <td>computer software</td>\n",
              "      <td>None</td>\n",
              "      <td>small business</td>\n",
              "    </tr>\n",
              "    <tr>\n",
              "      <th>300</th>\n",
              "      <td>f-keys ltd microsoft training centre</td>\n",
              "      <td>information technology and services</td>\n",
              "      <td>https://www.f-keys.co.uk</td>\n",
              "      <td>startup</td>\n",
              "    </tr>\n",
              "  </tbody>\n",
              "</table>\n",
              "<p>301 rows × 4 columns</p>\n",
              "</div>\n",
              "      <button class=\"colab-df-convert\" onclick=\"convertToInteractive('df-a55512b3-5fcc-4aba-93a2-ce9dac9162ff')\"\n",
              "              title=\"Convert this dataframe to an interactive table.\"\n",
              "              style=\"display:none;\">\n",
              "\n",
              "  <svg xmlns=\"http://www.w3.org/2000/svg\" height=\"24px\"viewBox=\"0 0 24 24\"\n",
              "       width=\"24px\">\n",
              "    <path d=\"M0 0h24v24H0V0z\" fill=\"none\"/>\n",
              "    <path d=\"M18.56 5.44l.94 2.06.94-2.06 2.06-.94-2.06-.94-.94-2.06-.94 2.06-2.06.94zm-11 1L8.5 8.5l.94-2.06 2.06-.94-2.06-.94L8.5 2.5l-.94 2.06-2.06.94zm10 10l.94 2.06.94-2.06 2.06-.94-2.06-.94-.94-2.06-.94 2.06-2.06.94z\"/><path d=\"M17.41 7.96l-1.37-1.37c-.4-.4-.92-.59-1.43-.59-.52 0-1.04.2-1.43.59L10.3 9.45l-7.72 7.72c-.78.78-.78 2.05 0 2.83L4 21.41c.39.39.9.59 1.41.59.51 0 1.02-.2 1.41-.59l7.78-7.78 2.81-2.81c.8-.78.8-2.07 0-2.86zM5.41 20L4 18.59l7.72-7.72 1.47 1.35L5.41 20z\"/>\n",
              "  </svg>\n",
              "      </button>\n",
              "\n",
              "\n",
              "\n",
              "    <div id=\"df-1b0b2b94-6467-4a8d-874d-f8e510349552\">\n",
              "      <button class=\"colab-df-quickchart\" onclick=\"quickchart('df-1b0b2b94-6467-4a8d-874d-f8e510349552')\"\n",
              "              title=\"Suggest charts.\"\n",
              "              style=\"display:none;\">\n",
              "\n",
              "<svg xmlns=\"http://www.w3.org/2000/svg\" height=\"24px\"viewBox=\"0 0 24 24\"\n",
              "     width=\"24px\">\n",
              "    <g>\n",
              "        <path d=\"M19 3H5c-1.1 0-2 .9-2 2v14c0 1.1.9 2 2 2h14c1.1 0 2-.9 2-2V5c0-1.1-.9-2-2-2zM9 17H7v-7h2v7zm4 0h-2V7h2v10zm4 0h-2v-4h2v4z\"/>\n",
              "    </g>\n",
              "</svg>\n",
              "      </button>\n",
              "    </div>\n",
              "\n",
              "<style>\n",
              "  .colab-df-quickchart {\n",
              "    background-color: #E8F0FE;\n",
              "    border: none;\n",
              "    border-radius: 50%;\n",
              "    cursor: pointer;\n",
              "    display: none;\n",
              "    fill: #1967D2;\n",
              "    height: 32px;\n",
              "    padding: 0 0 0 0;\n",
              "    width: 32px;\n",
              "  }\n",
              "\n",
              "  .colab-df-quickchart:hover {\n",
              "    background-color: #E2EBFA;\n",
              "    box-shadow: 0px 1px 2px rgba(60, 64, 67, 0.3), 0px 1px 3px 1px rgba(60, 64, 67, 0.15);\n",
              "    fill: #174EA6;\n",
              "  }\n",
              "\n",
              "  [theme=dark] .colab-df-quickchart {\n",
              "    background-color: #3B4455;\n",
              "    fill: #D2E3FC;\n",
              "  }\n",
              "\n",
              "  [theme=dark] .colab-df-quickchart:hover {\n",
              "    background-color: #434B5C;\n",
              "    box-shadow: 0px 1px 3px 1px rgba(0, 0, 0, 0.15);\n",
              "    filter: drop-shadow(0px 1px 2px rgba(0, 0, 0, 0.3));\n",
              "    fill: #FFFFFF;\n",
              "  }\n",
              "</style>\n",
              "\n",
              "    <script>\n",
              "      async function quickchart(key) {\n",
              "        const containerElement = document.querySelector('#' + key);\n",
              "        const charts = await google.colab.kernel.invokeFunction(\n",
              "            'suggestCharts', [key], {});\n",
              "      }\n",
              "    </script>\n",
              "\n",
              "      <script>\n",
              "\n",
              "function displayQuickchartButton(domScope) {\n",
              "  let quickchartButtonEl =\n",
              "    domScope.querySelector('#df-1b0b2b94-6467-4a8d-874d-f8e510349552 button.colab-df-quickchart');\n",
              "  quickchartButtonEl.style.display =\n",
              "    google.colab.kernel.accessAllowed ? 'block' : 'none';\n",
              "}\n",
              "\n",
              "        displayQuickchartButton(document);\n",
              "      </script>\n",
              "      <style>\n",
              "    .colab-df-container {\n",
              "      display:flex;\n",
              "      flex-wrap:wrap;\n",
              "      gap: 12px;\n",
              "    }\n",
              "\n",
              "    .colab-df-convert {\n",
              "      background-color: #E8F0FE;\n",
              "      border: none;\n",
              "      border-radius: 50%;\n",
              "      cursor: pointer;\n",
              "      display: none;\n",
              "      fill: #1967D2;\n",
              "      height: 32px;\n",
              "      padding: 0 0 0 0;\n",
              "      width: 32px;\n",
              "    }\n",
              "\n",
              "    .colab-df-convert:hover {\n",
              "      background-color: #E2EBFA;\n",
              "      box-shadow: 0px 1px 2px rgba(60, 64, 67, 0.3), 0px 1px 3px 1px rgba(60, 64, 67, 0.15);\n",
              "      fill: #174EA6;\n",
              "    }\n",
              "\n",
              "    [theme=dark] .colab-df-convert {\n",
              "      background-color: #3B4455;\n",
              "      fill: #D2E3FC;\n",
              "    }\n",
              "\n",
              "    [theme=dark] .colab-df-convert:hover {\n",
              "      background-color: #434B5C;\n",
              "      box-shadow: 0px 1px 3px 1px rgba(0, 0, 0, 0.15);\n",
              "      filter: drop-shadow(0px 1px 2px rgba(0, 0, 0, 0.3));\n",
              "      fill: #FFFFFF;\n",
              "    }\n",
              "  </style>\n",
              "\n",
              "      <script>\n",
              "        const buttonEl =\n",
              "          document.querySelector('#df-a55512b3-5fcc-4aba-93a2-ce9dac9162ff button.colab-df-convert');\n",
              "        buttonEl.style.display =\n",
              "          google.colab.kernel.accessAllowed ? 'block' : 'none';\n",
              "\n",
              "        async function convertToInteractive(key) {\n",
              "          const element = document.querySelector('#df-a55512b3-5fcc-4aba-93a2-ce9dac9162ff');\n",
              "          const dataTable =\n",
              "            await google.colab.kernel.invokeFunction('convertToInteractive',\n",
              "                                                     [key], {});\n",
              "          if (!dataTable) return;\n",
              "\n",
              "          const docLinkHtml = 'Like what you see? Visit the ' +\n",
              "            '<a target=\"_blank\" href=https://colab.research.google.com/notebooks/data_table.ipynb>data table notebook</a>'\n",
              "            + ' to learn more about interactive tables.';\n",
              "          element.innerHTML = '';\n",
              "          dataTable['output_type'] = 'display_data';\n",
              "          await google.colab.output.renderOutput(dataTable, element);\n",
              "          const docLink = document.createElement('div');\n",
              "          docLink.innerHTML = docLinkHtml;\n",
              "          element.appendChild(docLink);\n",
              "        }\n",
              "      </script>\n",
              "    </div>\n",
              "  </div>\n"
            ]
          },
          "metadata": {},
          "execution_count": 80
        },
        {
          "output_type": "display_data",
          "data": {
            "text/plain": [
              "<google.colab._quickchart_helpers.SectionTitle at 0x7ef03f033b80>"
            ],
            "text/html": [
              "<h4 class=\"colab-quickchart-section-title\">Categorical distributions</h4>\n",
              "<style>\n",
              "  .colab-quickchart-section-title {\n",
              "      clear: both;\n",
              "  }\n",
              "</style>"
            ]
          },
          "metadata": {}
        },
        {
          "output_type": "display_data",
          "data": {
            "text/plain": [
              "import numpy as np\n",
              "from google.colab import autoviz\n",
              "\n",
              "def categorical_histogram(df, colname, figscale=1, mpl_palette_name='Dark2'):\n",
              "  from matplotlib import pyplot as plt\n",
              "  import seaborn as sns\n",
              "  df.groupby(colname).size().plot(kind='barh', color=sns.palettes.mpl_palette(mpl_palette_name), figsize=(8*figscale, 4.8*figscale))\n",
              "  plt.gca().spines[['top', 'right',]].set_visible(False)\n",
              "  return autoviz.MplChart.from_current_mpl_state()\n",
              "\n",
              "chart = categorical_histogram(df_microsoft_companies_clean, *['category'], **{})\n",
              "chart"
            ],
            "text/html": [
              "      <div class=\"colab-quickchart-chart-with-code\" id=\"chart-916bed82-29e3-4a8c-ae99-74745b36a868\">\n",
              "        <img src=\"data:image/png;base64,iVBORw0KGgoAAAANSUhEUgAAATwAAACECAYAAAAN65eqAAAAOXRFWHRTb2Z0d2FyZQBNYXRwbG90\n",
              "bGliIHZlcnNpb24zLjcuMSwgaHR0cHM6Ly9tYXRwbG90bGliLm9yZy/bCgiHAAAACXBIWXMAAA9h\n",
              "AAAPYQGoP6dpAAAeBklEQVR4nO3de1RU9fo/8PfAeJeLJikqylEuysDM5iqiIAIB6TdSI/WYt1SU\n",
              "yNKllFpxME+lKQsvsVJPdjDBUetkuFqWnVRADT3oOZCQqEBcNNSUm4QiM/D8/uDHXiIDOjIDQ/O8\n",
              "1pq1nGHPZ7/3Fh8/e8+eZ0uIiMAYY0bApKsDMMZYZ+GCxxgzGlzwGGNGgwseY8xocMFjjBkNLniM\n",
              "MaPBBY8xZjS44DHGjAYXPMaY0eCCx/Rq+/btXR2BMREXPKZXJSUlXR2BMREXPMaY0eCCxxgzGlzw\n",
              "mF4dv7ynqyMwJvrTFDx/f3+kpKR0dYxuo6ysDL6+vl0dg7FOZbAFr7GxEY2NjXpdh1qt1uv4hmzo\n",
              "0KE4ffp0V8dgrFPppeB9+OGHWL58ufj8jz/+wMCBA3H79m0AQFxcHLy8vODm5obQ0FDxk7z169fj\n",
              "pZdeQkhICJydnZGUlITg4GBxnIaGBowcORKXLl1qd/1KpRLjxo2Dq6srFAoFvv32W/Fn/v7+ePPN\n",
              "NzF+/HgEBwdDpVIhKioKDg4O8Pb2xurVq+Hv7y8un5SUhHHjxsHNzQ1+fn74+eefNa4zLy8PISEh\n",
              "kMvlkMvl2LVrFwCgoKAAQUFBkMvlEAShxSxUIpHgww8/xLhx42Bra4uUlBRs3LgRHh4esLe3R1pa\n",
              "GgCguLgYlpaWiI6Ohlwuh0wmw/HjxwE0Fe2QkBB4eHhAJpNhzpw5qK2tBQCkpaXB2dkZUVFRUCgU\n",
              "kMlkuHDhQosxm50/fx4BAQHw8PCAq6srvvrqKwDA7du3ERwcDBcXF8jlcrz66qvt7nvGDBrpQWlp\n",
              "KVlZWVFdXR0REf3zn/+kGTNmEBHR/v37acmSJaRWq4mIaN++fTRlyhQiIoqNjSVra2u6efMmERGp\n",
              "1WoaOXIkXb58mYiIDh8+TAEBARrXOWnSJPrmm2+IiOjOnTvU2NhIRERFRUU0ePBgMcukSZMoJCSE\n",
              "6uvriYgoISGBgoKCqL6+nurr6ykoKIgmTZpERERnzpyh559/XnzvqVOnyMnJqdW6VSoV2dvbk1Kp\n",
              "FF+7ffs2ERF5eXnRrl27iIjo6tWrNHDgQCouLiYiIgC0bds2IiI6fvw49evXjxITE4mI6MsvvyQP\n",
              "Dw9xGwDQnj17iIjo7NmzZGVlRXfv3qXGxka6c+cOERE1NjZSZGQkbdy4kYiIUlNTydTUlM6dO0dE\n",
              "RDt37qTg4GBxTAsLCyIiqqysJEEQqKysTMxuY2ND169fp/j4eFq6dKm4XeXl5Rr3PxFRXV0dVVdX\n",
              "t3jIQvq3uTxjnU0vBY+IKDg4mL788ksiIvLz86Nvv/2WiIhefvllsrW1JYVCQQqFgpydncnZ2ZmI\n",
              "mgre4sWLW4zz8ccf0xtvvEFERIGBgXT48GGN63u44J0/f55CQkJIJpORQqGgHj16UF5enrhcUlKS\n",
              "+L7p06fT3r17xedJSUliwXvrrbdo6NChYlaFQkFDhgyhe/futVh3bm4u2djYtMp09+5dkkqlpFKp\n",
              "xNfCwsLE9QOgGzduEBFRVVUVAaD79+8TEVFxcbFYkIqKikgqlYr/SRARKRQKSk9Pp4aGBnr33XdJ\n",
              "EARydnYmGxsbmjVrFhE1FTxHR0fxPdnZ2TR69GhxzObxjx49Subm5i2208bGhk6cOEEZGRlkY2ND\n",
              "q1atopSUFLH4axIbG0sAWjyetevZ5vKMdTapvmaOixYtQmJiItzd3VFQUIDQ0NDmGSXWrVuHpUuX\n",
              "anxf//79WzyPiIiAk5MT5s+fj4KCAoSFhT123bNnz8amTZsQHh4OABg4cCDq6uraXMfDJBKJ+Gci\n",
              "woIFC/DRRx89dp1P6uHxAaB3794AAFNT01bPH3eOUSKRQKlU4uTJk0hPT4e5uTl27NiBkydPthq/\n",
              "vTGJCDKZDBkZGRrXk52djePHj+Pw4cOIiYlBVlaWmPdh69atw6pVq1q85jNzWLvbwFhn0tuHFtOm\n",
              "TcP58+exceNGzJ07F1KpVHx9165dqKioAACoVCpkZWW1Oc6AAQPw4osvYvr06Vi2bJnGf2iPqqys\n",
              "xF/+8hcAQHJyMiorK9tcNiAgAEqlEiqVCiqVCvv27RN/FhYWhuTkZJSWlgJo+iCl+RzYwxwdHdG3\n",
              "b18cOHBAfO3OnTswMzODm5sbEhMTATSdzztz5gz8/Pweuw2PUqvVSEpKAgBkZmairKwMgiCgsrIS\n",
              "gwYNgrm5OWpqarB3716tx/bx8UFRUZF4XhBoKnL19fUoKipC//79MXPmTHzyySe4evUq/vjjD43j\n",
              "9OrVC+bm5i0eJiYSjcsy1hX0NsPr1asXZs6ciU8//RR5eXni66+88grKy8sxefJkAE3/kBctWgRX\n",
              "V9c2x4qIiMDevXsRERHxROvevn07wsPDYWlpiYCAAIwYMaLNZZctW4acnBw4OTlhwIAB8PDwQFlZ\n",
              "GQDA19cXmzdvxvTp06FWq1FfX4+pU6fCw8OjxRhSqRRHjhzBG2+8gY8++ggmJiaIiorCsmXLsH//\n",
              "fkRGRiIhIQESiQR79uxpN09bLCwskJubC4VCAbVaDaVSCTMzM8yfPx9HjhyBo6MjrKys4Ovrq/XX\n",
              "uQYMGICjR48iOjoaq1evhkqlwogRI5CSkoK0tDTEx8eLs8MtW7bAwsJC6/yMGQIJkeHfpjEuLg55\n",
              "eXn4/PPP9TJ+TU0NzMzMoFKp8Morr8Dd3R1r1qzRy7qeRnFxMQRBQFVVVVdH0Zp8ijkufne3q2Mw\n",
              "BkCPMzxdkclkkEgkOHbsmN7WERQUhAcPHqCurg4TJ07Em2++qbd1GZugMUu6OgJjIoMveL/88ove\n",
              "1/Gf//xH7+voCFtb2245u2PM0BjsNy0YY0zXuOAxxowGFzzGmNHggscYMxpc8BhjRoMLHmPMaHDB\n",
              "Y4wZDYO/Do91b7VfXMDNY1u6Ogb7/4ZcequrI3QprWd43t7e4pftWecqLi4WG4s+jezsbBw8eFCH\n",
              "iRjrXrQueBs2bMCXX34JW1tbxMTE4LffftNHLqZBRwqeWq3mgseMntYFLzg4GCkpKTh79iwaGhrg\n",
              "6emJl19+GT/99JM+8hmt+/fvY9asWXBycoJCoUBwcDAiIyNx5coVCIIg9gWMjo6Gp6cnBEGAn58f\n",
              "rly5Io4hkUgQGxsLT09PRERE4G9/+xtSU1MhCAIiIyPFZR7+2tqgQYNQXFwMoOkrbW+99Rbc3d1h\n",
              "Z2eHLVv40JR1b099Dq+yshK3bt2CiYkJrK2tsXz5ckyYMAEJCQm6zGe0jh07hqqqKvH+HRUVFbh4\n",
              "8SJWrlyJ7Oxscbk1a9YgLi4OAHDw4EGsWLGiRaMFU1NTnD9/HgCwd+9epKSkaHV3t1u3buHChQso\n",
              "Ly+Hm5sbJkyYAB8fH43LPnjwAA8ePGjxWgPp90ZMjGlD6xnegQMHMGHCBMydOxfe3t7Iz8/Hjh07\n",
              "cOHCBRw9elQfGY2SQqFAXl4eoqKicOjQIfTo0UPjcj/++CPGjx8PZ2dnbNiwoUUxBJo6T3fE4sWL\n",
              "IZFIMGjQIMyYMaNFk9BHbdy4ERYWFi0e2fevdWj9jOmS1gVPqVTi/fffR05ODiIiItCnTx8ATTOJ\n",
              "HTt26DygsRo1ahQuXbqE0NBQ/PTTT3B2dm7Vubm0tBTLly9HcnIycnNzcfDgwRat7IH229kDTX9v\n",
              "DQ0N4vNH3/+oR1vUP2zdunWorq5u8RD62LQ7HmOdSauC19DQAEtLSwQFBWn8+QsvvKCTUAy4fv06\n",
              "JBIJwsLCEBcXByLCM888g+rqanGZ6upq9OjRA9bW1iCix55OMDc3b/F+ALCzsxPbYx0+fFi8xWOz\n",
              "5pbxFRUV+OabbxAYGNjm+JpavJtK+FJPZji0+m00NTXF1atX9ZWFPSQnJwcTJkyAQqGAq6sr5s2b\n",
              "Bx8fH8hkMjg7OyMsLAwuLi6YPXs2ZDIZPD09H9s6PjAwEA8ePIBcLhc/tNi6dStWrFgBNzc3ZGVl\n",
              "4ZlnnmnxHisrK7i7u8PLywvLly9v8/wdY92B1i3e165di4qKCixcuLDF4ZJcLtd5ONa1mm8OLgjC\n",
              "U4+xatUqxMfH6y4UYx2g9ae0hw4dAtB0sryZRCLBr7/+qrtUjDGmB1oXvKKiIn3kYAao+Xo8xv4s\n",
              "nuo6vMzMTPHyhODg4Fa3LWSMMUOk9Udo//jHPxAeHo7ff/8dt2/fxksvvYQ9e/boIxtjjOmU1jO8\n",
              "hIQE/Pe//4WVlRUA4J133kFgYCCWLOHb8THGDNtTXSTVXOwe/TNjjBkyrQuevb093n33XZSWlqK0\n",
              "tBQxMTGwt7fXRzbGGNMprQverl27UFhYCDc3N7i5uaGgoAA7d+7URzbGGNMprS88ZkwbHm7TEDCJ\n",
              "z++yjtu89f86PIbWH1rs27ev1WuWlpZwd3fHsGHDOhyou1u/fj2qqqqwbdu2dtsx+fv7Y+XKlZg2\n",
              "bZpO1jtlyhRs3boVjo6OOhmPsT8jrQve/v37cerUKUycOBESiQRnzpyBl5cXrl69im3btmHmzJn6\n",
              "yMke47vvvuvqCIwZPK3P4fXv3x9ZWVn48ccf8e9//xtZWVkYOHAgMjIy8MEHH+gjo05p6iQMAGlp\n",
              "aXB2dsZrr70GuVwOFxcXXLx4EQsXLoSLiwvGjRsntrPPycnBxIkT4ebmBicnp6fe7hMnTsDT0xN2\n",
              "dnZYvXo1ms8u+Pv7t5gVhoeHi11L9uzZAycnJwiCABcXF7HTia2trdgLz9/fH9HR0fD19cXo0aPF\n",
              "RgEAUFNTg4iICHh5eUEul2Pp0qWor68HAHzwwQcYO3YsBEGAIAgoKSlpc38x1h1pPcO7evUqxowZ\n",
              "Iz53dHREQUEBbG1tYWJi+K2ANHUSbnb58mV88cUX2LlzJ2JiYhAQEIAzZ85gzJgxeP3117Ft2zZs\n",
              "2bIFtra2OHHiBHr16oX79+/Dx8cHQUFB8Pb21irLpUuXkJGRAZVKBT8/Pxw4cABz5sxp9z2rV6/G\n",
              "5cuXYW1tDZVK1arDcLPCwkKkpqZCpVLByckJZ8+exfjx47F69Wr4+vris88+AxEhIiIC27dvx5Il\n",
              "SxAXF4cbN26gT58+uHfvHkxMTPD999+3ub8epanjMTVyx2NmOLSuUGZmZti3bx+ICESEffv2PbbJ\n",
              "pCFpr5OwnZ0d3N3dAQAeHh6ws7MTi7uXlxfy8/MBNM0SlyxZAhcXF3h7e6OkpKRVp+EnMX/+fPTo\n",
              "0QN9+/bF3Llz2+0m3CwwMBDz5s3D9u3bUVRU1Oa+nzVrFqRSKfr06QNBEFBYWAgASElJwZYtWyAI\n",
              "AlxdXXH69GkUFBTA3Nwc9vb2mDt3Lnbv3o2Kigr07t37iTsvA5o7Ht+4xe3EmOHQuuAlJiYiISEB\n",
              "vXr1Qu/evZGQkIDPP/8ctbW13eImL+11Eu7du7e4nKmpaavnarUaQNO3SwYNGoSsrCz8/PPP8Pf3\n",
              "f2yn4CfR3E1YKpW22YX466+/xqZNm6BSqTBlypQ270LWVnYiwtdff43s7GxkZ2fjypUr2L17N0xN\n",
              "TXHu3DmsXLkSv//+O7y9vXH69Okn6rzcTFPHY+vBDh3eL4zpitYFz9HREZmZmSgvL8edO3eQmZmJ\n",
              "sWPHol+/fnjuuef0kVGnNHUSvnZNu/suVFZWYvjw4ZBKpbhy5UqLVlnaSE5Ohkqlwv3796FUKsVO\n",
              "0g93IS4qKsKZM2cANN1qsbCwEB4eHoiOjkZ4eDgyMzO1Wue0adPw8ccfiwWwsrISBQUFqKmpwa1b\n",
              "t+Dr64uYmBhMnDgRWVlZWu0vTR2PJd3gNAczHlqfw1Or1di+fTsKCwvx6aeforCwECUlJQgICNBH\n",
              "Pp3LycnBunXrQERQq9WYN28e5HI50tLSnniM9957D/PmzcMXX3yB0aNHP/W2jx07FhMmTEBFRQVe\n",
              "fPFFzJ49GwDw9ttvY9asWXBxcYFMJsO4ceMANLXYX7RoESoqKiCVSmFlZYXExESt1rl161asXbsW\n",
              "giDAxMQEUqkUmzdvRu/evREeHo7a2lpIJBLY29tjwYIFyMjI0Li/GOuOtL7wODIyEg0NDThz5gzy\n",
              "8vJQVVWFoKAgXLhwQV8ZWTfGFx4zXemSC4/PnTuH7OxsuLq6Ami66FilUnU4CPtz8vMfhc3xHf9F\n",
              "ZUwXtD7B8vDJcKDpMKuRLz1gjHUDWhc8uVyO5ORkNDY2oqCgAJGRkfD399dDNMYY0y2tC158fDxO\n",
              "nz6NmzdvYsKECTAxMcGmTZv0kY0xxnRK63N4dXV12L17N3bv3i2+dufOHfTr10+nwRhjTNe0nuFp\n",
              "+i4lf7+SMdYdPPEMr76+HnV1dWhoaEBNTY34Rffq6mrU1tbqLSBjjOnKE8/wNm7cCEtLS+Tm5sLC\n",
              "wgKWlpawtLSEi4sL5s6dq8+MjDGmE09c8GJjY9HY2IilS5eisbFRfFRVVSEmJkafGRljTCe4xTvT\n",
              "q1dlEqzz7Nzv0zrsbXj8Qswoaf2bmJ+fj+effx5Dhw7FwIEDxQczLGlpaRAEoatjMGZQtC54ERER\n",
              "WLhwIQYMGID09HSEh4cjOjpaH9kYY0yntC54d+/exaxZs2BiYgIXFxfs3r1b401q2NNpq6V6YmIi\n",
              "BEGAQqGAh4cHiouLoVarERISAg8PD8hkMsyZM6fNT8x/+OEHTJw4Ee7u7vDy8kJqaiqA1jPB3Nxc\n",
              "2NraAgCKi4thaWmJ6OhoyOVyyGSyJ2pSypih0vrC4+aOt2ZmZiguLsaQIUNw584dnQczVppa0Kel\n",
              "pWHDhg3IyMiAtbU17t27B6CpsadSqcQzzzwDIkJUVBQ++eQTrF27tsWYv/76K9avX48ffvgB5ubm\n",
              "KCgogK+vL4qLix+bp7q6GmPHjkVcXBzOnTuHsLAwFBYWwszMrNWymlq8N/DXrJkB0brg+fn5oby8\n",
              "HMuXL4e7uzt69uwp9nFjHfdwS/VJkyZhypQpOHr0KObNmwdra2sAQN++fQEAjY2N2Lp1K44ePQq1\n",
              "Wo3q6mr4+Pi0GvPYsWMoKCiAn5+f+JqJiQlKS0sfm0cqlWLhwoUAAG9vbwwdOhRZWVktxmq2ceNG\n",
              "vP/++y23Z9ATbzpjeqf1Ia2fnx9MTU0xZ84cZGdn49ChQ2KnXtZxmlqqV1VVaVxWqVTi5MmTSE9P\n",
              "R05ODqKjozW2miciPPfcc2Jb9+zsbPz222+wt7dvt518W5pb0T9KU4t3ORc8ZkC0LngxMTGwtLQE\n",
              "ANjY2IgtwZluaGqpPm/ePCQnJ+PGjRsAgHv37uHevXuorKzEoEGDYG5ujpqaGvFWjo8KCQnB8ePH\n",
              "cfHiRfG15tbwo0aNQklJCW7fvg0ASEpKavFetVotvpaZmYmysrI2P/3V1OLdlDu8MwOi9SHtoyQS\n",
              "SYsZAusYTS3o/fz8EBsbi5CQEEgkEvTs2RP/+te/MH/+fBw5cgSOjo6wsrKCr68vSkpKWo1pZ2cH\n",
              "pVKJZcuW4d69e6ivr4erqyuUSiWGDh2Kt99+G15eXhg8eDCef/75Fu+1sLBAbm4uFAoF1Go1lEql\n",
              "xvN3jHUHWl947Ovri48//lg8V/TTTz9hzZo14o1m2J9HcXExBEFo85D6SaxatQrx8fG6C8VYB2g9\n",
              "w9u8eTOmT58u3q81Pz8f33zzjc6DMcaYrmld8MaPH4+8vDycPXsWAODj4yOe02N/Lra2th2a3TFm\n",
              "aJ7qHN6AAQMwZcoUXWdhjDG94s/QGGNGgwseY8xocMFjjBkNLniMMaPBBY8xZjS44DG9+scvpzE8\n",
              "ce3jF2SsExhtwZNIJG1eYyYIAmpqajo3UBfYtWsXtmzZ0tUxGOs0Hf4u7Z9RdnZ2V0foFJGRkV0d\n",
              "gbFOZbQzPACIi4uDq6srHBwcsH//fvH1h2d/GRkZEAQBLi4uWLRoERQKBdLS0jSOp6krMdDUgUQu\n",
              "l0Mul2Pq1Kn47bffAAB79+5FUFAQ/vrXv8LJyQk+Pj64dOkSpk+fjrFjxyI4OBh//PEHAGD9+vV4\n",
              "6aWXEBAQgDFjxuCFF15AeXk5AODEiRMYP348XF1dIZPJ8Pnnn4uZFi5ciGXLliEwMBAODg6YMWMG\n",
              "6uvrxTFXrlzZYn94eXnBzc0NoaGhYiOCb7/9FnK5HIIgwNnZGUeOHOnwvmesS5CRAkDvvfceEREV\n",
              "FhbSgAEDqKioSPxZZWUlPXjwgIYPH04nT54kIqKTJ08SAEpNTW01XmpqKtna2lJZWRkREdXW1lJt\n",
              "bS3l5OTQ4MGD6fr160RE9MEHH1BoaCgRESUmJpK5uTmVlJQQEdHcuXNp1KhRdPPmTSIimjp1KiUk\n",
              "JBARUWxsLFlZWdGNGzeIiOi1116jiIgIIiKqqKggtVpNRETl5eU0YsQIunbtGhERLViwgLy8vKi2\n",
              "tpbUajX5+PiQUqkUx1yxYgUREe3fv5+WLFkijrNv3z6aMmUKERHJ5XLKyMggIqKGhgaqrKzUuE/r\n",
              "6uqourq6xaNfoDsN++eaJ/tLYUzPjPqQdsmSJQCaesL5+fnh1KlT4v0cAODy5cuQSqWYPHkyAGDy\n",
              "5MkYPXq0xrHa6kqcmpqK0NBQDBs2DAAQFRWFDRs2iC21xo8fjxEjRgAAPDw8oFKpMHjwYACAp6cn\n",
              "8vPzxXVMnToVQ4YMAQAsXboUM2bMAACUl5dj8eLFuHr1KqRSKcrLy5Gbm4vhw4cDAKZPny7m8fLy\n",
              "QmFhYav8KSkpOH/+PNzd3QGgRcuvwMBArFixAuHh4QgODm6zH56mjsc9Rg3VuCxjXcGoD2kf1VYn\n",
              "X22X0eb9vXv3Fv9samra6rlarX7sWJGRkZg4cSJycnKQnZ0NBweHFp2Ln2RMIsK6devEjsg5OTnI\n",
              "yckBAMTHxyMxMRF9+/bFggULsHnzZo15NHU87vkX6/Z2B2OdyqgLXmJiIoCmvm+nT5+Gr69vi587\n",
              "OjpCpVIhPT0dAJCeno6CggKNY73wwgsauxJPnjwZx44dQ1lZGYCmT0YDAwNhamqqdd7vvvsOt27d\n",
              "AgDs2bNHbK1fWVmJkSNHQiKR4NSpU/j555+1HnvatGnYtWsXKioqAAAqlQpZWVkAmma6MpkMy5cv\n",
              "x2uvvYZz585pHENTx2OYduw/CMZ0yagPaRsaGuDq6ora2lrs2LGjxeEs0PQP+ODBg3j99dfR2NgI\n",
              "d3d3ODo6amyH1VZXYmdnZ2zZsgWhoaEAmtrif/bZZ0+V19fXF3PmzBHvR9Hc0n3Tpk2IiorC3//+\n",
              "dwiCgHHjxmk99iuvvILy8nLx8F2tVmPRokVwdXXFO++8gytXrqBnz57o27cvdu7c+VT5GetqWnc8\n",
              "NjY1NTViS/Pz58+LtylsPifWWdavX4+qqips27atU9fbUf1DPGE5OxDXX93U1VEYM+4Z3pP4+uuv\n",
              "sXXrVhARpFIpkpKSOr3YdWdLZb6I52LHDATP8Jhe8T0tmCEx6g8tGGPGhQseY8xo8Dk8pjcPHjzA\n",
              "999/j4aGhqe6DKerNDQ0IDMzE15eXt0qN9B9s+si98iRI7FixYp2l+FzeExv7t69CwsLC1RXVzdd\n",
              "k9dNdNfcQPfN3lm5+ZCWMWY0uOAxxowGFzzGmNHggsf0plevXoiNjUWvXr26OopWumtuoPtm76zc\n",
              "/KEFY8xo8AyPMWY0uOAxxowGFzzGmNHggsf0Ij8/Hz4+PnBwcICnpyd++eWXro7UJltbWzg6OkIQ\n",
              "BAiCgEOHDgEwvG148803YWtrC4lE0uLOeu3lNJRtaCt7W/se0FP2rrqZBvtzmzx5MiUmJhIR0Vdf\n",
              "fUUeHh5dG6gdI0eOpKysrFavG9o2pKen07Vr11rlbS+noWxDW9nb2vdE+snOBY/p3K1bt8jMzIxU\n",
              "KhURETU2NtLgwYMpPz+/i5NppukfnSFvw8N528tpiNvwpAVPX9n5kJbp3LVr12BtbQ2ptKk3hUQi\n",
              "wYgRI1BaWtrFydo2f/58uLi4YPHixbh9+3a32Yb2cnaXbXh03wP6+x3igseM3qlTp3Dx4kX873//\n",
              "w6BBg7BgwYKujmQ0Onvfc3sopnM2Nja4ceMG1Go1pFIpiAilpaXi/XcNTXOuHj16YOXKlXBwcOg2\n",
              "29BeTnNzc4PfBk37HtDf7xDP8JjOPfvss3Bzc0NycjKApvuCDB8+HHZ2dl2crLXa2lpUVVWJzw8c\n",
              "OABXV9dusw3t5TT0bWhr3wN6/B3q0BlAxtpw+fJl8vb2Jnt7e3J3d6eLFy92dSSNCgsLSRAEcnFx\n",
              "IWdnZwoLC6OioiIiMrxtWLp0KQ0bNoxMTU3p2WefpdGjRz82p6Fsg6bs7e17fWXn79IyxowGH9Iy\n",
              "xowGFzzGmNHggscYMxpc8BhjRoMLHmPMaHDBY4wZDS54jDGjwQWPMWY0uOAxxowGFzzGmNHggscY\n",
              "Mxr/DxlNla+R/FPCAAAAAElFTkSuQmCC\n",
              "\">\n",
              "        \n",
              "      </div>\n",
              "      <script></script>\n",
              "      <script type=\"text/javascript\">\n",
              "        (() => {\n",
              "          const chartElement = document.getElementById(\"chart-916bed82-29e3-4a8c-ae99-74745b36a868\");\n",
              "          async function getCodeForChartHandler(event) {\n",
              "            const chartCodeResponse =  await google.colab.kernel.invokeFunction(\n",
              "                'getCodeForChart', [\"chart-916bed82-29e3-4a8c-ae99-74745b36a868\"], {});\n",
              "            const responseJson = chartCodeResponse.data['application/json'];\n",
              "            await google.colab.notebook.addCell(responseJson.code, 'code');\n",
              "          }\n",
              "          chartElement.onclick = getCodeForChartHandler;\n",
              "        })();\n",
              "      </script>\n",
              "      <style>\n",
              "        .colab-quickchart-chart-with-code  {\n",
              "            display: block;\n",
              "            float: left;\n",
              "            border: 1px solid transparent;\n",
              "        }\n",
              "\n",
              "        .colab-quickchart-chart-with-code:hover {\n",
              "            cursor: pointer;\n",
              "            border: 1px solid #aaa;\n",
              "        }\n",
              "      </style>"
            ]
          },
          "metadata": {}
        }
      ]
    }
  ]
}